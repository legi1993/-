{
 "cells": [
  {
   "cell_type": "markdown",
   "metadata": {},
   "source": [
    "# Markdown basics"
   ]
  },
  {
   "cell_type": "markdown",
   "metadata": {},
   "source": [
    "1. *로 글씨를 둘러싸면 기울기와 굵은 글씨 효과를 나타낼 수 있습니다\n",
    "     * 1개 사용시 *기울기*\n",
    "     * 2개 사용시 **굵게**\n",
    "\n",
    "2. *로 리스트를 작성할 수 있수 있습니다\n",
    "    * 서울과학기술대학교\n",
    "    \n",
    "     \n",
    "3. 숫자로 리스트를 작성하는 또다른 방법\n",
    "    1. 서울과학기술대학교\n",
    "      1. 청운관\n",
    "      2. 혜성관\n",
    "\n",
    "숫자를 1. 2. 3. 처럼 작성하거나 아래 소제목을 달고싶으면 tab이나 sapcebar로 들여쓰면 됩니다      \n",
    "\n",
    "----------------------------"
   ]
  },
  {
   "cell_type": "markdown",
   "metadata": {},
   "source": [
    "# Headings\n",
    "1. #을 한 개 혹은 여러개를 사용하여 알맞은 제목크기로 조절 가능합니다\n",
    "    * ## #2개 크기 \n",
    "    * ### #3개 크기\n",
    "\n",
    "#은 6개까지 크기가 변하고 7개부턴 6개랑 동일합니다\n",
    "\n",
    "2. 수평선을 이용하여 크기 조절이 가능합니다 제목 밑에 = 와 - 로 밑줄을 그어줍니다\n",
    "```\n",
    "제목 혹은 제목\n",
    "==         --    \n",
    "```\n",
    "하면 \n",
    "제목\n",
    "--\n",
    "제목\n",
    "==\n",
    "이 됩니다\n",
    "\n",
    "수평선은 \n",
    "\n",
    "```\n",
    "***\n",
    "---\n",
    "___\n",
    "```\n",
    "와 같이 3번이상 써주면 아래와 같은 효과를 줍니다\n",
    "\n",
    "_____________________"
   ]
  },
  {
   "cell_type": "markdown",
   "metadata": {},
   "source": [
    "# Embedded code\n",
    "\n",
    "코드를 실행이 아닌 설명 목적으로 작성할 수 있습니다\n",
    "\n",
    "```\n",
    "def f(x):\n",
    "    \"\"\"a docstring\"\"\"\n",
    "    return x**2\n",
    "```\n",
    "\n",
    "`(backtick)을 이용하여 코드가 실행되는걸 막고 원형 그대로 들어나게 합니다\n",
    "\n",
    "```\n",
    "`$\\int_{a}^{b}f(x)g(x)dx$`\n",
    "```\n",
    "로 하면 `$\\int_{a}^{b}f(x)g(x)dx$`\n",
    "\n",
    "혹은 코드 위아래를 ```로 둘러싸면 됩니다 \n",
    "\n",
    "-------------------------"
   ]
  },
  {
   "cell_type": "markdown",
   "metadata": {},
   "source": [
    "# LaTeX equations\n",
    "$사이에 LaTeX equations를 집어넣어서 여러 공식을 표현할 수 있으며 하나로 둘러싸면 그대로 표현되고 두개로 둘러싸면 중앙에 배치됩니다 https://www.codecogs.com/latex/eqneditor.php 이 사이트를 참고합니다  \n",
    "\n",
    "\n",
    "`$\\int_{a}^{b}f(x)g(x)dx$`는\n",
    "$\\int_{a}^{b}f(x)g(x)dx$\n",
    "\n",
    "\n",
    "`$$\\int_{a}^{b}f(x)g(x)dx$$`는\n",
    "$$\\int_{a}^{b}f(x)g(x)dx$$\n",
    "\n",
    "---------------------------------"
   ]
  },
  {
   "cell_type": "markdown",
   "metadata": {},
   "source": [
    "# Table\n",
    "```\n",
    "|서울     |과학기술   |대학교   |\n",
    "|:------  |:--------:|------:   |\n",
    "|화학     |생명       |공학     |\n",
    "|000000000|22222222222|333333333|\n",
    "```\n",
    "은 \n",
    "\n",
    "|서울     |과학기술   |대학교   |\n",
    "|:------  |:--------:|------:   |\n",
    "|화학     |생명       |공학     |\n",
    "|000000000|22222222222|333333333|\n",
    "\n",
    "`-`를 통해 제목을 구분지어 주고 `|`로 표를 그린다 `:`을 통해 좌,우,중앙정렬이 가능하다\n"
   ]
  },
  {
   "cell_type": "markdown",
   "metadata": {},
   "source": [
    "# Local files\n",
    "\n",
    "파일 \n",
    "```\n",
    "[subdirectory/]<filename>\n",
    "```\n",
    "파이썬 로고가 이미지 폴더안에 있을경우\n",
    "```\n",
    "<img src=\"../images/python_logo.svg\" />\n",
    "```\n",
    "영상의 경우\n",
    "```\n",
    "<video controls src=\"../images/animation.m4v\" />\n",
    "```"
   ]
  },
  {
   "cell_type": "code",
   "execution_count": null,
   "metadata": {},
   "outputs": [],
   "source": []
  }
 ],
 "metadata": {
  "kernelspec": {
   "display_name": "Python 3",
   "language": "python",
   "name": "python3"
  },
  "language_info": {
   "codemirror_mode": {
    "name": "ipython",
    "version": 3
   },
   "file_extension": ".py",
   "mimetype": "text/x-python",
   "name": "python",
   "nbconvert_exporter": "python",
   "pygments_lexer": "ipython3",
   "version": "3.7.3"
  }
 },
 "nbformat": 4,
 "nbformat_minor": 2
}
