{
  "nbformat": 4,
  "nbformat_minor": 0,
  "metadata": {
    "colab": {
      "name": "7-2(3).ipynb의 사본",
      "provenance": [],
      "collapsed_sections": []
    },
    "kernelspec": {
      "name": "python3",
      "display_name": "Python 3"
    }
  },
  "cells": [
    {
      "cell_type": "code",
      "metadata": {
        "id": "NAVqrAxepig1",
        "colab_type": "code",
        "outputId": "b9ce5890-0213-4802-d5b6-20d161a8d4f6",
        "colab": {
          "base_uri": "https://localhost:8080/",
          "height": 649
        }
      },
      "source": [
        "!pip install tensorflow-gpu==2.0.0-rc2"
      ],
      "execution_count": 0,
      "outputs": [
        {
          "output_type": "stream",
          "text": [
            "Requirement already satisfied: tensorflow-gpu==2.0.0-rc2 in /usr/local/lib/python3.6/dist-packages (2.0.0rc2)\n",
            "Requirement already satisfied: wrapt>=1.11.1 in /usr/local/lib/python3.6/dist-packages (from tensorflow-gpu==2.0.0-rc2) (1.11.2)\n",
            "Requirement already satisfied: numpy<2.0,>=1.16.0 in /usr/local/lib/python3.6/dist-packages (from tensorflow-gpu==2.0.0-rc2) (1.17.4)\n",
            "Requirement already satisfied: gast==0.2.2 in /usr/local/lib/python3.6/dist-packages (from tensorflow-gpu==2.0.0-rc2) (0.2.2)\n",
            "Requirement already satisfied: tf-estimator-nightly<1.14.0.dev2019080602,>=1.14.0.dev2019080601 in /usr/local/lib/python3.6/dist-packages (from tensorflow-gpu==2.0.0-rc2) (1.14.0.dev2019080601)\n",
            "Requirement already satisfied: opt-einsum>=2.3.2 in /usr/local/lib/python3.6/dist-packages (from tensorflow-gpu==2.0.0-rc2) (3.1.0)\n",
            "Requirement already satisfied: six>=1.10.0 in /usr/local/lib/python3.6/dist-packages (from tensorflow-gpu==2.0.0-rc2) (1.12.0)\n",
            "Requirement already satisfied: tensorboard<2.1.0,>=2.0.0 in /usr/local/lib/python3.6/dist-packages (from tensorflow-gpu==2.0.0-rc2) (2.0.1)\n",
            "Requirement already satisfied: wheel>=0.26 in /usr/local/lib/python3.6/dist-packages (from tensorflow-gpu==2.0.0-rc2) (0.33.6)\n",
            "Requirement already satisfied: google-pasta>=0.1.6 in /usr/local/lib/python3.6/dist-packages (from tensorflow-gpu==2.0.0-rc2) (0.1.8)\n",
            "Requirement already satisfied: termcolor>=1.1.0 in /usr/local/lib/python3.6/dist-packages (from tensorflow-gpu==2.0.0-rc2) (1.1.0)\n",
            "Requirement already satisfied: astor>=0.6.0 in /usr/local/lib/python3.6/dist-packages (from tensorflow-gpu==2.0.0-rc2) (0.8.0)\n",
            "Requirement already satisfied: absl-py>=0.7.0 in /usr/local/lib/python3.6/dist-packages (from tensorflow-gpu==2.0.0-rc2) (0.8.1)\n",
            "Requirement already satisfied: keras-applications>=1.0.8 in /usr/local/lib/python3.6/dist-packages (from tensorflow-gpu==2.0.0-rc2) (1.0.8)\n",
            "Requirement already satisfied: protobuf>=3.6.1 in /usr/local/lib/python3.6/dist-packages (from tensorflow-gpu==2.0.0-rc2) (3.10.0)\n",
            "Requirement already satisfied: keras-preprocessing>=1.0.5 in /usr/local/lib/python3.6/dist-packages (from tensorflow-gpu==2.0.0-rc2) (1.1.0)\n",
            "Requirement already satisfied: grpcio>=1.8.6 in /usr/local/lib/python3.6/dist-packages (from tensorflow-gpu==2.0.0-rc2) (1.15.0)\n",
            "Requirement already satisfied: werkzeug>=0.11.15 in /usr/local/lib/python3.6/dist-packages (from tensorboard<2.1.0,>=2.0.0->tensorflow-gpu==2.0.0-rc2) (0.16.0)\n",
            "Requirement already satisfied: google-auth<2,>=1.6.3 in /usr/local/lib/python3.6/dist-packages (from tensorboard<2.1.0,>=2.0.0->tensorflow-gpu==2.0.0-rc2) (1.7.1)\n",
            "Requirement already satisfied: google-auth-oauthlib<0.5,>=0.4.1 in /usr/local/lib/python3.6/dist-packages (from tensorboard<2.1.0,>=2.0.0->tensorflow-gpu==2.0.0-rc2) (0.4.1)\n",
            "Requirement already satisfied: markdown>=2.6.8 in /usr/local/lib/python3.6/dist-packages (from tensorboard<2.1.0,>=2.0.0->tensorflow-gpu==2.0.0-rc2) (3.1.1)\n",
            "Requirement already satisfied: setuptools>=41.0.0 in /usr/local/lib/python3.6/dist-packages (from tensorboard<2.1.0,>=2.0.0->tensorflow-gpu==2.0.0-rc2) (41.4.0)\n",
            "Requirement already satisfied: h5py in /usr/local/lib/python3.6/dist-packages (from keras-applications>=1.0.8->tensorflow-gpu==2.0.0-rc2) (2.8.0)\n",
            "Requirement already satisfied: pyasn1-modules>=0.2.1 in /usr/local/lib/python3.6/dist-packages (from google-auth<2,>=1.6.3->tensorboard<2.1.0,>=2.0.0->tensorflow-gpu==2.0.0-rc2) (0.2.7)\n",
            "Requirement already satisfied: rsa<4.1,>=3.1.4 in /usr/local/lib/python3.6/dist-packages (from google-auth<2,>=1.6.3->tensorboard<2.1.0,>=2.0.0->tensorflow-gpu==2.0.0-rc2) (4.0)\n",
            "Requirement already satisfied: cachetools<3.2,>=2.0.0 in /usr/local/lib/python3.6/dist-packages (from google-auth<2,>=1.6.3->tensorboard<2.1.0,>=2.0.0->tensorflow-gpu==2.0.0-rc2) (3.1.1)\n",
            "Requirement already satisfied: requests-oauthlib>=0.7.0 in /usr/local/lib/python3.6/dist-packages (from google-auth-oauthlib<0.5,>=0.4.1->tensorboard<2.1.0,>=2.0.0->tensorflow-gpu==2.0.0-rc2) (1.3.0)\n",
            "Requirement already satisfied: pyasn1<0.5.0,>=0.4.6 in /usr/local/lib/python3.6/dist-packages (from pyasn1-modules>=0.2.1->google-auth<2,>=1.6.3->tensorboard<2.1.0,>=2.0.0->tensorflow-gpu==2.0.0-rc2) (0.4.7)\n",
            "Requirement already satisfied: oauthlib>=3.0.0 in /usr/local/lib/python3.6/dist-packages (from requests-oauthlib>=0.7.0->google-auth-oauthlib<0.5,>=0.4.1->tensorboard<2.1.0,>=2.0.0->tensorflow-gpu==2.0.0-rc2) (3.1.0)\n",
            "Requirement already satisfied: requests>=2.0.0 in /usr/local/lib/python3.6/dist-packages (from requests-oauthlib>=0.7.0->google-auth-oauthlib<0.5,>=0.4.1->tensorboard<2.1.0,>=2.0.0->tensorflow-gpu==2.0.0-rc2) (2.21.0)\n",
            "Requirement already satisfied: chardet<3.1.0,>=3.0.2 in /usr/local/lib/python3.6/dist-packages (from requests>=2.0.0->requests-oauthlib>=0.7.0->google-auth-oauthlib<0.5,>=0.4.1->tensorboard<2.1.0,>=2.0.0->tensorflow-gpu==2.0.0-rc2) (3.0.4)\n",
            "Requirement already satisfied: idna<2.9,>=2.5 in /usr/local/lib/python3.6/dist-packages (from requests>=2.0.0->requests-oauthlib>=0.7.0->google-auth-oauthlib<0.5,>=0.4.1->tensorboard<2.1.0,>=2.0.0->tensorflow-gpu==2.0.0-rc2) (2.8)\n",
            "Requirement already satisfied: urllib3<1.25,>=1.21.1 in /usr/local/lib/python3.6/dist-packages (from requests>=2.0.0->requests-oauthlib>=0.7.0->google-auth-oauthlib<0.5,>=0.4.1->tensorboard<2.1.0,>=2.0.0->tensorflow-gpu==2.0.0-rc2) (1.24.3)\n",
            "Requirement already satisfied: certifi>=2017.4.17 in /usr/local/lib/python3.6/dist-packages (from requests>=2.0.0->requests-oauthlib>=0.7.0->google-auth-oauthlib<0.5,>=0.4.1->tensorboard<2.1.0,>=2.0.0->tensorflow-gpu==2.0.0-rc2) (2019.9.11)\n"
          ],
          "name": "stdout"
        }
      ]
    },
    {
      "cell_type": "code",
      "metadata": {
        "id": "DaxK74I_pqVy",
        "colab_type": "code",
        "colab": {}
      },
      "source": [
        "import tensorflow as tf\n",
        "import numpy as np\n",
        "import matplotlib.pyplot as plt"
      ],
      "execution_count": 0,
      "outputs": []
    },
    {
      "cell_type": "code",
      "metadata": {
        "id": "N8e2JVg__Wg9",
        "colab_type": "code",
        "outputId": "93b9a70a-fa63-4863-d8e3-7bbe777dae0e",
        "colab": {
          "base_uri": "https://localhost:8080/",
          "height": 35
        }
      },
      "source": [
        "tf.__version__"
      ],
      "execution_count": 0,
      "outputs": [
        {
          "output_type": "execute_result",
          "data": {
            "text/plain": [
              "'2.0.0'"
            ]
          },
          "metadata": {
            "tags": []
          },
          "execution_count": 94
        }
      ]
    },
    {
      "cell_type": "code",
      "metadata": {
        "id": "sqi3oLOt_Zlf",
        "colab_type": "code",
        "colab": {}
      },
      "source": [
        "(x_train_all, y_train_all), (x_test, y_test) = tf.keras.datasets.fashion_mnist.load_data()"
      ],
      "execution_count": 0,
      "outputs": []
    },
    {
      "cell_type": "code",
      "metadata": {
        "id": "l50JfM_5_s3V",
        "colab_type": "code",
        "outputId": "483aefca-2d3a-43f6-ed2a-cb207164b959",
        "colab": {
          "base_uri": "https://localhost:8080/",
          "height": 35
        }
      },
      "source": [
        "print(x_train_all.shape, y_train_all.shape)"
      ],
      "execution_count": 0,
      "outputs": [
        {
          "output_type": "stream",
          "text": [
            "(60000, 28, 28) (60000,)\n"
          ],
          "name": "stdout"
        }
      ]
    },
    {
      "cell_type": "code",
      "metadata": {
        "id": "yVlEWnKNASpm",
        "colab_type": "code",
        "colab": {}
      },
      "source": [
        "from sklearn.model_selection import train_test_split"
      ],
      "execution_count": 0,
      "outputs": []
    },
    {
      "cell_type": "code",
      "metadata": {
        "id": "hHuFP-j1DMzz",
        "colab_type": "code",
        "colab": {}
      },
      "source": [
        "x_train, x_val, y_train, y_val = train_test_split(x_train_all, y_train_all, stratify=y_train_all, test_size=0.2, random_state=42)"
      ],
      "execution_count": 0,
      "outputs": []
    },
    {
      "cell_type": "code",
      "metadata": {
        "id": "XVvkOUHVGknz",
        "colab_type": "code",
        "outputId": "b6bbdb92-50fa-4f29-864a-1b20c04ab447",
        "colab": {
          "base_uri": "https://localhost:8080/",
          "height": 35
        }
      },
      "source": [
        "np.bincount(y_train)"
      ],
      "execution_count": 0,
      "outputs": [
        {
          "output_type": "execute_result",
          "data": {
            "text/plain": [
              "array([4800, 4800, 4800, 4800, 4800, 4800, 4800, 4800, 4800, 4800])"
            ]
          },
          "metadata": {
            "tags": []
          },
          "execution_count": 98
        }
      ]
    },
    {
      "cell_type": "code",
      "metadata": {
        "id": "WQW1tbbYDsUo",
        "colab_type": "code",
        "colab": {}
      },
      "source": [
        "x_train = x_train / 255\n",
        "x_val = x_val / 255"
      ],
      "execution_count": 0,
      "outputs": []
    },
    {
      "cell_type": "code",
      "metadata": {
        "id": "ccVR4DO_Dus4",
        "colab_type": "code",
        "colab": {}
      },
      "source": [
        "x_train = x_train.reshape(-1, 784)\n",
        "x_val = x_val.reshape(-1, 784)"
      ],
      "execution_count": 0,
      "outputs": []
    },
    {
      "cell_type": "code",
      "metadata": {
        "id": "JpwxcU_xGtSH",
        "colab_type": "code",
        "outputId": "65667120-3228-4dce-b5c0-275953926861",
        "colab": {
          "base_uri": "https://localhost:8080/",
          "height": 35
        }
      },
      "source": [
        "print(x_train.shape, x_val.shape)"
      ],
      "execution_count": 0,
      "outputs": [
        {
          "output_type": "stream",
          "text": [
            "(48000, 784) (12000, 784)\n"
          ],
          "name": "stdout"
        }
      ]
    },
    {
      "cell_type": "code",
      "metadata": {
        "id": "iyoqawRpD8qe",
        "colab_type": "code",
        "colab": {}
      },
      "source": [
        "y_train_encoded = tf.keras.utils.to_categorical(y_train)\n",
        "y_val_encoded = tf.keras.utils.to_categorical(y_val)"
      ],
      "execution_count": 0,
      "outputs": []
    },
    {
      "cell_type": "code",
      "metadata": {
        "id": "_bJSWpg5G2lm",
        "colab_type": "code",
        "outputId": "9ce1b380-9dd2-4b2e-8782-31f551296513",
        "colab": {
          "base_uri": "https://localhost:8080/",
          "height": 35
        }
      },
      "source": [
        "print(y_train_encoded.shape, y_val_encoded.shape)"
      ],
      "execution_count": 0,
      "outputs": [
        {
          "output_type": "stream",
          "text": [
            "(48000, 10) (12000, 10)\n"
          ],
          "name": "stdout"
        }
      ]
    },
    {
      "cell_type": "code",
      "metadata": {
        "id": "nZZa_9w6G9Z4",
        "colab_type": "code",
        "outputId": "2be12bad-673b-4489-f47c-9d4a230c9546",
        "colab": {
          "base_uri": "https://localhost:8080/",
          "height": 35
        }
      },
      "source": [
        "print(y_train[0], y_train_encoded[0])"
      ],
      "execution_count": 0,
      "outputs": [
        {
          "output_type": "stream",
          "text": [
            "6 [0. 0. 0. 0. 0. 0. 1. 0. 0. 0.]\n"
          ],
          "name": "stdout"
        }
      ]
    },
    {
      "cell_type": "markdown",
      "metadata": {
        "id": "HyJ5q6k6qOdd",
        "colab_type": "text"
      },
      "source": [
        "#7-2 텐서플로와 케라스를 사용하여 신경망을 만듭니다\n",
        "\n",
        "다중 분류 신경망을 직접 구현하여 만든 모델을 훈련시키고 성능도 측정해 보았습니다만 7-1절에서 직접 만든 다중 분류 신경망 클래스는 실전에 사용할 수 있을 정도의 성능을 기대하기 어렵습니다. 높은 성능을 가진 인공신경망 모델을 만들기 위해서는 전문적인 라이브러리를 사용해야 합니다. \n",
        "\n",
        "대표적인 딥러닝 패키지인 구글의 텐서플로를 사용하여 인공신경망을 만들어 보겠습니다 특히 텐서플로를 좀 더 쉽게 사용하기 위한 케라스 API(Keras API)에 대해 자세히 알아보겠습니다.\n",
        "\n",
        "----------------------\n",
        "from 위키백과 \n",
        "\n",
        "텐서플로(TensorFlow)는 다양한 작업에대해 데이터 흐름 프로그래밍을 위한(딥러닝을 위한) 오픈소스 소프트웨어 라이브러리이다. \n",
        "\n",
        "케라스(Keras)는 파이썬으로 작성된 오픈 소스 신경망 라이브러리이다. 더 높은 수준의 더 직관적인 추상화 집합을 표현함으로써 백엔드 과학 컴퓨팅 라이브러리임에도 불구하고 신경망을 구성하기 쉽게 만들어준다\n",
        "\n",
        "API(Application Programming Interface, 응용 프로그램 프로그래밍 인터페이스)는 응용 프로그램에서 사용할 수 있도록, 운영 체제나 프로그래밍 언어가 제공하는 기능을 제어할 수 있게 만든 인터페이스를 뜻한다. 주로 파일 제어, 창 제어, 화상 처리, 문자 제어 등을 위한 인터페이스를 제공한다. 예) 파이썬 코드"
      ]
    },
    {
      "cell_type": "markdown",
      "metadata": {
        "id": "pK_-9lKQqTHe",
        "colab_type": "text"
      },
      "source": [
        "## 1. 케라스에 대해 알아봅니다\n",
        "\n",
        "케라스는 딥러닝 패키지를 편리하게 사용하기 위해 만들어진 래퍼(Wrapper)패키지입니다.\n",
        "\n",
        "\n",
        "대표적인 딥러닝 패키지인 텐서플로, 씨아노를 사용해 신경망을 구현하려면 꽤 많은 양의 코드를 입력해야 합니다."
      ]
    },
    {
      "cell_type": "code",
      "metadata": {
        "id": "Fd5o9AYhqZwe",
        "colab_type": "code",
        "colab": {}
      },
      "source": [
        "w = tf.Variable(tf.zeros(shape=(1)))\n",
        "b = tf.Variable(tf.zeros(shape=(1))) # 훈련할 가중치의 변수를 선언합니다\n",
        "\n",
        "#경사 하강법 옵티마이저를 설정합니다\n",
        "optimizer = tf.optimizers.SGD(lr = 0.01)\n",
        "#에포크 횟수만큼 훈련합니다\n",
        "num_epochs = 10\n",
        "for step in range(num_epochs):\n",
        "\n",
        "           #자동 미분을 하여 연산 과정을 기록합니다\n",
        "    with tf.GradientTape() as tape:\n",
        "        z_net = w * x_train + b\n",
        "        z_net = tf.reshape(z_net, [-1])\n",
        "        sqr_errors = tf.square(y_train - z_net)\n",
        "        mean_cost = tf.reduce_mean(sqr.errors)\n",
        "    #손실 함수에 대한 가중치의 그레디언트를 계산합니다\n",
        "    grads = tape.gradinet(mean_cost, [w,b])\n",
        "    # 옵티마이저에 그레이디언트를 반영합니다\n",
        "    optimizer.apply_gradients(zip(grads, [w,b]))"
      ],
      "execution_count": 0,
      "outputs": []
    },
    {
      "cell_type": "markdown",
      "metadata": {
        "id": "WOgs03CksdH8",
        "colab_type": "text"
      },
      "source": [
        "위 신경망을 케라스로 그대로 구현해보겠습니다"
      ]
    },
    {
      "cell_type": "code",
      "metadata": {
        "id": "NkClfI4-qYCq",
        "colab_type": "code",
        "colab": {}
      },
      "source": [
        "# 신경망 모델을 만듭니다\n",
        "model = tf.keras.models.Sequential()\n",
        "# 완전 연결층을 추가합니다\n",
        "model.add(tf.keras.layers.Dense(1))\n",
        "#옵티마이저와 손실함수를 지정합니다\n",
        "model.compile(optimizer='sgd', loss='mse')\n",
        "# 훈련 데이터를 사용하여 에포크 횟수만큼 훈련합니다\n",
        "model.fit(x_train, y_train, epochs=10)"
      ],
      "execution_count": 0,
      "outputs": []
    },
    {
      "cell_type": "markdown",
      "metadata": {
        "id": "rwgY_0m4uGR2",
        "colab_type": "text"
      },
      "source": [
        "케라스로 구현하면서 코드의 양이 확 줄었습니다. 구글은 케라스를 아예 텐서플로 안에 포함시켰습니다. 텐서플로2.0에서는 아예 케라스를 텐서플로 주력 파이썬 API로 만들었습니다. 케라스의 대표 구현은 오픈 소스로 여전히 씨아노나 텐서플로를 백엔드로 지정하여 사용할 수 있습니다. 텐서플로에 구현된 tensorflow.keras 모듈은 케라스 명세를 따르는 텐서플로만을 위한 구현입니다.\n",
        "\n",
        "---------------\n",
        "프런트엔드(front-end)와 백엔드(back-end)라는 용어는 프로세스의 처음과 마지막 단계를 가리킨다. ‘프런트엔드’는 사용자로부터 다양한 형태의 입력을 받아 ‘백엔드’가 사용할 수 있는 규격을 따라 처리할 책임을 진다. \n",
        "![백엔드, 프론트엔드](https://t1.daumcdn.net/cfile/tistory/99866A335A1AB9E71B)\n"
      ]
    },
    {
      "cell_type": "markdown",
      "metadata": {
        "id": "0X2vAyCGvHkw",
        "colab_type": "text"
      },
      "source": [
        "### 케라스를 사용하면 인공신경망의 층을 직관적으로 설계할 수 있습니다\n",
        "\n",
        "다음과 같은 다중 분류 신경망을 만든다고 가정합니다.\n",
        "\n",
        "![다중 분류 신경망](https://github.com/legi1993/eee/blob/master/1573648396443-5405e8b6-38a1-4fd6-8f51-7a4c80d6f070_.jpg?raw=true)\n",
        "\n",
        "\n",
        "케라스는 인공신경망 모델을 만들기 위한 Sequential 클래스와 완전 연결층을 만들기 위한 Dense 클래스를 제공합니다. Sequential 클래스는 이름의 의미 그대로 '순차적으로 층을 쌓은 신경망 모델'이고, Dense 클래스는 모델에 포함된 완전 연결층입니다. 즉, 위의 인공신경망은 은닉층과 출력층을 Dense 클래스의 객체로 구성하고 각각의 객체를 Sequential 클래스 객체에 추가하면 완성됩니다.\n",
        "\n",
        "앞서 직접 구현한 MultiClassNetwork 클래스의 경우 신경망 모델과 층이 명확하게 구분되지 않았습니다. 하지만 케라스는 모델과 층이 명확하게 구분됩니다. 심지어 층을 교체하기도 쉽습니다."
      ]
    },
    {
      "cell_type": "markdown",
      "metadata": {
        "id": "pwaAnXoXyN0i",
        "colab_type": "text"
      },
      "source": [
        "## 2. Sequential 클래스의 사용 방법을 알아봅니다\n",
        "\n",
        "Sequential 클래스를 사용하는 방법은 객체를 생성할 때 층을 추가하는 방법과 객체를 생성한 후 add() 메서드를 사용하여 층을 추가하는 방법이 있습니다"
      ]
    },
    {
      "cell_type": "markdown",
      "metadata": {
        "id": "B2U47fERyjXi",
        "colab_type": "text"
      },
      "source": [
        "### Sequential 객체에 층을 추가합니다\n",
        "\n",
        "Dense 클래스로 만든 층을 추가할 수 있습니다. 신경망 모델에 추가할 층을 파이썬 리스트로 만들어 전달하면 Sequential 클래스의 객체가 만들어질 때 층이 추가됩니다.\n"
      ]
    },
    {
      "cell_type": "code",
      "metadata": {
        "id": "v_zpJSWftCMo",
        "colab_type": "code",
        "colab": {}
      },
      "source": [
        "from tensorflow.keras import Sequential\n",
        "from tensorflow.keras.layers import Dense"
      ],
      "execution_count": 0,
      "outputs": []
    },
    {
      "cell_type": "code",
      "metadata": {
        "id": "GODf2QWhy-C6",
        "colab_type": "code",
        "colab": {}
      },
      "source": [
        "model = Sequential([Dense(...),])"
      ],
      "execution_count": 0,
      "outputs": []
    },
    {
      "cell_type": "markdown",
      "metadata": {
        "id": "WqNYD8JQzwSP",
        "colab_type": "text"
      },
      "source": [
        "### add() 메서드 사용해 층을 추가합니다\n"
      ]
    },
    {
      "cell_type": "code",
      "metadata": {
        "id": "acjmZvLhzLH5",
        "colab_type": "code",
        "colab": {}
      },
      "source": [
        "model = Sequential()\n",
        "model.add(Dense(...))\n",
        "model.add(Dense(...))"
      ],
      "execution_count": 0,
      "outputs": []
    },
    {
      "cell_type": "markdown",
      "metadata": {
        "id": "-osN7VbA0cQ3",
        "colab_type": "text"
      },
      "source": [
        "## 3. Dense 클래스의 사용 방법을 알아봅니다\n",
        "\n",
        "Dense 클래스는 객체를 생성할 때 unit, activation 매개변수를 전달해야 합니다."
      ]
    },
    {
      "cell_type": "markdown",
      "metadata": {
        "id": "XV_6YUoQ0l5k",
        "colab_type": "text"
      },
      "source": [
        "### 뉴런의 개수를 지정하는 매개변수 unit\n",
        "\n",
        "Dense 클래스에 전달해야 하는 첫 매개변수는 층의 유닛 개수입니다. \n",
        "\n",
        "예) 뉴런 갯수 100개\n",
        "\n",
        "**Dense(unit=100, ...)**"
      ]
    },
    {
      "cell_type": "markdown",
      "metadata": {
        "id": "bf3JgE5p07ri",
        "colab_type": "text"
      },
      "source": [
        "### 활성화 함수를 지정하는 매개변수 activation\n",
        "\n",
        "Dense 클래스의 두 번째 매개변수는 활성화 함수를 지정하는 activation입니다. 이 매개변수의 기본값은 None이므로 따로 지정하지 않으면 활성화 함수가 적용되지 않습니다. 활성화 함수에는 소프트맥스 함수(softmax), 하이퍼볼릭 탄젠트 함수(tanh), 렐루 함수(relu)등 많은 함수가 있습니다.\n",
        "\n",
        "예) 시그모이드(=로지스틱) 함수 적용 \n",
        "\n",
        "**Dense(100, activation='sigmoid')**\n",
        "\n",
        "---------------------------\n",
        "소프트맥스 함수: 로지스틱 함수를 일반화한 것\n",
        "\n",
        "하이퍼볼릭 탄젠트 함수: 시그모이드 함수의 크기와 위치를 조절(rescale and shift)한 함수, -1 ~ 1 사이의 출력값\n",
        "\n",
        "렐루 함수: 입력 < 0 이면 0, 입력 > 0 이면 Linear 처럼 동작. 학습속도가 셋중 가장 빠르다\n",
        "\n"
      ]
    },
    {
      "cell_type": "markdown",
      "metadata": {
        "id": "fTFk9w5V0le8",
        "colab_type": "text"
      },
      "source": [
        "## 4. 모델의 최적화 알고리즘과 손실함수를 설정합니다\n",
        "\n",
        "모델을 혼련하기 위해서는 최적화 알고리즘이나 손실함수를 지정해야 합니다. 다중분류의 최적화 알고리즘은 경사 하강법 알고리즘을 사용하고, 손실함수는 크로스 엔트로피 손실함수를 사용합니다."
      ]
    },
    {
      "cell_type": "markdown",
      "metadata": {
        "id": "Y2eu2RTS2vWd",
        "colab_type": "text"
      },
      "source": [
        "### 최적화 알고리즘을 지정하는 매개변수 optimizer\n",
        "\n",
        "Sequential 클래스의 compile() 메서드를 사용하여 최적화 알고리즘과 손실함수를 지정합니다 "
      ]
    },
    {
      "cell_type": "markdown",
      "metadata": {
        "id": "6zTuD9ae4r8s",
        "colab_type": "text"
      },
      "source": [
        "### 손실함수를 지정하는 매개변수 loss\n",
        "\n",
        "loss= mse : 제곱오차 \n",
        "\n",
        "loss= binary_crossentropy : 로지스틱 손실함수(카테고리가 2개인경우)\n",
        "\n",
        "loss= catagorical_crossentropy : 크로스 엔트로피 손실함수(카테고리가 3개 이상인경우)"
      ]
    },
    {
      "cell_type": "code",
      "metadata": {
        "id": "xF0F9AUA3t-C",
        "colab_type": "code",
        "colab": {}
      },
      "source": [
        "model.compile(optimizer='sgd', loss='categorical_crossentropy')  \n",
        "# 최적화 알고리즘은 매개변수 optimizer = sgd를 지정하면 경사하강법을 최적화 알고리즘으로 사용합니다. 이때 학습률의 기본값은 0.01입니다"
      ],
      "execution_count": 0,
      "outputs": []
    },
    {
      "cell_type": "markdown",
      "metadata": {
        "id": "DYtAfnlp8F7M",
        "colab_type": "text"
      },
      "source": [
        "## 5. 모델을 훈련하고 예측합니다\n",
        "\n",
        "모델을 훈련하고 예측하는 메서드는 Sequential 클래스의 fit()메서드와 predict() 메서드 입니다. 이름뿐만 아니라 사용 방법도 비슷합니다. evaluate()메서드는 모델을 검증세트나 테스트 세트에서 평가할때 사용합니다\n",
        "\n",
        "Sequential 클래스 사용법"
      ]
    },
    {
      "cell_type": "code",
      "metadata": {
        "id": "GxdzCViQ6Uh3",
        "colab_type": "code",
        "colab": {}
      },
      "source": [
        "model = Sequential()\n",
        "model.add(Dense(...))\n",
        "model.add(Dense(...))\n",
        "model.compile(optimizer='sgd', loss='categorical_crossentropy') \n",
        "model.fit(x, y, epochs=...)\n",
        "model.predict(x)\n",
        "model.evalute(x,y)"
      ],
      "execution_count": 0,
      "outputs": []
    },
    {
      "cell_type": "markdown",
      "metadata": {
        "id": "cs4r77vq9iD5",
        "colab_type": "text"
      },
      "source": [
        "##6. 케라스로 다중 분류 신경망을 만들어봅니다\n",
        "\n",
        "케라스로 다중 분류 신경망을 만든 다음 패션 MNIST 데이터 세트로 모델을 훈련해 보겠습니다."
      ]
    },
    {
      "cell_type": "markdown",
      "metadata": {
        "id": "q1OLvx-M9w2P",
        "colab_type": "text"
      },
      "source": [
        "### 6-1. 모델 생성하기"
      ]
    },
    {
      "cell_type": "code",
      "metadata": {
        "id": "EtPwWdUi839r",
        "colab_type": "code",
        "colab": {}
      },
      "source": [
        "from tensorflow.keras import Sequential\n",
        "from tensorflow.keras.layers import Dense\n",
        "\n",
        "model = Sequential()"
      ],
      "execution_count": 0,
      "outputs": []
    },
    {
      "cell_type": "markdown",
      "metadata": {
        "id": "wklgQQqe-Y9P",
        "colab_type": "text"
      },
      "source": [
        "###6-2. 은닉층과 출력층을 모델에 추가하기\n",
        "MultiClassNetwork 클래스로 만든 것과 동일한 크기의 신경망을 만듭니다\n",
        "\n",
        "은닉층 유닛: 100개, 시그모이드 함수\n",
        "\n",
        "출력층 유닛: 10개, 소프트맥스 함수\n"
      ]
    },
    {
      "cell_type": "code",
      "metadata": {
        "id": "oDlQmbmf9-AV",
        "colab_type": "code",
        "colab": {}
      },
      "source": [
        "model.add(Dense(100, activation='sigmoid', input_shape=(784,)))\n",
        "model.add(Dense(10, activation='softmax'))\n",
        "\n",
        "# 은닉층에는 input_shape에 입력데이터 크기를 지정해야합니다. 이때 입력 행렬의 첫 번째 차원은 입력 데이터의 갯수이므로 나머지 차원만 (784,)형태로 입력합니다"
      ],
      "execution_count": 0,
      "outputs": []
    },
    {
      "cell_type": "markdown",
      "metadata": {
        "id": "45oea46VBKoH",
        "colab_type": "text"
      },
      "source": [
        "###6-3. 최적화 알고리즘과 손실 함수 지정하기"
      ]
    },
    {
      "cell_type": "code",
      "metadata": {
        "id": "fSrk6njOBHaW",
        "colab_type": "code",
        "colab": {}
      },
      "source": [
        "model.compile(optimizer='sgd', loss='categorical_crossentropy', metrics=['accuracy'])\n",
        "\n",
        "# sgd 경사하강법, categorical_crossentropy 크로스 엔트로피 손실함수"
      ],
      "execution_count": 0,
      "outputs": []
    },
    {
      "cell_type": "markdown",
      "metadata": {
        "id": "XAOtnw8uBmbm",
        "colab_type": "text"
      },
      "source": [
        "metrics 매개변수는 훈련 과정기록으로 정확도를 남기기 위해 추가한 것입니다. 이 매개변수를 지정하지 않으면 History 객체에 기본값으로 손실값(loss)이 기록되는데, 모델의 정확도에 대한 기록도 살펴봐야 하므로 accuracy를 추가했습니다"
      ]
    },
    {
      "cell_type": "markdown",
      "metadata": {
        "id": "8mIsaPG8CGhZ",
        "colab_type": "text"
      },
      "source": [
        "###6-4. 모델 훈련하기\n",
        "\n",
        "fit() 메서드를 통해 모델을 40번의 에포크 동안 훈련합니다.  훈련 세트와 검증 세트에서 측정한 값들을 History 클래스 객체에 담아 반환합니다. 훈련하는 동안 검증세트에 대한 손실과 정확도를 계산할 수 있습니다. \n",
        "\n",
        "이를 위해 validation_data 매개변수에 검증세트를 튜플로 전달합니다. "
      ]
    },
    {
      "cell_type": "code",
      "metadata": {
        "id": "dSXP5c-NBUmV",
        "colab_type": "code",
        "outputId": "9187732f-362f-490c-cb46-5d271adafbab",
        "colab": {
          "base_uri": "https://localhost:8080/",
          "height": 1000
        }
      },
      "source": [
        "history = model.fit(x_train, y_train_encoded, epochs=40, validation_data=(x_val, y_val_encoded))"
      ],
      "execution_count": 0,
      "outputs": [
        {
          "output_type": "stream",
          "text": [
            "Train on 48000 samples, validate on 12000 samples\n",
            "Epoch 1/40\n",
            "48000/48000 [==============================] - 4s 93us/sample - loss: 1.3910 - accuracy: 0.6439 - val_loss: 0.9593 - val_accuracy: 0.7322\n",
            "Epoch 2/40\n",
            "48000/48000 [==============================] - 4s 80us/sample - loss: 0.8391 - accuracy: 0.7416 - val_loss: 0.7468 - val_accuracy: 0.7640\n",
            "Epoch 3/40\n",
            "48000/48000 [==============================] - 4s 81us/sample - loss: 0.7078 - accuracy: 0.7646 - val_loss: 0.6601 - val_accuracy: 0.7804\n",
            "Epoch 4/40\n",
            "48000/48000 [==============================] - 4s 81us/sample - loss: 0.6428 - accuracy: 0.7820 - val_loss: 0.6082 - val_accuracy: 0.7946\n",
            "Epoch 5/40\n",
            "48000/48000 [==============================] - 4s 80us/sample - loss: 0.6011 - accuracy: 0.7944 - val_loss: 0.5734 - val_accuracy: 0.8060\n",
            "Epoch 6/40\n",
            "48000/48000 [==============================] - 4s 81us/sample - loss: 0.5710 - accuracy: 0.8053 - val_loss: 0.5480 - val_accuracy: 0.8113\n",
            "Epoch 7/40\n",
            "48000/48000 [==============================] - 4s 81us/sample - loss: 0.5486 - accuracy: 0.8114 - val_loss: 0.5275 - val_accuracy: 0.8176\n",
            "Epoch 8/40\n",
            "48000/48000 [==============================] - 4s 86us/sample - loss: 0.5309 - accuracy: 0.8171 - val_loss: 0.5139 - val_accuracy: 0.8213\n",
            "Epoch 9/40\n",
            "48000/48000 [==============================] - 4s 84us/sample - loss: 0.5166 - accuracy: 0.8219 - val_loss: 0.4983 - val_accuracy: 0.8275\n",
            "Epoch 10/40\n",
            "48000/48000 [==============================] - 4s 82us/sample - loss: 0.5047 - accuracy: 0.8258 - val_loss: 0.4896 - val_accuracy: 0.8306\n",
            "Epoch 11/40\n",
            "48000/48000 [==============================] - 4s 80us/sample - loss: 0.4946 - accuracy: 0.8282 - val_loss: 0.4785 - val_accuracy: 0.8345\n",
            "Epoch 12/40\n",
            "48000/48000 [==============================] - 4s 81us/sample - loss: 0.4861 - accuracy: 0.8311 - val_loss: 0.4710 - val_accuracy: 0.8367\n",
            "Epoch 13/40\n",
            "48000/48000 [==============================] - 4s 81us/sample - loss: 0.4787 - accuracy: 0.8341 - val_loss: 0.4644 - val_accuracy: 0.8378\n",
            "Epoch 14/40\n",
            "48000/48000 [==============================] - 4s 80us/sample - loss: 0.4719 - accuracy: 0.8361 - val_loss: 0.4578 - val_accuracy: 0.8415\n",
            "Epoch 15/40\n",
            "48000/48000 [==============================] - 4s 81us/sample - loss: 0.4658 - accuracy: 0.8380 - val_loss: 0.4530 - val_accuracy: 0.8417\n",
            "Epoch 16/40\n",
            "48000/48000 [==============================] - 4s 82us/sample - loss: 0.4604 - accuracy: 0.8395 - val_loss: 0.4474 - val_accuracy: 0.8428\n",
            "Epoch 17/40\n",
            "48000/48000 [==============================] - 4s 81us/sample - loss: 0.4550 - accuracy: 0.8409 - val_loss: 0.4435 - val_accuracy: 0.8446\n",
            "Epoch 18/40\n",
            "48000/48000 [==============================] - 4s 80us/sample - loss: 0.4504 - accuracy: 0.8432 - val_loss: 0.4400 - val_accuracy: 0.8448\n",
            "Epoch 19/40\n",
            "48000/48000 [==============================] - 4s 82us/sample - loss: 0.4458 - accuracy: 0.8443 - val_loss: 0.4360 - val_accuracy: 0.8469\n",
            "Epoch 20/40\n",
            "48000/48000 [==============================] - 4s 81us/sample - loss: 0.4421 - accuracy: 0.8452 - val_loss: 0.4312 - val_accuracy: 0.8475\n",
            "Epoch 21/40\n",
            "48000/48000 [==============================] - 4s 82us/sample - loss: 0.4381 - accuracy: 0.8469 - val_loss: 0.4294 - val_accuracy: 0.8473\n",
            "Epoch 22/40\n",
            "48000/48000 [==============================] - 4s 81us/sample - loss: 0.4342 - accuracy: 0.8482 - val_loss: 0.4249 - val_accuracy: 0.8503\n",
            "Epoch 23/40\n",
            "48000/48000 [==============================] - 4s 81us/sample - loss: 0.4308 - accuracy: 0.8489 - val_loss: 0.4225 - val_accuracy: 0.8496\n",
            "Epoch 24/40\n",
            "48000/48000 [==============================] - 4s 81us/sample - loss: 0.4280 - accuracy: 0.8501 - val_loss: 0.4190 - val_accuracy: 0.8528\n",
            "Epoch 25/40\n",
            "48000/48000 [==============================] - 4s 81us/sample - loss: 0.4244 - accuracy: 0.8515 - val_loss: 0.4204 - val_accuracy: 0.8530\n",
            "Epoch 26/40\n",
            "48000/48000 [==============================] - 4s 81us/sample - loss: 0.4217 - accuracy: 0.8517 - val_loss: 0.4166 - val_accuracy: 0.8543\n",
            "Epoch 27/40\n",
            "48000/48000 [==============================] - 4s 81us/sample - loss: 0.4188 - accuracy: 0.8530 - val_loss: 0.4110 - val_accuracy: 0.8558\n",
            "Epoch 28/40\n",
            "48000/48000 [==============================] - 4s 81us/sample - loss: 0.4160 - accuracy: 0.8536 - val_loss: 0.4100 - val_accuracy: 0.8554\n",
            "Epoch 29/40\n",
            "48000/48000 [==============================] - 4s 81us/sample - loss: 0.4135 - accuracy: 0.8546 - val_loss: 0.4123 - val_accuracy: 0.8544\n",
            "Epoch 30/40\n",
            "48000/48000 [==============================] - 4s 80us/sample - loss: 0.4114 - accuracy: 0.8554 - val_loss: 0.4054 - val_accuracy: 0.8597\n",
            "Epoch 31/40\n",
            "48000/48000 [==============================] - 4s 80us/sample - loss: 0.4090 - accuracy: 0.8564 - val_loss: 0.4033 - val_accuracy: 0.8589\n",
            "Epoch 32/40\n",
            "48000/48000 [==============================] - 4s 81us/sample - loss: 0.4065 - accuracy: 0.8575 - val_loss: 0.4025 - val_accuracy: 0.8603\n",
            "Epoch 33/40\n",
            "48000/48000 [==============================] - 4s 81us/sample - loss: 0.4044 - accuracy: 0.8574 - val_loss: 0.3998 - val_accuracy: 0.8587\n",
            "Epoch 34/40\n",
            "48000/48000 [==============================] - 4s 81us/sample - loss: 0.4018 - accuracy: 0.8584 - val_loss: 0.4008 - val_accuracy: 0.8559\n",
            "Epoch 35/40\n",
            "48000/48000 [==============================] - 4s 81us/sample - loss: 0.4002 - accuracy: 0.8589 - val_loss: 0.3968 - val_accuracy: 0.8593\n",
            "Epoch 36/40\n",
            "48000/48000 [==============================] - 4s 82us/sample - loss: 0.3981 - accuracy: 0.8598 - val_loss: 0.3942 - val_accuracy: 0.8619\n",
            "Epoch 37/40\n",
            "48000/48000 [==============================] - 4s 81us/sample - loss: 0.3961 - accuracy: 0.8601 - val_loss: 0.3929 - val_accuracy: 0.8611\n",
            "Epoch 38/40\n",
            "48000/48000 [==============================] - 4s 83us/sample - loss: 0.3942 - accuracy: 0.8613 - val_loss: 0.3914 - val_accuracy: 0.8623\n",
            "Epoch 39/40\n",
            "48000/48000 [==============================] - 4s 81us/sample - loss: 0.3926 - accuracy: 0.8624 - val_loss: 0.3892 - val_accuracy: 0.8635\n",
            "Epoch 40/40\n",
            "48000/48000 [==============================] - 4s 81us/sample - loss: 0.3906 - accuracy: 0.8621 - val_loss: 0.3883 - val_accuracy: 0.8637\n"
          ],
          "name": "stdout"
        }
      ]
    },
    {
      "cell_type": "markdown",
      "metadata": {
        "id": "FuN8L1u-E88g",
        "colab_type": "text"
      },
      "source": [
        "###6-5. 손실과 정확도 그래프 그리기\n",
        "\n",
        "History 딕셔너리의 키를 출력해 보면 어떤 측정 지표들이 들어 있는지 알 수 있습니다"
      ]
    },
    {
      "cell_type": "code",
      "metadata": {
        "id": "DPYJWY9xC2BO",
        "colab_type": "code",
        "outputId": "e69323f7-95a1-4651-be4e-38ad31a84dfe",
        "colab": {
          "base_uri": "https://localhost:8080/",
          "height": 35
        }
      },
      "source": [
        "print(history.history.keys())"
      ],
      "execution_count": 0,
      "outputs": [
        {
          "output_type": "stream",
          "text": [
            "dict_keys(['loss', 'accuracy', 'val_loss', 'val_accuracy'])\n"
          ],
          "name": "stdout"
        }
      ]
    },
    {
      "cell_type": "markdown",
      "metadata": {
        "id": "ZsU6R4UBFOZM",
        "colab_type": "text"
      },
      "source": [
        "훈련 세트와 검증 세트에서의 손실을 나타내는 loss, val_loss가 있고 정확도를 의미하는 accuracy, val_accuracy가 있습니다. \n",
        "\n",
        "그래프를 그려보겠습니다"
      ]
    },
    {
      "cell_type": "code",
      "metadata": {
        "id": "ZGEUFlqMFLfX",
        "colab_type": "code",
        "outputId": "9705dafa-7874-4320-c186-be8e06ff7de5",
        "colab": {
          "base_uri": "https://localhost:8080/",
          "height": 279
        }
      },
      "source": [
        "plt.plot(history.history['loss'])\n",
        "plt.plot(history.history['val_loss'])\n",
        "plt.ylabel('loss')\n",
        "plt.xlabel('epoch')\n",
        "plt.legend(['train_loss', 'val_loss'])\n",
        "plt.show()\n"
      ],
      "execution_count": 0,
      "outputs": [
        {
          "output_type": "display_data",
          "data": {
            "image/png": "[encoded data removed]",
            "text/plain": [
              "<Figure size 432x288 with 1 Axes>"
            ]
          },
          "metadata": {
            "tags": []
          }
        }
      ]
    },
    {
      "cell_type": "code",
      "metadata": {
        "id": "VOZOFbwfFiQv",
        "colab_type": "code",
        "outputId": "e5fccfc7-4577-478e-f623-e79a2e20510c",
        "colab": {
          "base_uri": "https://localhost:8080/",
          "height": 279
        }
      },
      "source": [
        "plt.plot(history.history['accuracy'])\n",
        "plt.plot(history.history['val_accuracy'])\n",
        "plt.ylabel('accuracy')\n",
        "plt.xlabel('epoch')\n",
        "plt.legend(['train_accuracy', 'val_accuracy'])\n",
        "plt.show()"
      ],
      "execution_count": 0,
      "outputs": [
        {
          "output_type": "display_data",
          "data": {
            "image/png": "[encoded data removed]",
            "text/plain": [
              "<Figure size 432x288 with 1 Axes>"
            ]
          },
          "metadata": {
            "tags": []
          }
        }
      ]
    },
    {
      "cell_type": "markdown",
      "metadata": {
        "id": "wfNJVmxsH86L",
        "colab_type": "text"
      },
      "source": [
        "###6-6. 검증 세트 정확도 계산하기\n",
        "\n",
        "evaluate() 메서드를 사용하면 손실값과 metrics 매개변수에 추가한 측정 지표를 계산하여 반환합니다. "
      ]
    },
    {
      "cell_type": "code",
      "metadata": {
        "id": "JlFE7nq7JlH9",
        "colab_type": "code",
        "outputId": "84b2a474-978e-41bc-fa46-e1657c53e697",
        "colab": {
          "base_uri": "https://localhost:8080/",
          "height": 35
        }
      },
      "source": [
        "loss, accuracy = model.evaluate(x_val, y_val_encoded, verbose=0)\n",
        "print(accuracy)"
      ],
      "execution_count": 0,
      "outputs": [
        {
          "output_type": "stream",
          "text": [
            "0.86375\n"
          ],
          "name": "stdout"
        }
      ]
    },
    {
      "cell_type": "markdown",
      "metadata": {
        "id": "q_-16DawJ2eg",
        "colab_type": "text"
      },
      "source": [
        "케라스로 구현한 다중 분류 신경망이 MultiClassNetwork에 비해 성능이 크게 좋지 않은 이유는 이미지 데이터에 잘 맞는 모델이 아니기 때문입니다.\n",
        "\n"
      ]
    },
    {
      "cell_type": "code",
      "metadata": {
        "id": "nRFmeXzLJs6O",
        "colab_type": "code",
        "colab": {}
      },
      "source": [
        ""
      ],
      "execution_count": 0,
      "outputs": []
    }
  ]
}