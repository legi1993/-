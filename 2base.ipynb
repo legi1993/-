{
  "nbformat": 4,
  "nbformat_minor": 0,
  "metadata": {
    "colab": {
      "name": "Untitled",
      "provenance": [],
      "collapsed_sections": []
    },
    "kernelspec": {
      "name": "python3",
      "display_name": "Python 3"
    }
  },
  "cells": [
    {
      "cell_type": "markdown",
      "metadata": {
        "id": "N13-GI8zGEXF",
        "colab_type": "text"
      },
      "source": [
        "#소수점 2진수 변환방법\n",
        "\n",
        "1이 될때까지 2를 곱해주고 1을 초과하면 소수점 부분만을 계속 곱해준다.\n",
        "\n",
        "0.7 * 2 = 1.4<br>\n",
        "0.4 * 2 = 0.8<br>\n",
        "0.8 * 2 = 1.6<br>\n",
        "0.6 * 2 = 1.2<br>\n",
        "0.2 * 2 = 0.4<br>\n",
        "0.4 * 2 = 0.8<br>\n",
        "\n",
        "여기서 정수부분만 읽는다. \n",
        "\n",
        "\n",
        "0.7 는 101100....(2)로 표현된다.\n",
        "\n",
        "\n",
        "\n"
      ]
    },
    {
      "cell_type": "code",
      "metadata": {
        "id": "IuQLxKpBOLF4",
        "colab_type": "code",
        "colab": {}
      },
      "source": [
        ""
      ],
      "execution_count": 0,
      "outputs": []
    }
  ]
}