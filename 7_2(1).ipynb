{
  "nbformat": 4,
  "nbformat_minor": 0,
  "metadata": {
    "colab": {
      "name": "7-2(1).ipynb",
      "provenance": [],
      "collapsed_sections": []
    },
    "kernelspec": {
      "name": "python3",
      "display_name": "Python 3"
    }
  },
  "cells": [
    {
      "cell_type": "code",
      "metadata": {
        "id": "NAVqrAxepig1",
        "colab_type": "code",
        "colab": {}
      },
      "source": [
        "!pip install tensorflow-gpu==2.0.0-rc2 # 텐서플로 2.0 RC2 버전을 설치해야합니다. 2.0 버전보다 더 적은 에포크만으로 높은 정확도와 낮은 손실값에 도달합니다"
      ],
      "execution_count": 0,
      "outputs": []
    },
    {
      "cell_type": "code",
      "metadata": {
        "id": "DaxK74I_pqVy",
        "colab_type": "code",
        "colab": {}
      },
      "source": [
        "import tensorflow as tf\n",
        "import numpy as np\n",
        "import matplotlib.pyplot as plt"
      ],
      "execution_count": 0,
      "outputs": []
    },
    {
      "cell_type": "code",
      "metadata": {
        "id": "N8e2JVg__Wg9",
        "colab_type": "code",
        "colab": {
          "base_uri": "https://localhost:8080/",
          "height": 35
        },
        "outputId": "b1b9b7a6-1c23-4280-9e6f-e6fca3c5949c"
      },
      "source": [
        "tf.__version__"
      ],
      "execution_count": 88,
      "outputs": [
        {
          "output_type": "execute_result",
          "data": {
            "text/plain": [
              "'2.0.0'"
            ]
          },
          "metadata": {
            "tags": []
          },
          "execution_count": 88
        }
      ]
    },
    {
      "cell_type": "code",
      "metadata": {
        "id": "sqi3oLOt_Zlf",
        "colab_type": "code",
        "colab": {}
      },
      "source": [
        "(x_train_all, y_train_all), (x_test, y_test) = tf.keras.datasets.fashion_mnist.load_data()"
      ],
      "execution_count": 0,
      "outputs": []
    },
    {
      "cell_type": "code",
      "metadata": {
        "id": "l50JfM_5_s3V",
        "colab_type": "code",
        "colab": {
          "base_uri": "https://localhost:8080/",
          "height": 35
        },
        "outputId": "c78adc8d-1b8d-43ac-d740-e476d6342a62"
      },
      "source": [
        "print(x_train_all.shape, y_train_all.shape)"
      ],
      "execution_count": 59,
      "outputs": [
        {
          "output_type": "stream",
          "text": [
            "(60000, 28, 28) (60000,)\n"
          ],
          "name": "stdout"
        }
      ]
    },
    {
      "cell_type": "code",
      "metadata": {
        "id": "yVlEWnKNASpm",
        "colab_type": "code",
        "colab": {}
      },
      "source": [
        "from sklearn.model_selection import train_test_split"
      ],
      "execution_count": 0,
      "outputs": []
    },
    {
      "cell_type": "code",
      "metadata": {
        "id": "hHuFP-j1DMzz",
        "colab_type": "code",
        "colab": {}
      },
      "source": [
        "x_train, x_val, y_train, y_val = train_test_split(x_train_all, y_train_all, stratify=y_train_all, test_size=0.2, random_state=42)"
      ],
      "execution_count": 0,
      "outputs": []
    },
    {
      "cell_type": "code",
      "metadata": {
        "id": "XVvkOUHVGknz",
        "colab_type": "code",
        "colab": {
          "base_uri": "https://localhost:8080/",
          "height": 35
        },
        "outputId": "9e542c5c-ffbe-4858-dd9a-f3666db9a2f4"
      },
      "source": [
        "np.bincount(y_train)"
      ],
      "execution_count": 61,
      "outputs": [
        {
          "output_type": "execute_result",
          "data": {
            "text/plain": [
              "array([4800, 4800, 4800, 4800, 4800, 4800, 4800, 4800, 4800, 4800])"
            ]
          },
          "metadata": {
            "tags": []
          },
          "execution_count": 61
        }
      ]
    },
    {
      "cell_type": "code",
      "metadata": {
        "id": "WQW1tbbYDsUo",
        "colab_type": "code",
        "colab": {}
      },
      "source": [
        "x_train = x_train / 255\n",
        "x_val = x_val / 255"
      ],
      "execution_count": 0,
      "outputs": []
    },
    {
      "cell_type": "code",
      "metadata": {
        "id": "ccVR4DO_Dus4",
        "colab_type": "code",
        "colab": {}
      },
      "source": [
        "x_train = x_train.reshape(-1, 784)\n",
        "x_val = x_val.reshape(-1, 784)"
      ],
      "execution_count": 0,
      "outputs": []
    },
    {
      "cell_type": "code",
      "metadata": {
        "id": "JpwxcU_xGtSH",
        "colab_type": "code",
        "colab": {
          "base_uri": "https://localhost:8080/",
          "height": 35
        },
        "outputId": "86ecc52e-e557-42e3-eea5-0f4647e87566"
      },
      "source": [
        "print(x_train.shape, x_val.shape)"
      ],
      "execution_count": 84,
      "outputs": [
        {
          "output_type": "stream",
          "text": [
            "(48000, 784) (12000, 784)\n"
          ],
          "name": "stdout"
        }
      ]
    },
    {
      "cell_type": "code",
      "metadata": {
        "id": "iyoqawRpD8qe",
        "colab_type": "code",
        "colab": {}
      },
      "source": [
        "y_train_encoded = tf.keras.utils.to_categorical(y_train)\n",
        "y_val_encoded = tf.keras.utils.to_categorical(y_val)"
      ],
      "execution_count": 0,
      "outputs": []
    },
    {
      "cell_type": "code",
      "metadata": {
        "id": "_bJSWpg5G2lm",
        "colab_type": "code",
        "colab": {
          "base_uri": "https://localhost:8080/",
          "height": 35
        },
        "outputId": "9bc90177-dc2c-4445-fc2c-e7cce46c1735"
      },
      "source": [
        "print(y_train_encoded.shape, y_val_encoded.shape)"
      ],
      "execution_count": 86,
      "outputs": [
        {
          "output_type": "stream",
          "text": [
            "(48000, 10) (12000, 10)\n"
          ],
          "name": "stdout"
        }
      ]
    },
    {
      "cell_type": "code",
      "metadata": {
        "id": "nZZa_9w6G9Z4",
        "colab_type": "code",
        "colab": {
          "base_uri": "https://localhost:8080/",
          "height": 35
        },
        "outputId": "204ac11c-26b9-4185-a4ac-a35c3531ab56"
      },
      "source": [
        "print(y_train[0], y_train_encoded[0])"
      ],
      "execution_count": 87,
      "outputs": [
        {
          "output_type": "stream",
          "text": [
            "6 [0. 0. 0. 0. 0. 0. 1. 0. 0. 0.]\n"
          ],
          "name": "stdout"
        }
      ]
    },
    {
      "cell_type": "markdown",
      "metadata": {
        "id": "HyJ5q6k6qOdd",
        "colab_type": "text"
      },
      "source": [
        "#7-2 텐서플로와 케라스를 사용하여 신경망을 만듭니다\n",
        "\n",
        "다중 분류 신경망을 직접 구현하여 만든 모델을 훈련시키고 성능도 측정해 보았습니다만 7-1절에서 직접 만든 다중 분류 신경망 클래스는 실전에 사용할 수 있을 정도의 성능을 기대하기 어렵습니다. 높은 성능을 가진 인공신경망 모델을 만들기 위해서는 전문적인 라이브러리를 사용해야 합니다. \n",
        "\n",
        "대표적인 딥러닝 패키지인 구글의 텐서플로를 사용하여 인공신경망을 만들어 보겠습니다 특히 텐서플로를 좀 더 쉽게 사용하기 위한 케라스 API(Keras API)에 대해 자세히 알아보겠습니다.\n",
        "\n",
        "텐서플로?\n",
        "\n",
        "케라스?\n",
        "\n",
        "API?"
      ]
    },
    {
      "cell_type": "markdown",
      "metadata": {
        "id": "pK_-9lKQqTHe",
        "colab_type": "text"
      },
      "source": [
        "## 케라스에 대해 알아봅니다\n",
        "\n",
        "케라스는 딥러닝 패키지를 편리하게 사용하기 위해 만들어진 래퍼(Wrapper)패키지입니다.\n",
        "\n",
        "래퍼 패키지란?\n",
        "\n",
        "대표적인 딥러닝 패키지인 텐서플로, 씨아노를 사용해 신경망을 구현하려면 꽤 많은 양의 코드를 입력해야 합니다.\n",
        "\n",
        "씨아노?"
      ]
    },
    {
      "cell_type": "code",
      "metadata": {
        "id": "Fd5o9AYhqZwe",
        "colab_type": "code",
        "colab": {}
      },
      "source": [
        "w = tf.Variable(tf.zeros(shape=(1)))\n",
        "b = tf.Variable(tf.zeros(shape=(1))) # 훈련할 가중치의 변수를 선언합니다\n",
        "\n",
        "#경사 하강법 옵티마이저를 설정합니다\n",
        "optimizer = tf.optimizers.SGD(lr = 0.01)\n",
        "#에포크 횟수만큼 훈련합니다\n",
        "num_epochs = 10\n",
        "for step in range(num_epochs):\n",
        "\n",
        "\n",
        "    with tf.GradientTape() as tape:\n",
        "        z_net = w * x_train + b\n",
        "        z_net = tf.reshape(z_net, [-1])\n",
        "        sqr_errors = tf.square(y_train - z_net)\n",
        "        mean_cost = tf.reduce_mean(sqr.errors)\n",
        "\n",
        "    grads = tape.gradinet(mean_cost, [w,b])\n",
        "\n",
        "    optimizer.apply_gradients(zip(grads, [w,b]))"
      ],
      "execution_count": 0,
      "outputs": []
    },
    {
      "cell_type": "markdown",
      "metadata": {
        "id": "WOgs03CksdH8",
        "colab_type": "text"
      },
      "source": [
        "위 신경망을 케라스로 그대로 구현해보겠습니다"
      ]
    },
    {
      "cell_type": "code",
      "metadata": {
        "id": "NkClfI4-qYCq",
        "colab_type": "code",
        "colab": {}
      },
      "source": [
        "# 신경망 모델을 만듭니다\n",
        "model = tf.keras.models.Sequential()\n",
        "# 완전 연결층을 추가합니다\n",
        "model.add(tf.keras.layers.Dense(1))\n",
        "#옵티마이저와 손실함수를 지정합니다\n",
        "model.compile(optimizer='sgd', loss='mse')\n",
        "# 훈련 데이터를 사용하여 에포크 횟수만큼 훈련합니다\n",
        "model.fit(x_train, y_train, epochs=10)"
      ],
      "execution_count": 0,
      "outputs": []
    },
    {
      "cell_type": "markdown",
      "metadata": {
        "id": "rwgY_0m4uGR2",
        "colab_type": "text"
      },
      "source": [
        "케라스로 구현하면서 코드의 양이 확 줄었습니다. 구글은 케라스를 아예 텐서플로 안에 포함시켰습니다. 텐서플로2.0에서는 아예 케라스를 텐서플로 주력 파이썬 API로 만들었습니다. 케라스의 대표 구현은 오픈 소스로 여전히 씨아노나 텐서플로를 백엔드로 지정하여 사용할 수 있습니다. 텐서플로에 구현된 tensorflow.keras 모듈은 케라스 명세를 따르는 텐서플로만을 위한 구현입니다.\n",
        "\n",
        "명세?\n",
        "\n",
        "백엔드?\n",
        "\n"
      ]
    },
    {
      "cell_type": "markdown",
      "metadata": {
        "id": "0X2vAyCGvHkw",
        "colab_type": "text"
      },
      "source": [
        "### 케라스를 사용하면 인공신경망의 층을 직관적으로 설계할 수 있습니다\n",
        "\n",
        "다음과 같은 다중 분류 신경망을 만든다고 가정합니다.\n",
        "\n",
        "![다중 분류 신경망](https://lh3.googleusercontent.com/wIvo9A5hajvbi-pH3Z7quYscF-THcs8hM-C6HN5A_H3j6E9m4FoN02XagLoSD9kze_E7WqSsdK7f-LQRohXChY3PJEd0Mb18cpG8gQZor7mBUQqvQT4FkCbr0nTt06s2BMO02bdRkxyHiHM-I8WvQr8EwLoSHEYQNnzoC5UxOIxXhcEc5ZYoDnEx6F0uZTGQhusnDSjl52-vlvn6ZC2Wd6Bn9N4U7ch18lFwr-7raRaWBzLGAB8BjMGSeB_uGEwRiyvsAD4p5aQsnxf0twD6F10OgSStjJnVXX4eRQ5jbl9EUJRcqy7ps4FAFUdp9lArBM5tLeM2A5gcjsUbG1UoSQshzP_GtaOb7HFrntCcTUxo_N68OIGA64CQenBMDTAlTq4omekxM88aU1tnpy1wbpCwacl8IvHWwgB3MuKLUf6xCgKCUFZ5Y6BcWRpM4X12C8MXXUVf0pMsV-ct2hjIPofDb8EwWmQwgub6CiN9nxucRPDPK4FlD1kKEY5C0DRslmjfR14UkTZIaZzLL1xo6NaeIZeRdnCloNQE9PEN7onE_y1dUE7D5JE5kLcCSWjP7z3dlUhw2gIi7vPmGlQ8-0cqBBPHJh8vBW886_uFeItIsT6yTxIfDZc153Q3RBpQ3lF6n6rlO1jFQLlfrYOu7uMaSaYlYYEe2-E7Yuugom7XM0sf=w300-h169-no)\n",
        "\n",
        "케라스는 인공신경망 모델을 만들기 위한 Sequential 클래스와 완전 연결층을 만들기 위한 Dense 클래스를 제공합니다. Sequential 클래스는 이름의 의미 그대로 '순차적으로 층을 쌓은 신경망 모델'이고, Dense 클래스는 모델에 포함된 완전 연결층입니다. 즉, 위의 인공신경망은 은닉층과 출력층을 Dense 클래스의 객체로 구성하고 각각의 객체를 Sequential 클래스 객체에 추가하면 완성됩니다.\n",
        "\n",
        "앞서 직접 구현한 MultiClassNetwork 클래스의 경우 신경망 모델과 층이 명확하게 구분되지 않았습니다. 하지만 케라스는 모델과 층이 명확하게 구분됩니다. 심지어 층을 교체하기도 쉽습니다."
      ]
    },
    {
      "cell_type": "markdown",
      "metadata": {
        "id": "pwaAnXoXyN0i",
        "colab_type": "text"
      },
      "source": [
        "## Sequential 클래스의 사용 방법을 알아봅니다\n",
        "\n",
        "Sequential 클래스를 사용하는 방법은 객체를 생성할 때 층을 추가하는 방법과 객체를 생성한 후 add() 메서드를 사용하여 층을 추가하는 방법이 있습니다"
      ]
    },
    {
      "cell_type": "markdown",
      "metadata": {
        "id": "B2U47fERyjXi",
        "colab_type": "text"
      },
      "source": [
        "### Sequential 객체에 층을 추가합니다\n",
        "\n",
        "Dense 클래스로 만든 층을 추가할 수 있습니다. 신경망 모델에 추가할 층을 파이썬 리스트로 만들어 전달하면 Sequential 클래스의 객체가 만들어질 때 층이 추가됩니다.\n"
      ]
    },
    {
      "cell_type": "code",
      "metadata": {
        "id": "v_zpJSWftCMo",
        "colab_type": "code",
        "colab": {}
      },
      "source": [
        "from tensorflow.keras import Sequential\n",
        "from tensorflow.keras.layers import Dense"
      ],
      "execution_count": 0,
      "outputs": []
    },
    {
      "cell_type": "code",
      "metadata": {
        "id": "GODf2QWhy-C6",
        "colab_type": "code",
        "colab": {}
      },
      "source": [
        "model = Sequential([Dense(...),])"
      ],
      "execution_count": 0,
      "outputs": []
    },
    {
      "cell_type": "markdown",
      "metadata": {
        "id": "WqNYD8JQzwSP",
        "colab_type": "text"
      },
      "source": [
        "### add() 메서드 사용해 층을 추가합니다\n"
      ]
    },
    {
      "cell_type": "code",
      "metadata": {
        "id": "acjmZvLhzLH5",
        "colab_type": "code",
        "colab": {}
      },
      "source": [
        "model = Sequential()\n",
        "model.add(Dense(...))\n",
        "model.add(Dense(...))"
      ],
      "execution_count": 0,
      "outputs": []
    },
    {
      "cell_type": "markdown",
      "metadata": {
        "id": "-osN7VbA0cQ3",
        "colab_type": "text"
      },
      "source": [
        "## Dense 클래스의 사용 방법을 알아봅니다\n",
        "\n",
        "Dense 클래스는 객체를 생성할 때 다음과 같은 매개변수를 전달해야 합니다."
      ]
    },
    {
      "cell_type": "markdown",
      "metadata": {
        "id": "XV_6YUoQ0l5k",
        "colab_type": "text"
      },
      "source": [
        "### 뉴런의 개수를 지정하는 매개변수 unit\n",
        "\n",
        "Dense 클래스에 전달해야 하는 첫 매개변수는 층의 유닛 개수입니다. \n",
        "\n",
        "예) 뉴런 갯수 100개\n",
        "\n",
        "**Dense(unit=100, ...)**"
      ]
    },
    {
      "cell_type": "markdown",
      "metadata": {
        "id": "bf3JgE5p07ri",
        "colab_type": "text"
      },
      "source": [
        "### 활성화 함수를 지정하는 매개변수 activation\n",
        "\n",
        "Dense 클래스의 두 번째 매개변수는 활성화 함수를 지정하는 activation입니다. 이 매개변수의 기본값은 None이므로 따로 지정하지 않으면 활성화 함수가 적용되지 않습니다. 활성화 함수에는 소프트맥스 함수(softmax), 하이퍼볼릭 탄젠트 함수(tanh), 렐루 함수(relu)등 많은 함수가 있습니다.\n",
        "\n",
        "예) 시그모이드 함수 적용 \n",
        "\n",
        "**Dense(100, activation='sigmoid')**\n",
        "\n",
        "소프트맥스 함수: 출력의 강도를 정규화하는 함수(7-1 참고)\n",
        "\n",
        "하이퍼볼릭 탄젠트 함수?\n",
        "\n",
        "렐루 함수? \n",
        "\n"
      ]
    },
    {
      "cell_type": "markdown",
      "metadata": {
        "id": "fTFk9w5V0le8",
        "colab_type": "text"
      },
      "source": [
        "## 모델의 최적화 알고리즘과 손실함수를 설정합니다\n",
        "\n",
        "모델을 혼련하기 위해서는 최적화 알고리즘이나 손실함수를 지정해야 합니다. 다중분류의 최적화 알고리즘은 경사 하강법 알고리즘을 사용하고, 손실함수는 크로스 엔트로피 손실함수를 사용합니다."
      ]
    },
    {
      "cell_type": "markdown",
      "metadata": {
        "id": "Y2eu2RTS2vWd",
        "colab_type": "text"
      },
      "source": [
        "### 최적화 알고리즘을 지정하는 매개변수 optimizer\n",
        "\n",
        "Sequential 클래스의 compile() 메서드를 사용하여 최적화 알고리즘과 손실함수를 지정합니다 "
      ]
    },
    {
      "cell_type": "markdown",
      "metadata": {
        "id": "6zTuD9ae4r8s",
        "colab_type": "text"
      },
      "source": [
        "### 손실함수를 지정하는 매개변수 loss\n",
        "\n",
        "loss= mse : 제곱오차 \n",
        "\n",
        "loss= binary_crossentropy : 로지스틱 손실함수(출력값 2개인경우)\n",
        "\n",
        "loss= catagorical_crossentropy : 크로스 엔트로피 손실함수(출력값이 3개 이상인경우)"
      ]
    },
    {
      "cell_type": "code",
      "metadata": {
        "id": "xF0F9AUA3t-C",
        "colab_type": "code",
        "colab": {}
      },
      "source": [
        "model.compile(optimizer='sgd', loss='categorical_crossentropy')  \n",
        "# 최적화 알고리즘은 매개변수 optimizer = sgd를 지정하면 경사하강법을 최적화 알고리즘으로 사용합니다. 이때 학습률의 기본값은 0.01입니다"
      ],
      "execution_count": 0,
      "outputs": []
    },
    {
      "cell_type": "markdown",
      "metadata": {
        "id": "DYtAfnlp8F7M",
        "colab_type": "text"
      },
      "source": [
        "## 모델을 훈련하고 예측합니다\n",
        "\n",
        "모델을 훈련하고 예측하는 메서드는 Sequential 클래스의 fit()메서드와 predict() 메서드 입니다. 이름뿐만 아니라 사용 방법도 비슷합니다. evaluate()메서드는 모델을 검증세트나 테스트 세트에서 평가할때 사용합니다\n",
        "\n",
        "Sequential 클래스 사용법"
      ]
    },
    {
      "cell_type": "code",
      "metadata": {
        "id": "GxdzCViQ6Uh3",
        "colab_type": "code",
        "colab": {}
      },
      "source": [
        "model = Sequential()\n",
        "model.add(Dense(...))\n",
        "model.add(Dense(...))\n",
        "model.compile(optimizer='sgd', loss='categorical_crossentropy') \n",
        "model.fit(x, y, epochs=...)\n",
        "model.predict(x)\n",
        "model.evalute(x,y)"
      ],
      "execution_count": 0,
      "outputs": []
    },
    {
      "cell_type": "markdown",
      "metadata": {
        "id": "cs4r77vq9iD5",
        "colab_type": "text"
      },
      "source": [
        "## 케라스로 다중 분류 신경망을 만들어봅니다\n",
        "\n",
        "케라스로 다중 분류 신경망을 만든 다음 패션 MNIST 데이터 세트로 모델을 훈련해 보겠습니다."
      ]
    },
    {
      "cell_type": "markdown",
      "metadata": {
        "id": "q1OLvx-M9w2P",
        "colab_type": "text"
      },
      "source": [
        "### 1. 모델 생성하기"
      ]
    },
    {
      "cell_type": "code",
      "metadata": {
        "id": "EtPwWdUi839r",
        "colab_type": "code",
        "colab": {}
      },
      "source": [
        "from tensorflow.keras import Sequential\n",
        "from tensorflow.keras.layers import Dense\n",
        "\n",
        "model = Sequential()"
      ],
      "execution_count": 0,
      "outputs": []
    },
    {
      "cell_type": "markdown",
      "metadata": {
        "id": "wklgQQqe-Y9P",
        "colab_type": "text"
      },
      "source": [
        "###2. 은닉층과 출력층을 모델에 추가하기\n",
        "MultiClassNetwork 클래스로 만든 것과 동일한 크기의 신경망을 만듭니다\n",
        "\n",
        "은닉층 유닛: 100개, 시그모이드 함수\n",
        "\n",
        "출력층 유닛: 10개, 소프트맥스 함수\n"
      ]
    },
    {
      "cell_type": "code",
      "metadata": {
        "id": "oDlQmbmf9-AV",
        "colab_type": "code",
        "colab": {}
      },
      "source": [
        "model.add(Dense(100, activation='sigmoid', input_shape=(784,)))\n",
        "model.add(Dense(10, activation='softmax'))\n",
        "\n",
        "# 은닉층에는 input_shape에 입력데이터 크기를 지정해야합니다. 이때 입력 행렬의 첫 번째 차원은 입력 데이터의 갯수이므로 나머지 차원만 (784,)형태로 입력합니다"
      ],
      "execution_count": 0,
      "outputs": []
    },
    {
      "cell_type": "markdown",
      "metadata": {
        "id": "45oea46VBKoH",
        "colab_type": "text"
      },
      "source": [
        "###3. 최적화 알고리즘과 손실 함수 지정하기"
      ]
    },
    {
      "cell_type": "code",
      "metadata": {
        "id": "fSrk6njOBHaW",
        "colab_type": "code",
        "colab": {}
      },
      "source": [
        "model.compile(optimizer='sgd', loss='categorical_crossentropy', metrics=['accuracy'])\n",
        "\n",
        "# sgd 경사하강법, categorical_crossentropy 크로스 엔트로피 손실함수"
      ],
      "execution_count": 0,
      "outputs": []
    },
    {
      "cell_type": "markdown",
      "metadata": {
        "id": "XAOtnw8uBmbm",
        "colab_type": "text"
      },
      "source": [
        "metrics 매개변수는 훈련 과정기록으로 정확도를 남기기 위해 추가한 것입니다. 이 매개변수를 지정하지 않으면 History 객체에 기본값으로 손실값(loss)이 기록되는데, 모델의 정확도에 대한 기록도 살펴봐야 하므로 accuracy를 추가했습니다"
      ]
    },
    {
      "cell_type": "markdown",
      "metadata": {
        "id": "8mIsaPG8CGhZ",
        "colab_type": "text"
      },
      "source": [
        "###4. 모델 훈련하기\n",
        "\n",
        "fit() 메서드를 통해 모델을 40번의 에포크 동안 훈련합니다.  훈련 세트와 검증 세트에서 측정한 값들을 History 클래스 객체에 담아 반환합니다. 훈련하는 동안 검증세트에 대한 손실과 정확도를 계산할 수 있습니다. \n",
        "\n",
        "이를 위해 validation_data 매개변수에 검증세트를 튜플로 전달합니다. "
      ]
    },
    {
      "cell_type": "code",
      "metadata": {
        "id": "dSXP5c-NBUmV",
        "colab_type": "code",
        "colab": {
          "base_uri": "https://localhost:8080/",
          "height": 1000
        },
        "outputId": "b05fe6fc-1bb9-42ed-c58d-706262f5dfd8"
      },
      "source": [
        "history = model.fit(x_train, y_train_encoded, epochs=40, validation_data=(x_val, y_val_encoded))"
      ],
      "execution_count": 76,
      "outputs": [
        {
          "output_type": "stream",
          "text": [
            "Train on 48000 samples, validate on 12000 samples\n",
            "Epoch 1/40\n",
            "48000/48000 [==============================] - 4s 83us/sample - loss: 0.3884 - accuracy: 0.8628 - val_loss: 0.3866 - val_accuracy: 0.8646\n",
            "Epoch 2/40\n",
            "48000/48000 [==============================] - 4s 82us/sample - loss: 0.3867 - accuracy: 0.8642 - val_loss: 0.3880 - val_accuracy: 0.8622\n",
            "Epoch 3/40\n",
            "48000/48000 [==============================] - 4s 82us/sample - loss: 0.3848 - accuracy: 0.8633 - val_loss: 0.3832 - val_accuracy: 0.8655\n",
            "Epoch 4/40\n",
            "48000/48000 [==============================] - 4s 81us/sample - loss: 0.3835 - accuracy: 0.8642 - val_loss: 0.3828 - val_accuracy: 0.8637\n",
            "Epoch 5/40\n",
            "48000/48000 [==============================] - 4s 81us/sample - loss: 0.3818 - accuracy: 0.8643 - val_loss: 0.3815 - val_accuracy: 0.8648\n",
            "Epoch 6/40\n",
            "48000/48000 [==============================] - 4s 83us/sample - loss: 0.3802 - accuracy: 0.8658 - val_loss: 0.3802 - val_accuracy: 0.8648\n",
            "Epoch 7/40\n",
            "48000/48000 [==============================] - 4s 82us/sample - loss: 0.3787 - accuracy: 0.8661 - val_loss: 0.3781 - val_accuracy: 0.8653\n",
            "Epoch 8/40\n",
            "48000/48000 [==============================] - 4s 80us/sample - loss: 0.3773 - accuracy: 0.8664 - val_loss: 0.3781 - val_accuracy: 0.8667\n",
            "Epoch 9/40\n",
            "48000/48000 [==============================] - 4s 82us/sample - loss: 0.3759 - accuracy: 0.8668 - val_loss: 0.3768 - val_accuracy: 0.8666\n",
            "Epoch 10/40\n",
            "48000/48000 [==============================] - 4s 82us/sample - loss: 0.3741 - accuracy: 0.8671 - val_loss: 0.3757 - val_accuracy: 0.8664\n",
            "Epoch 11/40\n",
            "48000/48000 [==============================] - 4s 80us/sample - loss: 0.3730 - accuracy: 0.8673 - val_loss: 0.3755 - val_accuracy: 0.8668\n",
            "Epoch 12/40\n",
            "48000/48000 [==============================] - 4s 81us/sample - loss: 0.3717 - accuracy: 0.8677 - val_loss: 0.3743 - val_accuracy: 0.8679\n",
            "Epoch 13/40\n",
            "48000/48000 [==============================] - 4s 82us/sample - loss: 0.3703 - accuracy: 0.8683 - val_loss: 0.3731 - val_accuracy: 0.8680\n",
            "Epoch 14/40\n",
            "48000/48000 [==============================] - 4s 84us/sample - loss: 0.3690 - accuracy: 0.8690 - val_loss: 0.3723 - val_accuracy: 0.8682\n",
            "Epoch 15/40\n",
            "48000/48000 [==============================] - 4s 85us/sample - loss: 0.3677 - accuracy: 0.8696 - val_loss: 0.3705 - val_accuracy: 0.8669\n",
            "Epoch 16/40\n",
            "48000/48000 [==============================] - 4s 85us/sample - loss: 0.3663 - accuracy: 0.8700 - val_loss: 0.3729 - val_accuracy: 0.8677\n",
            "Epoch 17/40\n",
            "48000/48000 [==============================] - 4s 84us/sample - loss: 0.3652 - accuracy: 0.8703 - val_loss: 0.3687 - val_accuracy: 0.8690\n",
            "Epoch 18/40\n",
            "48000/48000 [==============================] - 4s 84us/sample - loss: 0.3638 - accuracy: 0.8701 - val_loss: 0.3672 - val_accuracy: 0.8695\n",
            "Epoch 19/40\n",
            "48000/48000 [==============================] - 4s 85us/sample - loss: 0.3626 - accuracy: 0.8711 - val_loss: 0.3670 - val_accuracy: 0.8687\n",
            "Epoch 20/40\n",
            "48000/48000 [==============================] - 4s 85us/sample - loss: 0.3617 - accuracy: 0.8716 - val_loss: 0.3666 - val_accuracy: 0.8701\n",
            "Epoch 21/40\n",
            "48000/48000 [==============================] - 4s 85us/sample - loss: 0.3601 - accuracy: 0.8718 - val_loss: 0.3674 - val_accuracy: 0.8690\n",
            "Epoch 22/40\n",
            "48000/48000 [==============================] - 4s 85us/sample - loss: 0.3591 - accuracy: 0.8722 - val_loss: 0.3679 - val_accuracy: 0.8694\n",
            "Epoch 23/40\n",
            "48000/48000 [==============================] - 4s 85us/sample - loss: 0.3580 - accuracy: 0.8722 - val_loss: 0.3649 - val_accuracy: 0.8706\n",
            "Epoch 24/40\n",
            "48000/48000 [==============================] - 4s 84us/sample - loss: 0.3570 - accuracy: 0.8734 - val_loss: 0.3637 - val_accuracy: 0.8717\n",
            "Epoch 25/40\n",
            "48000/48000 [==============================] - 4s 84us/sample - loss: 0.3559 - accuracy: 0.8733 - val_loss: 0.3638 - val_accuracy: 0.8713\n",
            "Epoch 26/40\n",
            "48000/48000 [==============================] - 4s 85us/sample - loss: 0.3547 - accuracy: 0.8735 - val_loss: 0.3624 - val_accuracy: 0.8726\n",
            "Epoch 27/40\n",
            "48000/48000 [==============================] - 4s 84us/sample - loss: 0.3536 - accuracy: 0.8747 - val_loss: 0.3611 - val_accuracy: 0.8723\n",
            "Epoch 28/40\n",
            "48000/48000 [==============================] - 4s 84us/sample - loss: 0.3527 - accuracy: 0.8752 - val_loss: 0.3605 - val_accuracy: 0.8727\n",
            "Epoch 29/40\n",
            "48000/48000 [==============================] - 4s 83us/sample - loss: 0.3518 - accuracy: 0.8745 - val_loss: 0.3605 - val_accuracy: 0.8723\n",
            "Epoch 30/40\n",
            "48000/48000 [==============================] - 4s 84us/sample - loss: 0.3505 - accuracy: 0.8757 - val_loss: 0.3593 - val_accuracy: 0.8732\n",
            "Epoch 31/40\n",
            "48000/48000 [==============================] - 4s 86us/sample - loss: 0.3495 - accuracy: 0.8757 - val_loss: 0.3584 - val_accuracy: 0.8729\n",
            "Epoch 32/40\n",
            "48000/48000 [==============================] - 4s 88us/sample - loss: 0.3485 - accuracy: 0.8761 - val_loss: 0.3587 - val_accuracy: 0.8723\n",
            "Epoch 33/40\n",
            "48000/48000 [==============================] - 4s 84us/sample - loss: 0.3474 - accuracy: 0.8763 - val_loss: 0.3573 - val_accuracy: 0.8737\n",
            "Epoch 34/40\n",
            "48000/48000 [==============================] - 4s 86us/sample - loss: 0.3466 - accuracy: 0.8771 - val_loss: 0.3576 - val_accuracy: 0.8731\n",
            "Epoch 35/40\n",
            "48000/48000 [==============================] - 4s 83us/sample - loss: 0.3456 - accuracy: 0.8775 - val_loss: 0.3565 - val_accuracy: 0.8752\n",
            "Epoch 36/40\n",
            "48000/48000 [==============================] - 4s 83us/sample - loss: 0.3447 - accuracy: 0.8775 - val_loss: 0.3553 - val_accuracy: 0.8738\n",
            "Epoch 37/40\n",
            "48000/48000 [==============================] - 4s 85us/sample - loss: 0.3436 - accuracy: 0.8783 - val_loss: 0.3549 - val_accuracy: 0.8750\n",
            "Epoch 38/40\n",
            "48000/48000 [==============================] - 4s 85us/sample - loss: 0.3427 - accuracy: 0.8782 - val_loss: 0.3538 - val_accuracy: 0.8746\n",
            "Epoch 39/40\n",
            "48000/48000 [==============================] - 4s 83us/sample - loss: 0.3418 - accuracy: 0.8783 - val_loss: 0.3533 - val_accuracy: 0.8749\n",
            "Epoch 40/40\n",
            "48000/48000 [==============================] - 4s 81us/sample - loss: 0.3410 - accuracy: 0.8789 - val_loss: 0.3526 - val_accuracy: 0.8752\n"
          ],
          "name": "stdout"
        }
      ]
    },
    {
      "cell_type": "markdown",
      "metadata": {
        "id": "FuN8L1u-E88g",
        "colab_type": "text"
      },
      "source": [
        "###5. 손실과 정확도 그래프 그리기\n",
        "\n",
        "History 딕셔너리의 키를 출력해 보면 어떤 측정 지표들이 들어 있는지 알 수 있습니다"
      ]
    },
    {
      "cell_type": "code",
      "metadata": {
        "id": "DPYJWY9xC2BO",
        "colab_type": "code",
        "colab": {
          "base_uri": "https://localhost:8080/",
          "height": 35
        },
        "outputId": "d7434e1c-5dc7-4a44-eafd-ae6133ba538a"
      },
      "source": [
        "print(history.history.keys())"
      ],
      "execution_count": 82,
      "outputs": [
        {
          "output_type": "stream",
          "text": [
            "dict_keys(['loss', 'accuracy', 'val_loss', 'val_accuracy'])\n"
          ],
          "name": "stdout"
        }
      ]
    },
    {
      "cell_type": "markdown",
      "metadata": {
        "id": "ZsU6R4UBFOZM",
        "colab_type": "text"
      },
      "source": [
        "훈련 세트와 검증 세트에서의 손실을 나타내는 loss, val_loss가 있고 정확도를 의미하는 accuracy, val_accuracy가 있습니다. \n",
        "\n",
        "그래프를 그려보겠습니다"
      ]
    },
    {
      "cell_type": "code",
      "metadata": {
        "id": "ZGEUFlqMFLfX",
        "colab_type": "code",
        "colab": {
          "base_uri": "https://localhost:8080/",
          "height": 280
        },
        "outputId": "1fb7c71f-e1e4-4113-8553-ef3538c4ac04"
      },
      "source": [
        "plt.plot(history.history['loss'])\n",
        "plt.plot(history.history['val_loss'])\n",
        "plt.ylabel('loss')\n",
        "plt.xlabel('epoch')\n",
        "plt.legend(['train_loss', 'val_loss'])\n",
        "plt.show()\n"
      ],
      "execution_count": 83,
      "outputs": [
        {
          "output_type": "display_data",
          "data": {
            "image/png": "[encoded data removed]",
            "text/plain": [
              "<Figure size 432x288 with 1 Axes>"
            ]
          },
          "metadata": {
            "tags": []
          }
        }
      ]
    },
    {
      "cell_type": "code",
      "metadata": {
        "id": "VOZOFbwfFiQv",
        "colab_type": "code",
        "colab": {
          "base_uri": "https://localhost:8080/",
          "height": 279
        },
        "outputId": "249a6c71-ab3f-442d-f272-9cb4bc2b3496"
      },
      "source": [
        "plt.plot(history.history['accuracy'])\n",
        "plt.plot(history.history['val_accuracy'])\n",
        "plt.ylabel('accuracy')\n",
        "plt.xlabel('epoch')\n",
        "plt.legend(['train_accuracy', 'val_accuracy'])\n",
        "plt.show()"
      ],
      "execution_count": 81,
      "outputs": [
        {
          "output_type": "display_data",
          "data": {
            "image/png": "[encoded data removed]",
            "text/plain": [
              "<Figure size 432x288 with 1 Axes>"
            ]
          },
          "metadata": {
            "tags": []
          }
        }
      ]
    },
    {
      "cell_type": "markdown",
      "metadata": {
        "id": "wfNJVmxsH86L",
        "colab_type": "text"
      },
      "source": [
        "###6. 검증 세트 정확도 계산하기\n",
        "\n",
        "evaluate() 메서드를 사용하면 손실값과 metrics 매개변수에 추가한 측정 지표를 계산하여 반환합니다. "
      ]
    },
    {
      "cell_type": "code",
      "metadata": {
        "id": "JlFE7nq7JlH9",
        "colab_type": "code",
        "colab": {
          "base_uri": "https://localhost:8080/",
          "height": 35
        },
        "outputId": "95505e55-b71b-4258-f74d-ca5e0e50d92d"
      },
      "source": [
        "loss, accuracy = model.evaluate(x_val, y_val_encoded, verbose=0)\n",
        "print(accuracy)"
      ],
      "execution_count": 75,
      "outputs": [
        {
          "output_type": "stream",
          "text": [
            "0.8635\n"
          ],
          "name": "stdout"
        }
      ]
    },
    {
      "cell_type": "markdown",
      "metadata": {
        "id": "q_-16DawJ2eg",
        "colab_type": "text"
      },
      "source": [
        "케라스로 구현한 다중 분류 신경망이 MultiClassNetwork에 비해 성능이 크게 좋지 않은 이유는 이미지 데이터에 잘 맞는 모델이 아니기 때문입니다.\n",
        "\n"
      ]
    },
    {
      "cell_type": "code",
      "metadata": {
        "id": "nRFmeXzLJs6O",
        "colab_type": "code",
        "colab": {}
      },
      "source": [
        ""
      ],
      "execution_count": 0,
      "outputs": []
    }
  ]
}