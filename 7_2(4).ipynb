{
  "nbformat": 4,
  "nbformat_minor": 0,
  "metadata": {
    "colab": {
      "name": "7-2(4).ipynb",
      "provenance": [],
      "collapsed_sections": []
    },
    "kernelspec": {
      "name": "python3",
      "display_name": "Python 3"
    }
  },
  "cells": [
    {
      "cell_type": "code",
      "metadata": {
        "id": "NAVqrAxepig1",
        "colab_type": "code",
        "outputId": "73b4c74d-16ce-49ad-cd45-b1f23e7ab3b1",
        "colab": {
          "base_uri": "https://localhost:8080/",
          "height": 1000
        }
      },
      "source": [
        "!pip install tensorflow-gpu==2.0.0-rc2"
      ],
      "execution_count": 1,
      "outputs": [
        {
          "output_type": "stream",
          "text": [
            "Collecting tensorflow-gpu==2.0.0-rc2\n",
            "\u001b[?25l  Downloading https://files.pythonhosted.org/packages/37/71/ebe308ba37bd2d4d56c436fb5baa846260d74ef1d6392d370bd1adee424e/tensorflow_gpu-2.0.0rc2-cp36-cp36m-manylinux2010_x86_64.whl (380.8MB)\n",
            "\u001b[K     |████████████████████████████████| 380.8MB 38kB/s \n",
            "\u001b[?25hRequirement already satisfied: absl-py>=0.7.0 in /usr/local/lib/python3.6/dist-packages (from tensorflow-gpu==2.0.0-rc2) (0.8.1)\n",
            "Requirement already satisfied: keras-applications>=1.0.8 in /usr/local/lib/python3.6/dist-packages (from tensorflow-gpu==2.0.0-rc2) (1.0.8)\n",
            "Requirement already satisfied: keras-preprocessing>=1.0.5 in /usr/local/lib/python3.6/dist-packages (from tensorflow-gpu==2.0.0-rc2) (1.1.0)\n",
            "Requirement already satisfied: astor>=0.6.0 in /usr/local/lib/python3.6/dist-packages (from tensorflow-gpu==2.0.0-rc2) (0.8.0)\n",
            "Requirement already satisfied: protobuf>=3.6.1 in /usr/local/lib/python3.6/dist-packages (from tensorflow-gpu==2.0.0-rc2) (3.10.0)\n",
            "Collecting tf-estimator-nightly<1.14.0.dev2019080602,>=1.14.0.dev2019080601\n",
            "\u001b[?25l  Downloading https://files.pythonhosted.org/packages/21/28/f2a27a62943d5f041e4a6fd404b2d21cb7c59b2242a4e73b03d9ba166552/tf_estimator_nightly-1.14.0.dev2019080601-py2.py3-none-any.whl (501kB)\n",
            "\u001b[K     |████████████████████████████████| 501kB 19.5MB/s \n",
            "\u001b[?25hRequirement already satisfied: numpy<2.0,>=1.16.0 in /usr/local/lib/python3.6/dist-packages (from tensorflow-gpu==2.0.0-rc2) (1.17.4)\n",
            "Requirement already satisfied: six>=1.10.0 in /usr/local/lib/python3.6/dist-packages (from tensorflow-gpu==2.0.0-rc2) (1.12.0)\n",
            "Collecting tensorboard<2.1.0,>=2.0.0\n",
            "\u001b[?25l  Downloading https://files.pythonhosted.org/packages/d3/9e/a48cd34dd7b672ffc227b566f7d16d63c62c58b542d54efa45848c395dd4/tensorboard-2.0.1-py3-none-any.whl (3.8MB)\n",
            "\u001b[K     |████████████████████████████████| 3.8MB 28.9MB/s \n",
            "\u001b[?25hRequirement already satisfied: gast==0.2.2 in /usr/local/lib/python3.6/dist-packages (from tensorflow-gpu==2.0.0-rc2) (0.2.2)\n",
            "Requirement already satisfied: termcolor>=1.1.0 in /usr/local/lib/python3.6/dist-packages (from tensorflow-gpu==2.0.0-rc2) (1.1.0)\n",
            "Requirement already satisfied: grpcio>=1.8.6 in /usr/local/lib/python3.6/dist-packages (from tensorflow-gpu==2.0.0-rc2) (1.15.0)\n",
            "Requirement already satisfied: wrapt>=1.11.1 in /usr/local/lib/python3.6/dist-packages (from tensorflow-gpu==2.0.0-rc2) (1.11.2)\n",
            "Requirement already satisfied: opt-einsum>=2.3.2 in /usr/local/lib/python3.6/dist-packages (from tensorflow-gpu==2.0.0-rc2) (3.1.0)\n",
            "Requirement already satisfied: wheel>=0.26 in /usr/local/lib/python3.6/dist-packages (from tensorflow-gpu==2.0.0-rc2) (0.33.6)\n",
            "Requirement already satisfied: google-pasta>=0.1.6 in /usr/local/lib/python3.6/dist-packages (from tensorflow-gpu==2.0.0-rc2) (0.1.8)\n",
            "Requirement already satisfied: h5py in /usr/local/lib/python3.6/dist-packages (from keras-applications>=1.0.8->tensorflow-gpu==2.0.0-rc2) (2.8.0)\n",
            "Requirement already satisfied: setuptools in /usr/local/lib/python3.6/dist-packages (from protobuf>=3.6.1->tensorflow-gpu==2.0.0-rc2) (41.4.0)\n",
            "Collecting google-auth<2,>=1.6.3\n",
            "\u001b[?25l  Downloading https://files.pythonhosted.org/packages/7b/cb/786dc53d93494784935a62947643b48250b84a882474e714f9af5e1a1928/google_auth-1.7.1-py2.py3-none-any.whl (74kB)\n",
            "\u001b[K     |████████████████████████████████| 81kB 11.1MB/s \n",
            "\u001b[?25hRequirement already satisfied: werkzeug>=0.11.15 in /usr/local/lib/python3.6/dist-packages (from tensorboard<2.1.0,>=2.0.0->tensorflow-gpu==2.0.0-rc2) (0.16.0)\n",
            "Requirement already satisfied: markdown>=2.6.8 in /usr/local/lib/python3.6/dist-packages (from tensorboard<2.1.0,>=2.0.0->tensorflow-gpu==2.0.0-rc2) (3.1.1)\n",
            "Requirement already satisfied: google-auth-oauthlib<0.5,>=0.4.1 in /usr/local/lib/python3.6/dist-packages (from tensorboard<2.1.0,>=2.0.0->tensorflow-gpu==2.0.0-rc2) (0.4.1)\n",
            "Requirement already satisfied: cachetools<3.2,>=2.0.0 in /usr/local/lib/python3.6/dist-packages (from google-auth<2,>=1.6.3->tensorboard<2.1.0,>=2.0.0->tensorflow-gpu==2.0.0-rc2) (3.1.1)\n",
            "Requirement already satisfied: pyasn1-modules>=0.2.1 in /usr/local/lib/python3.6/dist-packages (from google-auth<2,>=1.6.3->tensorboard<2.1.0,>=2.0.0->tensorflow-gpu==2.0.0-rc2) (0.2.7)\n",
            "Requirement already satisfied: rsa<4.1,>=3.1.4 in /usr/local/lib/python3.6/dist-packages (from google-auth<2,>=1.6.3->tensorboard<2.1.0,>=2.0.0->tensorflow-gpu==2.0.0-rc2) (4.0)\n",
            "Requirement already satisfied: requests-oauthlib>=0.7.0 in /usr/local/lib/python3.6/dist-packages (from google-auth-oauthlib<0.5,>=0.4.1->tensorboard<2.1.0,>=2.0.0->tensorflow-gpu==2.0.0-rc2) (1.3.0)\n",
            "Requirement already satisfied: pyasn1<0.5.0,>=0.4.6 in /usr/local/lib/python3.6/dist-packages (from pyasn1-modules>=0.2.1->google-auth<2,>=1.6.3->tensorboard<2.1.0,>=2.0.0->tensorflow-gpu==2.0.0-rc2) (0.4.7)\n",
            "Requirement already satisfied: requests>=2.0.0 in /usr/local/lib/python3.6/dist-packages (from requests-oauthlib>=0.7.0->google-auth-oauthlib<0.5,>=0.4.1->tensorboard<2.1.0,>=2.0.0->tensorflow-gpu==2.0.0-rc2) (2.21.0)\n",
            "Requirement already satisfied: oauthlib>=3.0.0 in /usr/local/lib/python3.6/dist-packages (from requests-oauthlib>=0.7.0->google-auth-oauthlib<0.5,>=0.4.1->tensorboard<2.1.0,>=2.0.0->tensorflow-gpu==2.0.0-rc2) (3.1.0)\n",
            "Requirement already satisfied: idna<2.9,>=2.5 in /usr/local/lib/python3.6/dist-packages (from requests>=2.0.0->requests-oauthlib>=0.7.0->google-auth-oauthlib<0.5,>=0.4.1->tensorboard<2.1.0,>=2.0.0->tensorflow-gpu==2.0.0-rc2) (2.8)\n",
            "Requirement already satisfied: chardet<3.1.0,>=3.0.2 in /usr/local/lib/python3.6/dist-packages (from requests>=2.0.0->requests-oauthlib>=0.7.0->google-auth-oauthlib<0.5,>=0.4.1->tensorboard<2.1.0,>=2.0.0->tensorflow-gpu==2.0.0-rc2) (3.0.4)\n",
            "Requirement already satisfied: urllib3<1.25,>=1.21.1 in /usr/local/lib/python3.6/dist-packages (from requests>=2.0.0->requests-oauthlib>=0.7.0->google-auth-oauthlib<0.5,>=0.4.1->tensorboard<2.1.0,>=2.0.0->tensorflow-gpu==2.0.0-rc2) (1.24.3)\n",
            "Requirement already satisfied: certifi>=2017.4.17 in /usr/local/lib/python3.6/dist-packages (from requests>=2.0.0->requests-oauthlib>=0.7.0->google-auth-oauthlib<0.5,>=0.4.1->tensorboard<2.1.0,>=2.0.0->tensorflow-gpu==2.0.0-rc2) (2019.9.11)\n",
            "\u001b[31mERROR: tensorflow 1.15.0 has requirement tensorboard<1.16.0,>=1.15.0, but you'll have tensorboard 2.0.1 which is incompatible.\u001b[0m\n",
            "\u001b[31mERROR: tensorboard 2.0.1 has requirement grpcio>=1.24.3, but you'll have grpcio 1.15.0 which is incompatible.\u001b[0m\n",
            "\u001b[31mERROR: google-colab 1.0.0 has requirement google-auth~=1.4.0, but you'll have google-auth 1.7.1 which is incompatible.\u001b[0m\n",
            "Installing collected packages: tf-estimator-nightly, google-auth, tensorboard, tensorflow-gpu\n",
            "  Found existing installation: google-auth 1.4.2\n",
            "    Uninstalling google-auth-1.4.2:\n",
            "      Successfully uninstalled google-auth-1.4.2\n",
            "  Found existing installation: tensorboard 1.15.0\n",
            "    Uninstalling tensorboard-1.15.0:\n",
            "      Successfully uninstalled tensorboard-1.15.0\n",
            "Successfully installed google-auth-1.7.1 tensorboard-2.0.1 tensorflow-gpu-2.0.0rc2 tf-estimator-nightly-1.14.0.dev2019080601\n"
          ],
          "name": "stdout"
        },
        {
          "output_type": "display_data",
          "data": {
            "application/vnd.colab-display-data+json": {
              "pip_warning": {
                "packages": [
                  "google"
                ]
              }
            }
          },
          "metadata": {
            "tags": []
          }
        }
      ]
    },
    {
      "cell_type": "code",
      "metadata": {
        "id": "DaxK74I_pqVy",
        "colab_type": "code",
        "colab": {}
      },
      "source": [
        "import tensorflow as tf\n",
        "import numpy as np\n",
        "import matplotlib.pyplot as plt"
      ],
      "execution_count": 0,
      "outputs": []
    },
    {
      "cell_type": "code",
      "metadata": {
        "id": "N8e2JVg__Wg9",
        "colab_type": "code",
        "outputId": "53cca8a7-ba1c-4745-ac36-9fee11d4aacf",
        "colab": {
          "base_uri": "https://localhost:8080/",
          "height": 35
        }
      },
      "source": [
        "tf.__version__"
      ],
      "execution_count": 3,
      "outputs": [
        {
          "output_type": "execute_result",
          "data": {
            "text/plain": [
              "'2.0.0-rc2'"
            ]
          },
          "metadata": {
            "tags": []
          },
          "execution_count": 3
        }
      ]
    },
    {
      "cell_type": "code",
      "metadata": {
        "id": "sqi3oLOt_Zlf",
        "colab_type": "code",
        "colab": {
          "base_uri": "https://localhost:8080/",
          "height": 161
        },
        "outputId": "843de4a3-1580-4199-a0ee-26870e9ed581"
      },
      "source": [
        "(x_train_all, y_train_all), (x_test, y_test) = tf.keras.datasets.fashion_mnist.load_data()"
      ],
      "execution_count": 4,
      "outputs": [
        {
          "output_type": "stream",
          "text": [
            "Downloading data from https://storage.googleapis.com/tensorflow/tf-keras-datasets/train-labels-idx1-ubyte.gz\n",
            "32768/29515 [=================================] - 0s 0us/step\n",
            "Downloading data from https://storage.googleapis.com/tensorflow/tf-keras-datasets/train-images-idx3-ubyte.gz\n",
            "26427392/26421880 [==============================] - 0s 0us/step\n",
            "Downloading data from https://storage.googleapis.com/tensorflow/tf-keras-datasets/t10k-labels-idx1-ubyte.gz\n",
            "8192/5148 [===============================================] - 0s 0us/step\n",
            "Downloading data from https://storage.googleapis.com/tensorflow/tf-keras-datasets/t10k-images-idx3-ubyte.gz\n",
            "4423680/4422102 [==============================] - 0s 0us/step\n"
          ],
          "name": "stdout"
        }
      ]
    },
    {
      "cell_type": "code",
      "metadata": {
        "id": "l50JfM_5_s3V",
        "colab_type": "code",
        "outputId": "6f13cd2f-9329-4723-f0aa-5e62d600a37b",
        "colab": {
          "base_uri": "https://localhost:8080/",
          "height": 35
        }
      },
      "source": [
        "print(x_train_all.shape, y_train_all.shape)"
      ],
      "execution_count": 5,
      "outputs": [
        {
          "output_type": "stream",
          "text": [
            "(60000, 28, 28) (60000,)\n"
          ],
          "name": "stdout"
        }
      ]
    },
    {
      "cell_type": "code",
      "metadata": {
        "id": "yVlEWnKNASpm",
        "colab_type": "code",
        "colab": {}
      },
      "source": [
        "from sklearn.model_selection import train_test_split"
      ],
      "execution_count": 0,
      "outputs": []
    },
    {
      "cell_type": "code",
      "metadata": {
        "id": "hHuFP-j1DMzz",
        "colab_type": "code",
        "colab": {}
      },
      "source": [
        "x_train, x_val, y_train, y_val = train_test_split(x_train_all, y_train_all, stratify=y_train_all, test_size=0.2, random_state=42)"
      ],
      "execution_count": 0,
      "outputs": []
    },
    {
      "cell_type": "code",
      "metadata": {
        "id": "XVvkOUHVGknz",
        "colab_type": "code",
        "outputId": "e0fbbd2b-8d88-4b57-e7bd-c04d7c7dbb24",
        "colab": {
          "base_uri": "https://localhost:8080/",
          "height": 35
        }
      },
      "source": [
        "np.bincount(y_train)"
      ],
      "execution_count": 8,
      "outputs": [
        {
          "output_type": "execute_result",
          "data": {
            "text/plain": [
              "array([4800, 4800, 4800, 4800, 4800, 4800, 4800, 4800, 4800, 4800])"
            ]
          },
          "metadata": {
            "tags": []
          },
          "execution_count": 8
        }
      ]
    },
    {
      "cell_type": "code",
      "metadata": {
        "id": "WQW1tbbYDsUo",
        "colab_type": "code",
        "colab": {}
      },
      "source": [
        "x_train = x_train / 255\n",
        "x_val = x_val / 255"
      ],
      "execution_count": 0,
      "outputs": []
    },
    {
      "cell_type": "code",
      "metadata": {
        "id": "ccVR4DO_Dus4",
        "colab_type": "code",
        "colab": {}
      },
      "source": [
        "x_train = x_train.reshape(-1, 784)\n",
        "x_val = x_val.reshape(-1, 784)"
      ],
      "execution_count": 0,
      "outputs": []
    },
    {
      "cell_type": "code",
      "metadata": {
        "id": "JpwxcU_xGtSH",
        "colab_type": "code",
        "outputId": "a82552b9-b4ae-43ff-ff8f-18d373535b2d",
        "colab": {
          "base_uri": "https://localhost:8080/",
          "height": 35
        }
      },
      "source": [
        "print(x_train.shape, x_val.shape)"
      ],
      "execution_count": 11,
      "outputs": [
        {
          "output_type": "stream",
          "text": [
            "(48000, 784) (12000, 784)\n"
          ],
          "name": "stdout"
        }
      ]
    },
    {
      "cell_type": "code",
      "metadata": {
        "id": "iyoqawRpD8qe",
        "colab_type": "code",
        "colab": {}
      },
      "source": [
        "y_train_encoded = tf.keras.utils.to_categorical(y_train)\n",
        "y_val_encoded = tf.keras.utils.to_categorical(y_val)"
      ],
      "execution_count": 0,
      "outputs": []
    },
    {
      "cell_type": "code",
      "metadata": {
        "id": "_bJSWpg5G2lm",
        "colab_type": "code",
        "outputId": "bbed0b32-7cbd-44ab-c0de-38e880d042b6",
        "colab": {
          "base_uri": "https://localhost:8080/",
          "height": 35
        }
      },
      "source": [
        "print(y_train_encoded.shape, y_val_encoded.shape)"
      ],
      "execution_count": 13,
      "outputs": [
        {
          "output_type": "stream",
          "text": [
            "(48000, 10) (12000, 10)\n"
          ],
          "name": "stdout"
        }
      ]
    },
    {
      "cell_type": "code",
      "metadata": {
        "id": "nZZa_9w6G9Z4",
        "colab_type": "code",
        "outputId": "f16df43c-bfba-425f-ad34-0ed3e291753e",
        "colab": {
          "base_uri": "https://localhost:8080/",
          "height": 35
        }
      },
      "source": [
        "print(y_train[0], y_train_encoded[0])"
      ],
      "execution_count": 14,
      "outputs": [
        {
          "output_type": "stream",
          "text": [
            "6 [0. 0. 0. 0. 0. 0. 1. 0. 0. 0.]\n"
          ],
          "name": "stdout"
        }
      ]
    },
    {
      "cell_type": "markdown",
      "metadata": {
        "id": "HyJ5q6k6qOdd",
        "colab_type": "text"
      },
      "source": [
        "#7-2 텐서플로와 케라스를 사용하여 신경망을 만듭니다\n",
        "\n",
        "다중 분류 신경망을 직접 구현하여 만든 모델을 훈련시키고 성능도 측정해 보았습니다만 7-1절에서 직접 만든 다중 분류 신경망 클래스는 실전에 사용할 수 있을 정도의 성능을 기대하기 어렵습니다. 높은 성능을 가진 인공신경망 모델을 만들기 위해서는 전문적인 라이브러리를 사용해야 합니다. \n",
        "\n",
        "대표적인 딥러닝 패키지인 구글의 텐서플로를 사용하여 인공신경망을 만들어 보겠습니다 특히 텐서플로를 좀 더 쉽게 사용하기 위한 케라스 API(Keras API)에 대해 자세히 알아보겠습니다.\n",
        "\n",
        "----------------------\n",
        "from 위키백과 \n",
        "\n",
        "텐서플로(TensorFlow)는 다양한 작업에대해 데이터 흐름 프로그래밍을 위한(딥러닝을 위한) 오픈소스 소프트웨어 라이브러리이다. \n",
        "\n",
        "케라스(Keras)는 파이썬으로 작성된 오픈 소스 신경망 라이브러리이다. 더 높은 수준의 더 직관적인 추상화 집합을 표현함으로써 백엔드 과학 컴퓨팅 라이브러리임에도 불구하고 신경망을 구성하기 쉽게 만들어준다\n",
        "\n",
        "API(Application Programming Interface, 응용 프로그램 프로그래밍 인터페이스)는 응용 프로그램에서 사용할 수 있도록, 운영 체제나 프로그래밍 언어가 제공하는 기능을 제어할 수 있게 만든 인터페이스를 뜻한다. 주로 파일 제어, 창 제어, 화상 처리, 문자 제어 등을 위한 인터페이스를 제공한다. 예) 파이썬 코드"
      ]
    },
    {
      "cell_type": "markdown",
      "metadata": {
        "id": "pK_-9lKQqTHe",
        "colab_type": "text"
      },
      "source": [
        "## 1. 케라스에 대해 알아봅니다\n",
        "\n",
        "케라스는 딥러닝 패키지를 편리하게 사용하기 위해 만들어진 래퍼(Wrapper)패키지입니다.\n",
        "\n",
        "\n",
        "대표적인 딥러닝 패키지인 텐서플로, 씨아노를 사용해 신경망을 구현하려면 꽤 많은 양의 코드를 입력해야 합니다."
      ]
    },
    {
      "cell_type": "code",
      "metadata": {
        "id": "Fd5o9AYhqZwe",
        "colab_type": "code",
        "colab": {}
      },
      "source": [
        "w = tf.Variable(tf.zeros(shape=(1)))\n",
        "b = tf.Variable(tf.zeros(shape=(1))) # 훈련할 가중치의 변수를 선언합니다\n",
        "\n",
        "#경사 하강법 옵티마이저를 설정합니다\n",
        "optimizer = tf.optimizers.SGD(lr = 0.01)\n",
        "#에포크 횟수만큼 훈련합니다\n",
        "num_epochs = 10\n",
        "for step in range(num_epochs):\n",
        "\n",
        "           #자동 미분을 하여 연산 과정을 기록합니다\n",
        "    with tf.GradientTape() as tape:\n",
        "        z_net = w * x_train + b\n",
        "        z_net = tf.reshape(z_net, [-1])\n",
        "        sqr_errors = tf.square(y_train - z_net)\n",
        "        mean_cost = tf.reduce_mean(sqr.errors)\n",
        "    #손실 함수에 대한 가중치의 그레디언트를 계산합니다\n",
        "    grads = tape.gradinet(mean_cost, [w,b])\n",
        "    # 옵티마이저에 그레이디언트를 반영합니다\n",
        "    optimizer.apply_gradients(zip(grads, [w,b]))"
      ],
      "execution_count": 0,
      "outputs": []
    },
    {
      "cell_type": "markdown",
      "metadata": {
        "id": "WOgs03CksdH8",
        "colab_type": "text"
      },
      "source": [
        "위 신경망을 케라스로 그대로 구현해보겠습니다"
      ]
    },
    {
      "cell_type": "code",
      "metadata": {
        "id": "NkClfI4-qYCq",
        "colab_type": "code",
        "colab": {}
      },
      "source": [
        "# 신경망 모델을 만듭니다\n",
        "model = tf.keras.models.Sequential()\n",
        "# 완전 연결층을 추가합니다\n",
        "model.add(tf.keras.layers.Dense(1))\n",
        "#옵티마이저와 손실함수를 지정합니다\n",
        "model.compile(optimizer='sgd', loss='mse')\n",
        "# 훈련 데이터를 사용하여 에포크 횟수만큼 훈련합니다\n",
        "model.fit(x_train, y_train, epochs=10)"
      ],
      "execution_count": 0,
      "outputs": []
    },
    {
      "cell_type": "markdown",
      "metadata": {
        "id": "rwgY_0m4uGR2",
        "colab_type": "text"
      },
      "source": [
        "케라스로 구현하면서 코드의 양이 확 줄었습니다. 구글은 케라스를 아예 텐서플로 안에 포함시켰습니다. 텐서플로2.0에서는 아예 케라스를 텐서플로 주력 파이썬 API로 만들었습니다. 케라스의 대표 구현은 오픈 소스로 여전히 씨아노나 텐서플로를 백엔드로 지정하여 사용할 수 있습니다. 텐서플로에 구현된 tensorflow.keras 모듈은 케라스 명세를 따르는 텐서플로만을 위한 구현입니다.\n",
        "\n",
        "---------------\n",
        "프런트엔드(front-end)와 백엔드(back-end)라는 용어는 프로세스의 처음과 마지막 단계를 가리킨다. ‘프런트엔드’는 사용자로부터 다양한 형태의 입력을 받아 ‘백엔드’가 사용할 수 있는 규격을 따라 처리할 책임을 진다. \n",
        "<img src=\"https://github.com/legi1993/eee/blob/master/99866A335A1AB9E71B.png?raw=true\" width=\"70%\">\n"
      ]
    },
    {
      "cell_type": "markdown",
      "metadata": {
        "id": "0X2vAyCGvHkw",
        "colab_type": "text"
      },
      "source": [
        "### 케라스를 사용하면 인공신경망의 층을 직관적으로 설계할 수 있습니다\n",
        "\n",
        "다음과 같은 다중 분류 신경망을 만든다고 가정합니다.\n",
        "\n",
        "<img src=\"https://github.com/legi1993/eee/blob/master/1573648396443-5405e8b6-38a1-4fd6-8f51-7a4c80d6f070_.jpg?raw=true\" width=\"60%\">\n",
        "\n",
        "\n",
        "케라스는 인공신경망 모델을 만들기 위한 Sequential 클래스와 완전 연결층을 만들기 위한 Dense 클래스를 제공합니다. Sequential 클래스는 이름의 의미 그대로 '순차적으로 층을 쌓은 신경망 모델'이고, Dense 클래스는 모델에 포함된 완전 연결층입니다. 즉, 위의 인공신경망은 은닉층과 출력층을 Dense 클래스의 객체로 구성하고 각각의 객체를 Sequential 클래스 객체에 추가하면 완성됩니다.\n",
        "\n",
        "앞서 직접 구현한 MultiClassNetwork 클래스의 경우 신경망 모델과 층이 명확하게 구분되지 않았습니다. 하지만 케라스는 모델과 층이 명확하게 구분됩니다. 심지어 층을 교체하기도 쉽습니다."
      ]
    },
    {
      "cell_type": "markdown",
      "metadata": {
        "id": "pwaAnXoXyN0i",
        "colab_type": "text"
      },
      "source": [
        "## 2. Sequential 클래스의 사용 방법을 알아봅니다\n",
        "\n",
        "Sequential 클래스를 사용하는 방법은 객체를 생성할 때 층을 추가하는 방법과 객체를 생성한 후 add() 메서드를 사용하여 층을 추가하는 방법이 있습니다"
      ]
    },
    {
      "cell_type": "markdown",
      "metadata": {
        "id": "B2U47fERyjXi",
        "colab_type": "text"
      },
      "source": [
        "### Sequential 객체에 층을 추가합니다\n",
        "\n",
        "Dense 클래스로 만든 층을 추가할 수 있습니다. 신경망 모델에 추가할 층을 파이썬 리스트로 만들어 전달하면 Sequential 클래스의 객체가 만들어질 때 층이 추가됩니다.\n"
      ]
    },
    {
      "cell_type": "code",
      "metadata": {
        "id": "v_zpJSWftCMo",
        "colab_type": "code",
        "colab": {}
      },
      "source": [
        "from tensorflow.keras import Sequential\n",
        "from tensorflow.keras.layers import Dense"
      ],
      "execution_count": 0,
      "outputs": []
    },
    {
      "cell_type": "code",
      "metadata": {
        "id": "GODf2QWhy-C6",
        "colab_type": "code",
        "colab": {}
      },
      "source": [
        "model = Sequential([Dense(...),])"
      ],
      "execution_count": 0,
      "outputs": []
    },
    {
      "cell_type": "markdown",
      "metadata": {
        "id": "WqNYD8JQzwSP",
        "colab_type": "text"
      },
      "source": [
        "### add() 메서드 사용해 층을 추가합니다\n"
      ]
    },
    {
      "cell_type": "code",
      "metadata": {
        "id": "acjmZvLhzLH5",
        "colab_type": "code",
        "colab": {}
      },
      "source": [
        "model = Sequential()\n",
        "model.add(Dense(...))\n",
        "model.add(Dense(...))"
      ],
      "execution_count": 0,
      "outputs": []
    },
    {
      "cell_type": "markdown",
      "metadata": {
        "id": "-osN7VbA0cQ3",
        "colab_type": "text"
      },
      "source": [
        "## 3. Dense 클래스의 사용 방법을 알아봅니다\n",
        "\n",
        "Dense 클래스는 객체를 생성할 때 unit, activation 매개변수를 전달해야 합니다."
      ]
    },
    {
      "cell_type": "markdown",
      "metadata": {
        "id": "XV_6YUoQ0l5k",
        "colab_type": "text"
      },
      "source": [
        "### 뉴런의 개수를 지정하는 매개변수 unit\n",
        "\n",
        "Dense 클래스에 전달해야 하는 첫 매개변수는 층의 유닛 개수입니다. \n",
        "\n",
        "예) 뉴런 갯수 100개\n",
        "\n",
        "**Dense(unit=100, ...)**"
      ]
    },
    {
      "cell_type": "markdown",
      "metadata": {
        "id": "bf3JgE5p07ri",
        "colab_type": "text"
      },
      "source": [
        "### 활성화 함수를 지정하는 매개변수 activation\n",
        "\n",
        "Dense 클래스의 두 번째 매개변수는 활성화 함수를 지정하는 activation입니다. 이 매개변수의 기본값은 None이므로 따로 지정하지 않으면 활성화 함수가 적용되지 않습니다. 활성화 함수에는 소프트맥스 함수(softmax), 하이퍼볼릭 탄젠트 함수(tanh), 렐루 함수(relu)등 많은 함수가 있습니다.\n",
        "\n",
        "예) 시그모이드(=로지스틱) 함수 적용 \n",
        "\n",
        "**Dense(100, activation='sigmoid')**\n",
        "\n",
        "---------------------------\n",
        "소프트맥스 함수: 로지스틱 함수를 일반화한 것\n",
        "\n",
        "하이퍼볼릭 탄젠트 함수: 시그모이드 함수의 크기와 위치를 조절(rescale and shift)한 함수, -1 ~ 1 사이의 출력값\n",
        "\n",
        "렐루 함수: 입력 < 0 이면 0, 입력 > 0 이면 Linear 처럼 동작. 학습속도가 셋중 가장 빠르다\n",
        "\n"
      ]
    },
    {
      "cell_type": "markdown",
      "metadata": {
        "id": "fTFk9w5V0le8",
        "colab_type": "text"
      },
      "source": [
        "## 4. 모델의 최적화 알고리즘과 손실함수를 설정합니다\n",
        "\n",
        "모델을 혼련하기 위해서는 최적화 알고리즘이나 손실함수를 지정해야 합니다. 다중분류의 최적화 알고리즘은 경사 하강법 알고리즘을 사용하고, 손실함수는 크로스 엔트로피 손실함수를 사용합니다."
      ]
    },
    {
      "cell_type": "markdown",
      "metadata": {
        "id": "Y2eu2RTS2vWd",
        "colab_type": "text"
      },
      "source": [
        "### 최적화 알고리즘을 지정하는 매개변수 optimizer\n",
        "\n",
        "Sequential 클래스의 compile() 메서드를 사용하여 최적화 알고리즘과 손실함수를 지정합니다 "
      ]
    },
    {
      "cell_type": "markdown",
      "metadata": {
        "id": "6zTuD9ae4r8s",
        "colab_type": "text"
      },
      "source": [
        "### 손실함수를 지정하는 매개변수 loss\n",
        "\n",
        "loss= mse : 제곱오차 \n",
        "\n",
        "loss= binary_crossentropy : 로지스틱 손실함수(카테고리가 2개인경우)\n",
        "\n",
        "loss= catagorical_crossentropy : 크로스 엔트로피 손실함수(카테고리가 3개 이상인경우)"
      ]
    },
    {
      "cell_type": "code",
      "metadata": {
        "id": "xF0F9AUA3t-C",
        "colab_type": "code",
        "colab": {}
      },
      "source": [
        "model.compile(optimizer='sgd', loss='categorical_crossentropy')  \n",
        "# 최적화 알고리즘은 매개변수 optimizer = sgd를 지정하면 경사하강법을 최적화 알고리즘으로 사용합니다. 이때 학습률의 기본값은 0.01입니다"
      ],
      "execution_count": 0,
      "outputs": []
    },
    {
      "cell_type": "markdown",
      "metadata": {
        "id": "DYtAfnlp8F7M",
        "colab_type": "text"
      },
      "source": [
        "## 5. 모델을 훈련하고 예측합니다\n",
        "\n",
        "모델을 훈련하고 예측하는 메서드는 Sequential 클래스의 fit()메서드와 predict() 메서드 입니다. 이름뿐만 아니라 사용 방법도 비슷합니다. evaluate()메서드는 모델을 검증세트나 테스트 세트에서 평가할때 사용합니다\n",
        "\n",
        "Sequential 클래스 사용법"
      ]
    },
    {
      "cell_type": "code",
      "metadata": {
        "id": "GxdzCViQ6Uh3",
        "colab_type": "code",
        "colab": {}
      },
      "source": [
        "model = Sequential()\n",
        "model.add(Dense(...))\n",
        "model.add(Dense(...))\n",
        "model.compile(optimizer='sgd', loss='categorical_crossentropy') \n",
        "model.fit(x, y, epochs=...)\n",
        "model.predict(x)\n",
        "model.evalute(x,y)"
      ],
      "execution_count": 0,
      "outputs": []
    },
    {
      "cell_type": "markdown",
      "metadata": {
        "id": "cs4r77vq9iD5",
        "colab_type": "text"
      },
      "source": [
        "##6. 케라스로 다중 분류 신경망을 만들어봅니다\n",
        "\n",
        "케라스로 다중 분류 신경망을 만든 다음 패션 MNIST 데이터 세트로 모델을 훈련해 보겠습니다."
      ]
    },
    {
      "cell_type": "markdown",
      "metadata": {
        "id": "q1OLvx-M9w2P",
        "colab_type": "text"
      },
      "source": [
        "### 6-1. 모델 생성하기"
      ]
    },
    {
      "cell_type": "code",
      "metadata": {
        "id": "EtPwWdUi839r",
        "colab_type": "code",
        "colab": {}
      },
      "source": [
        "from tensorflow.keras import Sequential\n",
        "from tensorflow.keras.layers import Dense\n",
        "\n",
        "model = Sequential()"
      ],
      "execution_count": 0,
      "outputs": []
    },
    {
      "cell_type": "markdown",
      "metadata": {
        "id": "wklgQQqe-Y9P",
        "colab_type": "text"
      },
      "source": [
        "###6-2. 은닉층과 출력층을 모델에 추가하기\n",
        "MultiClassNetwork 클래스로 만든 것과 동일한 크기의 신경망을 만듭니다\n",
        "\n",
        "은닉층 유닛: 100개, 시그모이드 함수\n",
        "\n",
        "출력층 유닛: 10개, 소프트맥스 함수\n"
      ]
    },
    {
      "cell_type": "code",
      "metadata": {
        "id": "oDlQmbmf9-AV",
        "colab_type": "code",
        "colab": {}
      },
      "source": [
        "model.add(Dense(100, activation='sigmoid', input_shape=(784,)))\n",
        "model.add(Dense(10, activation='softmax'))\n",
        "\n",
        "# 은닉층에는 input_shape에 입력데이터 크기를 지정해야합니다. 이때 입력 행렬의 첫 번째 차원은 입력 데이터의 갯수이므로 나머지 차원만 (784,)형태로 입력합니다"
      ],
      "execution_count": 0,
      "outputs": []
    },
    {
      "cell_type": "markdown",
      "metadata": {
        "id": "45oea46VBKoH",
        "colab_type": "text"
      },
      "source": [
        "###6-3. 최적화 알고리즘과 손실 함수 지정하기"
      ]
    },
    {
      "cell_type": "code",
      "metadata": {
        "id": "fSrk6njOBHaW",
        "colab_type": "code",
        "colab": {}
      },
      "source": [
        "model.compile(optimizer='sgd', loss='categorical_crossentropy', metrics=['accuracy'])\n",
        "\n",
        "# sgd 경사하강법, categorical_crossentropy 크로스 엔트로피 손실함수"
      ],
      "execution_count": 0,
      "outputs": []
    },
    {
      "cell_type": "markdown",
      "metadata": {
        "id": "XAOtnw8uBmbm",
        "colab_type": "text"
      },
      "source": [
        "metrics 매개변수는 훈련 과정기록으로 정확도를 남기기 위해 추가한 것입니다. 이 매개변수를 지정하지 않으면 History 객체에 기본값으로 손실값(loss)이 기록되는데, 모델의 정확도에 대한 기록도 살펴봐야 하므로 accuracy를 추가했습니다"
      ]
    },
    {
      "cell_type": "markdown",
      "metadata": {
        "id": "8mIsaPG8CGhZ",
        "colab_type": "text"
      },
      "source": [
        "###6-4. 모델 훈련하기\n",
        "\n",
        "fit() 메서드를 통해 모델을 40번의 에포크 동안 훈련합니다.  훈련 세트와 검증 세트에서 측정한 값들을 History 클래스 객체에 담아 반환합니다. 훈련하는 동안 검증세트에 대한 손실과 정확도를 계산할 수 있습니다. \n",
        "\n",
        "이를 위해 validation_data 매개변수에 검증세트를 튜플로 전달합니다. "
      ]
    },
    {
      "cell_type": "code",
      "metadata": {
        "id": "dSXP5c-NBUmV",
        "colab_type": "code",
        "outputId": "cd19c2aa-19f3-4307-aa11-9977976039dd",
        "colab": {
          "base_uri": "https://localhost:8080/",
          "height": 1000
        }
      },
      "source": [
        "history = model.fit(x_train, y_train_encoded, epochs=40, validation_data=(x_val, y_val_encoded))"
      ],
      "execution_count": 19,
      "outputs": [
        {
          "output_type": "stream",
          "text": [
            "Train on 48000 samples, validate on 12000 samples\n",
            "Epoch 1/40\n",
            "48000/48000 [==============================] - 5s 97us/sample - loss: 1.3982 - accuracy: 0.6410 - val_loss: 0.9773 - val_accuracy: 0.7394\n",
            "Epoch 2/40\n",
            "48000/48000 [==============================] - 4s 84us/sample - loss: 0.8527 - accuracy: 0.7467 - val_loss: 0.7561 - val_accuracy: 0.7676\n",
            "Epoch 3/40\n",
            "48000/48000 [==============================] - 4s 81us/sample - loss: 0.7135 - accuracy: 0.7681 - val_loss: 0.6644 - val_accuracy: 0.7783\n",
            "Epoch 4/40\n",
            "48000/48000 [==============================] - 4s 81us/sample - loss: 0.6453 - accuracy: 0.7832 - val_loss: 0.6118 - val_accuracy: 0.7916\n",
            "Epoch 5/40\n",
            "48000/48000 [==============================] - 4s 83us/sample - loss: 0.6026 - accuracy: 0.7946 - val_loss: 0.5759 - val_accuracy: 0.8011\n",
            "Epoch 6/40\n",
            "48000/48000 [==============================] - 4s 83us/sample - loss: 0.5724 - accuracy: 0.8047 - val_loss: 0.5493 - val_accuracy: 0.8129\n",
            "Epoch 7/40\n",
            "48000/48000 [==============================] - 4s 80us/sample - loss: 0.5499 - accuracy: 0.8119 - val_loss: 0.5293 - val_accuracy: 0.8167\n",
            "Epoch 8/40\n",
            "48000/48000 [==============================] - 4s 82us/sample - loss: 0.5321 - accuracy: 0.8174 - val_loss: 0.5134 - val_accuracy: 0.8201\n",
            "Epoch 9/40\n",
            "48000/48000 [==============================] - 4s 81us/sample - loss: 0.5175 - accuracy: 0.8220 - val_loss: 0.4987 - val_accuracy: 0.8274\n",
            "Epoch 10/40\n",
            "48000/48000 [==============================] - 4s 81us/sample - loss: 0.5052 - accuracy: 0.8247 - val_loss: 0.4897 - val_accuracy: 0.8286\n",
            "Epoch 11/40\n",
            "48000/48000 [==============================] - 4s 81us/sample - loss: 0.4950 - accuracy: 0.8280 - val_loss: 0.4803 - val_accuracy: 0.8305\n",
            "Epoch 12/40\n",
            "48000/48000 [==============================] - 4s 81us/sample - loss: 0.4862 - accuracy: 0.8309 - val_loss: 0.4704 - val_accuracy: 0.8354\n",
            "Epoch 13/40\n",
            "48000/48000 [==============================] - 4s 82us/sample - loss: 0.4782 - accuracy: 0.8342 - val_loss: 0.4624 - val_accuracy: 0.8368\n",
            "Epoch 14/40\n",
            "48000/48000 [==============================] - 4s 80us/sample - loss: 0.4712 - accuracy: 0.8361 - val_loss: 0.4584 - val_accuracy: 0.8403\n",
            "Epoch 15/40\n",
            "48000/48000 [==============================] - 4s 80us/sample - loss: 0.4646 - accuracy: 0.8375 - val_loss: 0.4515 - val_accuracy: 0.8408\n",
            "Epoch 16/40\n",
            "48000/48000 [==============================] - 4s 81us/sample - loss: 0.4589 - accuracy: 0.8401 - val_loss: 0.4458 - val_accuracy: 0.8430\n",
            "Epoch 17/40\n",
            "48000/48000 [==============================] - 4s 81us/sample - loss: 0.4535 - accuracy: 0.8416 - val_loss: 0.4413 - val_accuracy: 0.8444\n",
            "Epoch 18/40\n",
            "48000/48000 [==============================] - 4s 82us/sample - loss: 0.4488 - accuracy: 0.8430 - val_loss: 0.4376 - val_accuracy: 0.8459\n",
            "Epoch 19/40\n",
            "48000/48000 [==============================] - 4s 82us/sample - loss: 0.4444 - accuracy: 0.8445 - val_loss: 0.4321 - val_accuracy: 0.8488\n",
            "Epoch 20/40\n",
            "48000/48000 [==============================] - 4s 82us/sample - loss: 0.4401 - accuracy: 0.8459 - val_loss: 0.4297 - val_accuracy: 0.8488\n",
            "Epoch 21/40\n",
            "48000/48000 [==============================] - 4s 82us/sample - loss: 0.4361 - accuracy: 0.8471 - val_loss: 0.4250 - val_accuracy: 0.8507\n",
            "Epoch 22/40\n",
            "48000/48000 [==============================] - 4s 80us/sample - loss: 0.4323 - accuracy: 0.8489 - val_loss: 0.4232 - val_accuracy: 0.8512\n",
            "Epoch 23/40\n",
            "48000/48000 [==============================] - 4s 81us/sample - loss: 0.4292 - accuracy: 0.8496 - val_loss: 0.4189 - val_accuracy: 0.8522\n",
            "Epoch 24/40\n",
            "48000/48000 [==============================] - 4s 81us/sample - loss: 0.4257 - accuracy: 0.8501 - val_loss: 0.4158 - val_accuracy: 0.8547\n",
            "Epoch 25/40\n",
            "48000/48000 [==============================] - 4s 81us/sample - loss: 0.4228 - accuracy: 0.8514 - val_loss: 0.4127 - val_accuracy: 0.8553\n",
            "Epoch 26/40\n",
            "48000/48000 [==============================] - 4s 82us/sample - loss: 0.4198 - accuracy: 0.8521 - val_loss: 0.4113 - val_accuracy: 0.8561\n",
            "Epoch 27/40\n",
            "48000/48000 [==============================] - 4s 81us/sample - loss: 0.4167 - accuracy: 0.8534 - val_loss: 0.4095 - val_accuracy: 0.8571\n",
            "Epoch 28/40\n",
            "48000/48000 [==============================] - 4s 82us/sample - loss: 0.4141 - accuracy: 0.8548 - val_loss: 0.4066 - val_accuracy: 0.8570\n",
            "Epoch 29/40\n",
            "48000/48000 [==============================] - 4s 83us/sample - loss: 0.4113 - accuracy: 0.8555 - val_loss: 0.4040 - val_accuracy: 0.8591\n",
            "Epoch 30/40\n",
            "48000/48000 [==============================] - 4s 82us/sample - loss: 0.4090 - accuracy: 0.8550 - val_loss: 0.4017 - val_accuracy: 0.8602\n",
            "Epoch 31/40\n",
            "48000/48000 [==============================] - 4s 82us/sample - loss: 0.4066 - accuracy: 0.8572 - val_loss: 0.4003 - val_accuracy: 0.8586\n",
            "Epoch 32/40\n",
            "48000/48000 [==============================] - 4s 83us/sample - loss: 0.4044 - accuracy: 0.8571 - val_loss: 0.3983 - val_accuracy: 0.8612\n",
            "Epoch 33/40\n",
            "48000/48000 [==============================] - 4s 81us/sample - loss: 0.4019 - accuracy: 0.8585 - val_loss: 0.3972 - val_accuracy: 0.8594\n",
            "Epoch 34/40\n",
            "48000/48000 [==============================] - 4s 80us/sample - loss: 0.3998 - accuracy: 0.8594 - val_loss: 0.3972 - val_accuracy: 0.8597\n",
            "Epoch 35/40\n",
            "48000/48000 [==============================] - 4s 80us/sample - loss: 0.3979 - accuracy: 0.8601 - val_loss: 0.3947 - val_accuracy: 0.8620\n",
            "Epoch 36/40\n",
            "48000/48000 [==============================] - 4s 79us/sample - loss: 0.3957 - accuracy: 0.8605 - val_loss: 0.3937 - val_accuracy: 0.8605\n",
            "Epoch 37/40\n",
            "48000/48000 [==============================] - 4s 82us/sample - loss: 0.3938 - accuracy: 0.8617 - val_loss: 0.3913 - val_accuracy: 0.8622\n",
            "Epoch 38/40\n",
            "48000/48000 [==============================] - 4s 79us/sample - loss: 0.3919 - accuracy: 0.8621 - val_loss: 0.3890 - val_accuracy: 0.8626\n",
            "Epoch 39/40\n",
            "48000/48000 [==============================] - 4s 81us/sample - loss: 0.3901 - accuracy: 0.8629 - val_loss: 0.3870 - val_accuracy: 0.8637\n",
            "Epoch 40/40\n",
            "48000/48000 [==============================] - 4s 80us/sample - loss: 0.3882 - accuracy: 0.8623 - val_loss: 0.3860 - val_accuracy: 0.8644\n"
          ],
          "name": "stdout"
        }
      ]
    },
    {
      "cell_type": "markdown",
      "metadata": {
        "id": "FuN8L1u-E88g",
        "colab_type": "text"
      },
      "source": [
        "###6-5. 손실과 정확도 그래프 그리기\n",
        "\n",
        "History 딕셔너리의 키를 출력해 보면 어떤 측정 지표들이 들어 있는지 알 수 있습니다"
      ]
    },
    {
      "cell_type": "code",
      "metadata": {
        "id": "DPYJWY9xC2BO",
        "colab_type": "code",
        "outputId": "b8bb11cb-c2c0-4e37-8042-736e82181038",
        "colab": {
          "base_uri": "https://localhost:8080/",
          "height": 35
        }
      },
      "source": [
        "print(history.history.keys())"
      ],
      "execution_count": 20,
      "outputs": [
        {
          "output_type": "stream",
          "text": [
            "dict_keys(['loss', 'accuracy', 'val_loss', 'val_accuracy'])\n"
          ],
          "name": "stdout"
        }
      ]
    },
    {
      "cell_type": "markdown",
      "metadata": {
        "id": "ZsU6R4UBFOZM",
        "colab_type": "text"
      },
      "source": [
        "훈련 세트와 검증 세트에서의 손실을 나타내는 loss, val_loss가 있고 정확도를 의미하는 accuracy, val_accuracy가 있습니다. \n",
        "\n",
        "그래프를 그려보겠습니다"
      ]
    },
    {
      "cell_type": "code",
      "metadata": {
        "id": "ZGEUFlqMFLfX",
        "colab_type": "code",
        "outputId": "07449c9a-3f0a-4bd8-df22-2cf4ad35fdea",
        "colab": {
          "base_uri": "https://localhost:8080/",
          "height": 279
        }
      },
      "source": [
        "plt.plot(history.history['loss'])\n",
        "plt.plot(history.history['val_loss'])\n",
        "plt.ylabel('loss')\n",
        "plt.xlabel('epoch')\n",
        "plt.legend(['train_loss', 'val_loss'])\n",
        "plt.show()\n"
      ],
      "execution_count": 21,
      "outputs": [
        {
          "output_type": "display_data",
          "data": {
            "image/png": "[encoded data removed]",
            "text/plain": [
              "<Figure size 432x288 with 1 Axes>"
            ]
          },
          "metadata": {
            "tags": []
          }
        }
      ]
    },
    {
      "cell_type": "code",
      "metadata": {
        "id": "VOZOFbwfFiQv",
        "colab_type": "code",
        "outputId": "b2e63552-5891-48f0-d79b-c50824fb0852",
        "colab": {
          "base_uri": "https://localhost:8080/",
          "height": 279
        }
      },
      "source": [
        "plt.plot(history.history['accuracy'])\n",
        "plt.plot(history.history['val_accuracy'])\n",
        "plt.ylabel('accuracy')\n",
        "plt.xlabel('epoch')\n",
        "plt.legend(['train_accuracy', 'val_accuracy'])\n",
        "plt.show()"
      ],
      "execution_count": 22,
      "outputs": [
        {
          "output_type": "display_data",
          "data": {
            "image/png": "[encoded data removed]",
            "text/plain": [
              "<Figure size 432x288 with 1 Axes>"
            ]
          },
          "metadata": {
            "tags": []
          }
        }
      ]
    },
    {
      "cell_type": "markdown",
      "metadata": {
        "id": "wfNJVmxsH86L",
        "colab_type": "text"
      },
      "source": [
        "###6-6. 검증 세트 정확도 계산하기\n",
        "\n",
        "evaluate() 메서드를 사용하면 손실값과 metrics 매개변수에 추가한 측정 지표를 계산하여 반환합니다. "
      ]
    },
    {
      "cell_type": "code",
      "metadata": {
        "id": "JlFE7nq7JlH9",
        "colab_type": "code",
        "outputId": "fc23073f-d802-46e0-abd5-0bf77645d259",
        "colab": {
          "base_uri": "https://localhost:8080/",
          "height": 35
        }
      },
      "source": [
        "loss, accuracy = model.evaluate(x_val, y_val_encoded, verbose=0)\n",
        "print(loss, accuracy)"
      ],
      "execution_count": 24,
      "outputs": [
        {
          "output_type": "stream",
          "text": [
            "0.3859575534661611 0.86441666\n"
          ],
          "name": "stdout"
        }
      ]
    },
    {
      "cell_type": "markdown",
      "metadata": {
        "id": "q_-16DawJ2eg",
        "colab_type": "text"
      },
      "source": [
        "정확도가 약 81%로 케라스로 구현한 다중 분류 신경망이 MultiClassNetwork에 비해 성능이 크게 좋지 않은 이유는 이미지 데이터에 잘 맞는 모델이 아니기 때문입니다.\n",
        "\n"
      ]
    },
    {
      "cell_type": "code",
      "metadata": {
        "id": "nRFmeXzLJs6O",
        "colab_type": "code",
        "colab": {}
      },
      "source": [
        ""
      ],
      "execution_count": 0,
      "outputs": []
    }
  ]
}