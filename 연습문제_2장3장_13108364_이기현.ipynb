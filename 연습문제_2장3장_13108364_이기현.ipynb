{
  "nbformat": 4,
  "nbformat_minor": 0,
  "metadata": {
    "colab": {
      "name": "연습문제 2장3장 13108364 이기현.ipynb",
      "provenance": [],
      "collapsed_sections": []
    },
    "kernelspec": {
      "name": "python3",
      "display_name": "Python 3"
    }
  },
  "cells": [
    {
      "cell_type": "markdown",
      "metadata": {
        "id": "7kCFCzV9hq2d",
        "colab_type": "text"
      },
      "source": [
        "# 연습문제 2장"
      ]
    },
    {
      "cell_type": "markdown",
      "metadata": {
        "id": "hdoiVRXOKTWs",
        "colab_type": "text"
      },
      "source": [
        "#Q1 \n",
        "--------\n",
        "홍길동 씨의 과목별 점수는 다음과 같다. 홍길동의 평균 점수를 구해보자.\n",
        "\n",
        "과목|점수|\n",
        ":----:|:----:\n",
        "국어|80\n",
        "영어|75\n",
        "수학|55"
      ]
    },
    {
      "cell_type": "code",
      "metadata": {
        "id": "gcV5sUT7Ld3N",
        "colab_type": "code",
        "outputId": "48fe24cf-aa1d-47c0-f219-188d9edb91ba",
        "colab": {
          "base_uri": "https://localhost:8080/",
          "height": 35
        }
      },
      "source": [
        "a = 80\n",
        "b = 75\n",
        "c = 55\n",
        "(a+b+c)/3"
      ],
      "execution_count": 0,
      "outputs": [
        {
          "output_type": "execute_result",
          "data": {
            "text/plain": [
              "70.0"
            ]
          },
          "metadata": {
            "tags": []
          },
          "execution_count": 1
        }
      ]
    },
    {
      "cell_type": "markdown",
      "metadata": {
        "id": "YgkEPVekMBAT",
        "colab_type": "text"
      },
      "source": [
        "#Q2\n",
        "-------------\n",
        "자연수 13이 홀수인지 짝수인지 판별할 수 있는 방법에 대해 말해보자."
      ]
    },
    {
      "cell_type": "code",
      "metadata": {
        "id": "OUjfz9zgMWma",
        "colab_type": "code",
        "outputId": "9b853c46-3651-4407-af68-f50665c06362",
        "colab": {
          "base_uri": "https://localhost:8080/",
          "height": 35
        }
      },
      "source": [
        "13%2"
      ],
      "execution_count": 0,
      "outputs": [
        {
          "output_type": "execute_result",
          "data": {
            "text/plain": [
              "1"
            ]
          },
          "metadata": {
            "tags": []
          },
          "execution_count": 2
        }
      ]
    },
    {
      "cell_type": "markdown",
      "metadata": {
        "id": "UmmTbgECMe33",
        "colab_type": "text"
      },
      "source": [
        "나머지가 출력되는 %을 이용하여 홀짝을 구분한다."
      ]
    },
    {
      "cell_type": "markdown",
      "metadata": {
        "id": "MuHFB0CPMsan",
        "colab_type": "text"
      },
      "source": [
        "#Q3\n",
        "------------------------\n",
        "홍길동 씨의 주민등록번호는 881120-1068234이다. 홍길동 씨의 주민등록번호를 연월일(YYYYMMDD) 부분과 그 뒤의 숫자 부분으로 나누어 출력해 보자."
      ]
    },
    {
      "cell_type": "code",
      "metadata": {
        "id": "dFkRcaPZM2Cb",
        "colab_type": "code",
        "outputId": "8eec5aaa-41fc-4b02-86f5-dab519543348",
        "colab": {
          "base_uri": "https://localhost:8080/",
          "height": 53
        }
      },
      "source": [
        "pin = \"881120-1068234\"\n",
        "yyyymmdd = pin[:6]\n",
        "num = pin[7:]\n",
        "print(yyyymmdd)\n",
        "print(num)"
      ],
      "execution_count": 0,
      "outputs": [
        {
          "output_type": "stream",
          "text": [
            "881120\n",
            "1068234\n"
          ],
          "name": "stdout"
        }
      ]
    },
    {
      "cell_type": "markdown",
      "metadata": {
        "id": "gSfy7hlpOt-3",
        "colab_type": "text"
      },
      "source": [
        "#Q4\n",
        "----------------------\n",
        "주민등록번호 뒷자리의 맨 첫 번째 숫자는 성별을 나타낸다. 주민등록번호에서 성별을 나타내는 숫자를 출력해 보자.\n",
        "\n",
        "pin = \"881120-1068234\""
      ]
    },
    {
      "cell_type": "code",
      "metadata": {
        "id": "S0AyfyDuOzCC",
        "colab_type": "code",
        "outputId": "50df934b-62f8-44a0-a1cb-bba781cd0896",
        "colab": {
          "base_uri": "https://localhost:8080/",
          "height": 35
        }
      },
      "source": [
        "a = pin[7]\n",
        "print(a)"
      ],
      "execution_count": 0,
      "outputs": [
        {
          "output_type": "stream",
          "text": [
            "1\n"
          ],
          "name": "stdout"
        }
      ]
    },
    {
      "cell_type": "markdown",
      "metadata": {
        "id": "RoGJpdpXPikH",
        "colab_type": "text"
      },
      "source": [
        "#Q5\n",
        "-----------------------\n",
        "다음과 같은 문자열 a:b:c:d가 있다. 문자열의 replace 함수를 사용하여 a#b#c#d로 바꿔서 출력해 보자.\n",
        "\n",
        "a = \"a:b:c:d\""
      ]
    },
    {
      "cell_type": "code",
      "metadata": {
        "id": "0MB_5PjbPpQ2",
        "colab_type": "code",
        "outputId": "d597e8d3-648a-46ac-ec11-09bb67df3f6a",
        "colab": {
          "base_uri": "https://localhost:8080/",
          "height": 35
        }
      },
      "source": [
        "a = \"a:b:c:d\"\n",
        "b = a.replace(\":\",\"#\")\n",
        "print(b)"
      ],
      "execution_count": 0,
      "outputs": [
        {
          "output_type": "stream",
          "text": [
            "a#b#c#d\n"
          ],
          "name": "stdout"
        }
      ]
    },
    {
      "cell_type": "markdown",
      "metadata": {
        "id": "KtGIpMkUQqBW",
        "colab_type": "text"
      },
      "source": [
        "#Q6\n",
        "----------------------\n",
        "[1, 3, 5, 4, 2] 리스트를 [5, 4, 3, 2, 1]로 만들어 보자."
      ]
    },
    {
      "cell_type": "code",
      "metadata": {
        "id": "bkecnvpPQusV",
        "colab_type": "code",
        "outputId": "4e4ca4fd-48a1-42e0-fe86-3eac8ad5d513",
        "colab": {
          "base_uri": "https://localhost:8080/",
          "height": 35
        }
      },
      "source": [
        "a = [1,3,5,4,2]\n",
        "a.sort()\n",
        "a.reverse()\n",
        "print(a)"
      ],
      "execution_count": 0,
      "outputs": [
        {
          "output_type": "stream",
          "text": [
            "[5, 4, 3, 2, 1]\n"
          ],
          "name": "stdout"
        }
      ]
    },
    {
      "cell_type": "markdown",
      "metadata": {
        "id": "POwhAZf-T0d4",
        "colab_type": "text"
      },
      "source": [
        "#Q7\n",
        "-------------------------\n",
        "['Life', 'is', 'too', 'short'] 리스트를 Life is too short 문자열로 만들어 출력해 보자."
      ]
    },
    {
      "cell_type": "code",
      "metadata": {
        "id": "EtLBqK46T5uU",
        "colab_type": "code",
        "outputId": "c2ba6162-9083-4ba2-a874-61696e20d102",
        "colab": {
          "base_uri": "https://localhost:8080/",
          "height": 35
        }
      },
      "source": [
        "a = ['Life', 'is', 'too', 'short']\n",
        "b = \" \".join(a)\n",
        "print(b)"
      ],
      "execution_count": 0,
      "outputs": [
        {
          "output_type": "stream",
          "text": [
            "Life is too short\n"
          ],
          "name": "stdout"
        }
      ]
    },
    {
      "cell_type": "markdown",
      "metadata": {
        "id": "Ts0fED6_VepL",
        "colab_type": "text"
      },
      "source": [
        "#Q8\n",
        "----------------------------\n",
        "(1,2,3) 튜플에 값 4를 추가하여 (1,2,3,4)를 만들어 출력해 보자."
      ]
    },
    {
      "cell_type": "code",
      "metadata": {
        "id": "Kk6qviGQVjR2",
        "colab_type": "code",
        "outputId": "941cd26b-87fc-409d-ecc1-98daa1d026c2",
        "colab": {
          "base_uri": "https://localhost:8080/",
          "height": 35
        }
      },
      "source": [
        "t1 = (1,2,3)\n",
        "t2 = (4,)\n",
        "t1 + t2"
      ],
      "execution_count": 0,
      "outputs": [
        {
          "output_type": "execute_result",
          "data": {
            "text/plain": [
              "(1, 2, 3, 4)"
            ]
          },
          "metadata": {
            "tags": []
          },
          "execution_count": 41
        }
      ]
    },
    {
      "cell_type": "markdown",
      "metadata": {
        "id": "cbtYH6QPWwOW",
        "colab_type": "text"
      },
      "source": [
        "#Q9\n",
        "---------------------------\n",
        "다음과 같은 딕셔너리 a가 있다.\n",
        "```    \n",
        "a = dict()\n",
        "a\n",
        "\n",
        "{}\n",
        "```    \n",
        "다음 중 오류가 발생하는 경우를 고르고, 그 이유를 설명해 보자.\n",
        "\n",
        "1. `a['name'] = 'python'`\n",
        "2. `a[('a',)] = 'python'`\n",
        "3. `a[[1]] = 'python'`\n",
        "4. `a[250] = 'python'`\n"
      ]
    },
    {
      "cell_type": "markdown",
      "metadata": {
        "id": "sju-1-aQcj17",
        "colab_type": "text"
      },
      "source": [
        "key에는 리스트를 넣을 수 없다 따라서 3번의 경우가 오류가 발생하는 경우다"
      ]
    },
    {
      "cell_type": "markdown",
      "metadata": {
        "id": "6CMTSlDceSV3",
        "colab_type": "text"
      },
      "source": [
        "#Q10\n",
        "---------------------------------\n",
        "딕셔너리 a에서 'B'에 해당되는 값을 추출해 보자.\n",
        ">a = {'A':90, 'B':80, 'C':70}"
      ]
    },
    {
      "cell_type": "code",
      "metadata": {
        "id": "u8JlmRt9eVnR",
        "colab_type": "code",
        "outputId": "d24d2639-083a-4783-9c1f-f5ca6d8d4bd1",
        "colab": {
          "base_uri": "https://localhost:8080/",
          "height": 53
        }
      },
      "source": [
        "a = {'A':90, 'B':80, 'C':70}\n",
        "b = a.pop('B')\n",
        "print(a)\n",
        "print(b)"
      ],
      "execution_count": 0,
      "outputs": [
        {
          "output_type": "stream",
          "text": [
            "{'A': 90, 'C': 70}\n",
            "80\n"
          ],
          "name": "stdout"
        }
      ]
    },
    {
      "cell_type": "markdown",
      "metadata": {
        "id": "PgNHW4j0fzzy",
        "colab_type": "text"
      },
      "source": [
        "#Q11\n",
        "------------------------------\n",
        "a 리스트에서 중복 숫자를 제거해 보자.\n",
        "> a = [1, 1, 1, 2, 2, 3, 3, 3, 4, 4, 5]"
      ]
    },
    {
      "cell_type": "code",
      "metadata": {
        "id": "O5yGxkhSf77x",
        "colab_type": "code",
        "outputId": "801ef67b-db13-4925-f368-84f4241b03ab",
        "colab": {
          "base_uri": "https://localhost:8080/",
          "height": 35
        }
      },
      "source": [
        "a = [1,1,1,2,2,3,3,3,4,4,5]\n",
        "s1 = set(a)\n",
        "list(s1)"
      ],
      "execution_count": 0,
      "outputs": [
        {
          "output_type": "execute_result",
          "data": {
            "text/plain": [
              "[1, 2, 3, 4, 5]"
            ]
          },
          "metadata": {
            "tags": []
          },
          "execution_count": 22
        }
      ]
    },
    {
      "cell_type": "markdown",
      "metadata": {
        "id": "J2Vmtf61g1wS",
        "colab_type": "text"
      },
      "source": [
        "#Q12\n",
        "--------------------------\n",
        "파이썬은 다음처럼 동일한 값에 여러 개의 변수를 선언할 수 있다. 다음과 같이 a, b 변수를 선언한 후 a의 두 번째 요솟값을 변경하면 b 값은 어떻게 될까? 그리고 이런 결과가 오는 이유에 대해 설명해 보자.\n",
        "\n",
        "```\n",
        "a = b = [1, 2, 3]\n",
        "a[1] = 4\n",
        "print(b)\n",
        "```"
      ]
    },
    {
      "cell_type": "code",
      "metadata": {
        "id": "9s5RPruog6Ab",
        "colab_type": "code",
        "outputId": "ceed7154-9194-4a68-f794-b3d458e354c8",
        "colab": {
          "base_uri": "https://localhost:8080/",
          "height": 35
        }
      },
      "source": [
        "a = b = [1,2,3]\n",
        "a[1] = 4 \n",
        "print(b)\n"
      ],
      "execution_count": 0,
      "outputs": [
        {
          "output_type": "stream",
          "text": [
            "[1, 4, 3]\n"
          ],
          "name": "stdout"
        }
      ]
    },
    {
      "cell_type": "markdown",
      "metadata": {
        "id": "8w-3piYMhmNm",
        "colab_type": "text"
      },
      "source": [
        "a와 b 변수는 모두 동일한 [1, 2, 3]이라는 리스트 객체를 가리키고 있기 때문이다."
      ]
    },
    {
      "cell_type": "markdown",
      "metadata": {
        "id": "nwmArnLah9ga",
        "colab_type": "text"
      },
      "source": [
        "# 연습문제 3장"
      ]
    },
    {
      "cell_type": "markdown",
      "metadata": {
        "id": "JmTL-k9jiByK",
        "colab_type": "text"
      },
      "source": [
        "#Q1\n",
        "-----------------------------------\n",
        "다음 코드의 결괏값은 무엇일까?\n",
        "```\n",
        "a = \"Life is too short, you need python\"\n",
        "\n",
        "if \"wife\" in a: print(\"wife\")\n",
        "elif \"python\" in a and \"you\" not in a: print(\"python\")\n",
        "elif \"shirt\" not in a: print(\"shirt\")\n",
        "elif \"need\" in a: print(\"need\")\n",
        "else: print(\"none\")\n",
        "```"
      ]
    },
    {
      "cell_type": "markdown",
      "metadata": {
        "id": "k1lIVVcGKcqD",
        "colab_type": "text"
      },
      "source": [
        "1. wife가 없으므로 거짓\n",
        "2. python과 you 둘다 있으므로 거짓 \n",
        "3. shirt 없으므로 참 \n",
        "4. need가 있으므로 참\n",
        "\n",
        "3번째가 가장 먼저 참이므로 shirt가 출력된다."
      ]
    },
    {
      "cell_type": "markdown",
      "metadata": {
        "id": "MkyRN9LOK7rG",
        "colab_type": "text"
      },
      "source": [
        "#Q2\n",
        "---------------------------------\n",
        "while문을 사용해 1부터 1000까지의 자연수 중 3의 배수의 합을 구해 보자."
      ]
    },
    {
      "cell_type": "code",
      "metadata": {
        "id": "IwIhMA0IK5B-",
        "colab_type": "code",
        "colab": {
          "base_uri": "https://localhost:8080/",
          "height": 35
        },
        "outputId": "7584b046-b3bc-4f24-8c8d-a2c99f8460e4"
      },
      "source": [
        "a = 0\n",
        "i = 1\n",
        "while i <= 1000:\n",
        "  if i % 3 == 0:\n",
        "        a += i\n",
        "  i += 1\n",
        "\n",
        "print(a)"
      ],
      "execution_count": 12,
      "outputs": [
        {
          "output_type": "stream",
          "text": [
            "166833\n"
          ],
          "name": "stdout"
        }
      ]
    },
    {
      "cell_type": "markdown",
      "metadata": {
        "id": "5j6psy1bO5d7",
        "colab_type": "text"
      },
      "source": [
        "#Q3\n",
        "-----------------\n",
        "while문을 사용하여 다음과 같이 별(*)을 표시하는 프로그램을 작성해 보자.\n",
        "\n",
        "```\n",
        "*\n",
        "**\n",
        "***\n",
        "****\n",
        "*****\n",
        "```"
      ]
    },
    {
      "cell_type": "code",
      "metadata": {
        "id": "btvv9mpQNOdg",
        "colab_type": "code",
        "colab": {
          "base_uri": "https://localhost:8080/",
          "height": 107
        },
        "outputId": "f5500255-2bdb-4681-a6ce-0034267cc664"
      },
      "source": [
        "i = 0\n",
        "while True:\n",
        "  i += 1\n",
        "  if i > 5 : break\n",
        "   \n",
        "  print('*' * i)"
      ],
      "execution_count": 13,
      "outputs": [
        {
          "output_type": "stream",
          "text": [
            "*\n",
            "**\n",
            "***\n",
            "****\n",
            "*****\n"
          ],
          "name": "stdout"
        }
      ]
    },
    {
      "cell_type": "markdown",
      "metadata": {
        "id": "c1qubTzmPsuO",
        "colab_type": "text"
      },
      "source": [
        "#Q4\n",
        "-------------------------\n",
        "for문을 사용해 1부터 100까지의 숫자를 출력해 보자."
      ]
    },
    {
      "cell_type": "code",
      "metadata": {
        "id": "Ly1Y9gRpPoKp",
        "colab_type": "code",
        "colab": {
          "base_uri": "https://localhost:8080/",
          "height": 55
        },
        "outputId": "9265d31b-2f9a-4062-b4b8-eab66eb65a2b"
      },
      "source": [
        "for i in range(1,101):\n",
        "  print(i, end=\" \")"
      ],
      "execution_count": 24,
      "outputs": [
        {
          "output_type": "stream",
          "text": [
            "1 2 3 4 5 6 7 8 9 10 11 12 13 14 15 16 17 18 19 20 21 22 23 24 25 26 27 28 29 30 31 32 33 34 35 36 37 38 39 40 41 42 43 44 45 46 47 48 49 50 51 52 53 54 55 56 57 58 59 60 61 62 63 64 65 66 67 68 69 70 71 72 73 74 75 76 77 78 79 80 81 82 83 84 85 86 87 88 89 90 91 92 93 94 95 96 97 98 99 100 "
          ],
          "name": "stdout"
        }
      ]
    },
    {
      "cell_type": "markdown",
      "metadata": {
        "id": "TS2e5qZGQ_Om",
        "colab_type": "text"
      },
      "source": [
        "#Q5\n",
        "--------------------------\n",
        "A 학급에 총 10명의 학생이 있다. 이 학생들의 중간고사 점수는 다음과 같다.\n",
        "\n",
        "[70, 60, 55, 75, 95, 90, 80, 80, 85, 100]\n",
        "\n",
        "for문을 사용하여 A 학급의 평균 점수를 구해 보자."
      ]
    },
    {
      "cell_type": "code",
      "metadata": {
        "id": "pVf6J7PjP79q",
        "colab_type": "code",
        "colab": {
          "base_uri": "https://localhost:8080/",
          "height": 35
        },
        "outputId": "33c8662a-1dfa-453f-f1b3-5f74cd35f917"
      },
      "source": [
        "a = [70, 60, 55, 75, 95, 90, 80, 80, 85, 100]\n",
        "total = 0\n",
        "\n",
        "for score in a:\n",
        "    total += score\n",
        "  \n",
        "average = total/len(a)\n",
        "print(average)"
      ],
      "execution_count": 27,
      "outputs": [
        {
          "output_type": "stream",
          "text": [
            "79.0\n"
          ],
          "name": "stdout"
        }
      ]
    },
    {
      "cell_type": "markdown",
      "metadata": {
        "id": "ojPHHhBxR9us",
        "colab_type": "text"
      },
      "source": [
        "#Q6\n",
        "---------------------------\n",
        "리스트 중에서 홀수에만 2를 곱하여 저장하는 다음 코드가 있다.\n",
        "```\n",
        "numbers = [1, 2, 3, 4, 5]\n",
        "result = []\n",
        "for n in numbers:\n",
        "    if n % 2 == 1:\n",
        "        result.append(n*2)\n",
        "```\n",
        "\n",
        "위 코드를 리스트 내포(list comprehension)를 사용하여 표현해 보자.\n",
        "\n"
      ]
    },
    {
      "cell_type": "code",
      "metadata": {
        "id": "BWb7pdD1RTh6",
        "colab_type": "code",
        "colab": {
          "base_uri": "https://localhost:8080/",
          "height": 35
        },
        "outputId": "673e4dc2-7979-476a-f176-ce10c57ead26"
      },
      "source": [
        "numbers = [1, 2, 3, 4, 5]\n",
        "result = []\n",
        "for n in numbers:\n",
        "    if n % 2 == 1:\n",
        "        result.append(n*2)\n",
        "        \n",
        "print(result)"
      ],
      "execution_count": 30,
      "outputs": [
        {
          "output_type": "stream",
          "text": [
            "[2, 6, 10]\n"
          ],
          "name": "stdout"
        }
      ]
    },
    {
      "cell_type": "code",
      "metadata": {
        "id": "k544ZPjhSVOs",
        "colab_type": "code",
        "colab": {
          "base_uri": "https://localhost:8080/",
          "height": 35
        },
        "outputId": "a3d88be2-2169-43a2-c090-1a04728d0af4"
      },
      "source": [
        "numbers = [1, 2, 3, 4, 5]\n",
        "result = [n*2 for n in numbers if n%2 == 1]\n",
        "\n",
        "print(result)"
      ],
      "execution_count": 31,
      "outputs": [
        {
          "output_type": "stream",
          "text": [
            "[2, 6, 10]\n"
          ],
          "name": "stdout"
        }
      ]
    },
    {
      "cell_type": "code",
      "metadata": {
        "id": "JoUuT4i3Wnbq",
        "colab_type": "code",
        "colab": {}
      },
      "source": [
        ""
      ],
      "execution_count": 0,
      "outputs": []
    }
  ]
}