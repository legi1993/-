{
  "nbformat": 4,
  "nbformat_minor": 0,
  "metadata": {
    "colab": {
      "name": "__init__ 의 용도.ipynb",
      "provenance": [],
      "collapsed_sections": []
    },
    "kernelspec": {
      "name": "python3",
      "display_name": "Python 3"
    }
  },
  "cells": [
    {
      "cell_type": "markdown",
      "metadata": {
        "id": "YdBPQp4wkyNn",
        "colab_type": "text"
      },
      "source": [
        "#`__init__.py` 의 용도\n",
        "------------------------\n",
        "`__init__.py`은 해당 디렉터리가 패키지의 일부임을 알려주는 역할을 한다. \n",
        "\n",
        "\n",
        "**가상의 game 패키지**\n",
        "```\n",
        "game/\n",
        "    __init__.py\n",
        "    sound/\n",
        "        __init__.py\n",
        "        echo.py\n",
        "        wav.py\n",
        "    graphic/\n",
        "        __init__.py\n",
        "        screen.py\n",
        "        render.py\n",
        "    play/\n",
        "        __init__.py\n",
        "        run.py\n",
        "        test.py\n",
        " ```\n",
        " \n",
        " `__init__.py` 파일이 없다면 하위 디렉터리들을 패키지 일부로 인식하지 않았지만 파이썬 3.3 부터는 `__init__.py`가 없어도 패키지로 인식한다(다만 하위 버전 호환을 위해`__init__.py`를 생성하는 것이 안전하다)"
      ]
    },
    {
      "cell_type": "markdown",
      "metadata": {
        "id": "e5G6xaWYnAV2",
        "colab_type": "text"
      },
      "source": [
        "예시\n",
        "\n",
        "```\n",
        "from game.sound import *\n",
        "\n",
        "echo.echo_test()\n",
        "Traceback (most recent call last):\n",
        "    File \"<stdin>\", line 1, in <module>\n",
        "NameError: name 'echo' is not defined\n",
        "```\n",
        "game.sound의 모든 것(`*`)을 import했음에도 불구하고 echo 모듈을 사용할 수가 없다.\n",
        "패키지에선 `*`를 쓸 경우 `from a.b.c import *` 에서 c가 모듈일때 import된다.\n",
        "\n",
        "즉 `from game.sound.echo import *` 일땐 import된다\n",
        "<br>\n",
        "<br>\n",
        "<br>\n",
        "<br>\n",
        "`*`를 사용하는 또다른 방법은 `__init__.py` 파일 안에 `__all__` 변수를 설정하고 import할 수 있는 모듈을 정의해 주어야 한다.\n",
        "\n",
        "```\n",
        "# C:/doit/game/sound/__init__.py\n",
        "__all__ = ['echo']\n",
        "```\n",
        "이 경우 echo 모듈만 import 되어 아래와 같이 된다.\n",
        "\n",
        "```\n",
        "from game.sound import *\n",
        "echo.echo_test()\n",
        "echo\n",
        "```\n",
        "\n"
      ]
    },
    {
      "cell_type": "code",
      "metadata": {
        "id": "-vrmJcJdumqC",
        "colab_type": "code",
        "colab": {}
      },
      "source": [
        ""
      ],
      "execution_count": 0,
      "outputs": []
    }
  ]
}