{
  "nbformat": 4,
  "nbformat_minor": 0,
  "metadata": {
    "colab": {
      "name": "LSTM_2nd.ipynb",
      "provenance": [],
      "collapsed_sections": []
    },
    "kernelspec": {
      "name": "python3",
      "display_name": "Python 3"
    }
  },
  "cells": [
    {
      "cell_type": "code",
      "metadata": {
        "id": "8Vp0J9eapLzN",
        "colab_type": "code",
        "outputId": "7a8aaa8a-baaf-4254-f710-ee80b393a27c",
        "colab": {
          "base_uri": "https://localhost:8080/",
          "height": 107
        }
      },
      "source": [
        "try:\n",
        "\n",
        "    %tensorflow_version 2.x  # %tensorflow_version only exists in Colab\n",
        "\n",
        "except Exception:\n",
        "\n",
        "    pass"
      ],
      "execution_count": 0,
      "outputs": [
        {
          "output_type": "stream",
          "text": [
            "`%tensorflow_version` only switches the major version: `1.x` or `2.x`.\n",
            "You set: `2.x  # %tensorflow_version only exists in Colab`. This will be interpreted as: `2.x`.\n",
            "\n",
            "\n",
            "TensorFlow 2.x selected.\n"
          ],
          "name": "stdout"
        }
      ]
    },
    {
      "cell_type": "code",
      "metadata": {
        "id": "UtFM5rIgpNMF",
        "colab_type": "code",
        "colab": {}
      },
      "source": [
        "import numpy as np\n",
        "from tensorflow.keras.datasets import imdb\n",
        "import tensorflow as tf\n",
        "from tensorflow.keras.preprocessing import sequence\n",
        "from tensorflow.keras.models import Sequential\n",
        "from tensorflow.keras.layers import Dense, SimpleRNN\n",
        "from tensorflow.keras.layers import Embedding\n",
        "from tensorflow.keras.layers import LSTM\n",
        "\n",
        "\n"
      ],
      "execution_count": 0,
      "outputs": []
    },
    {
      "cell_type": "code",
      "metadata": {
        "id": "C8ir7hdXpa3a",
        "colab_type": "code",
        "outputId": "d87a0f45-1bd7-457b-cef4-74f574c3adfc",
        "colab": {
          "base_uri": "https://localhost:8080/",
          "height": 53
        }
      },
      "source": [
        "(x_train_all, y_train_all), (x_test, y_test) = imdb.load_data(skip_top=20, num_words=1000)\n",
        "\n",
        "for i in range(len(x_train_all)):\n",
        "    x_train_all[i] = [w for w in x_train_all[i] if w > 2]\n",
        "    \n",
        "random_index = np.random.permutation(25000)   \n",
        "x_train = x_train_all[random_index[:20000]]\n",
        "y_train = y_train_all[random_index[:20000]]\n",
        "x_val = x_train_all[random_index[20000:]]\n",
        "y_val = y_train_all[random_index[20000:]]"
      ],
      "execution_count": 0,
      "outputs": [
        {
          "output_type": "stream",
          "text": [
            "Downloading data from https://storage.googleapis.com/tensorflow/tf-keras-datasets/imdb.npz\n",
            "17465344/17464789 [==============================] - 0s 0us/step\n"
          ],
          "name": "stdout"
        }
      ]
    },
    {
      "cell_type": "code",
      "metadata": {
        "id": "rOO9YN5jOyza",
        "colab_type": "code",
        "colab": {}
      },
      "source": [
        "maxlen=100\n",
        "x_train_seq = sequence.pad_sequences(x_train, maxlen=maxlen)\n",
        "x_val_seq = sequence.pad_sequences(x_val, maxlen=maxlen)"
      ],
      "execution_count": 0,
      "outputs": []
    },
    {
      "cell_type": "code",
      "metadata": {
        "id": "WtoY0uKJpfug",
        "colab_type": "code",
        "outputId": "7f799783-31f2-485f-cc09-c7ccee0eb47d",
        "colab": {
          "base_uri": "https://localhost:8080/",
          "height": 305
        }
      },
      "source": [
        "model_lstm = Sequential()\n",
        "\n",
        "model_lstm.add(Embedding(1000, 32))\n",
        "model_lstm.add(LSTM(8, return_sequences=True))\n",
        "model_lstm.add(LSTM(8))\n",
        "model_lstm.add(Dense(1, activation='sigmoid'))\n",
        "\n",
        "model_lstm.summary()"
      ],
      "execution_count": 0,
      "outputs": [
        {
          "output_type": "stream",
          "text": [
            "Model: \"sequential_6\"\n",
            "_________________________________________________________________\n",
            "Layer (type)                 Output Shape              Param #   \n",
            "=================================================================\n",
            "embedding_7 (Embedding)      (None, None, 32)          32000     \n",
            "_________________________________________________________________\n",
            "lstm_8 (LSTM)                (None, None, 8)           1312      \n",
            "_________________________________________________________________\n",
            "lstm_9 (LSTM)                (None, 8)                 544       \n",
            "_________________________________________________________________\n",
            "dense_3 (Dense)              (None, 1)                 9         \n",
            "=================================================================\n",
            "Total params: 33,865\n",
            "Trainable params: 33,865\n",
            "Non-trainable params: 0\n",
            "_________________________________________________________________\n"
          ],
          "name": "stdout"
        }
      ]
    },
    {
      "cell_type": "code",
      "metadata": {
        "id": "dSqXkwJXsoYh",
        "colab_type": "code",
        "outputId": "ea1e2f97-3da5-4cf5-f310-7fcd6a06c76e",
        "colab": {
          "base_uri": "https://localhost:8080/",
          "height": 395
        }
      },
      "source": [
        "model_lstm.compile(optimizer='adam', loss='binary_crossentropy', metrics=['accuracy'])\n",
        "\n",
        "history = model_lstm.fit(x_train_seq, y_train, epochs=10, batch_size=32, \n",
        "                         validation_data=(x_val_seq, y_val))"
      ],
      "execution_count": 0,
      "outputs": [
        {
          "output_type": "stream",
          "text": [
            "Train on 20000 samples, validate on 5000 samples\n",
            "Epoch 1/10\n",
            "20000/20000 [==============================] - 50s 3ms/sample - loss: 0.4431 - accuracy: 0.7975 - val_loss: 0.3855 - val_accuracy: 0.8374\n",
            "Epoch 2/10\n",
            "20000/20000 [==============================] - 46s 2ms/sample - loss: 0.3383 - accuracy: 0.8583 - val_loss: 0.3622 - val_accuracy: 0.8450\n",
            "Epoch 3/10\n",
            "20000/20000 [==============================] - 46s 2ms/sample - loss: 0.3158 - accuracy: 0.8671 - val_loss: 0.3548 - val_accuracy: 0.8456\n",
            "Epoch 4/10\n",
            "20000/20000 [==============================] - 46s 2ms/sample - loss: 0.3001 - accuracy: 0.8734 - val_loss: 0.3535 - val_accuracy: 0.8404\n",
            "Epoch 5/10\n",
            "20000/20000 [==============================] - 46s 2ms/sample - loss: 0.2824 - accuracy: 0.8821 - val_loss: 0.3571 - val_accuracy: 0.8418\n",
            "Epoch 6/10\n",
            "20000/20000 [==============================] - 46s 2ms/sample - loss: 0.2707 - accuracy: 0.8888 - val_loss: 0.3742 - val_accuracy: 0.8418\n",
            "Epoch 7/10\n",
            "20000/20000 [==============================] - 45s 2ms/sample - loss: 0.2593 - accuracy: 0.8929 - val_loss: 0.3824 - val_accuracy: 0.8400\n",
            "Epoch 8/10\n",
            "20000/20000 [==============================] - 45s 2ms/sample - loss: 0.2475 - accuracy: 0.9000 - val_loss: 0.3861 - val_accuracy: 0.8352\n",
            "Epoch 9/10\n",
            "20000/20000 [==============================] - 45s 2ms/sample - loss: 0.2338 - accuracy: 0.9038 - val_loss: 0.4024 - val_accuracy: 0.8322\n",
            "Epoch 10/10\n",
            "20000/20000 [==============================] - 45s 2ms/sample - loss: 0.2230 - accuracy: 0.9105 - val_loss: 0.4140 - val_accuracy: 0.8344\n"
          ],
          "name": "stdout"
        }
      ]
    },
    {
      "cell_type": "code",
      "metadata": {
        "id": "nkeritluRTpP",
        "colab_type": "code",
        "colab": {}
      },
      "source": [
        "import matplotlib.pyplot as plt"
      ],
      "execution_count": 0,
      "outputs": []
    },
    {
      "cell_type": "code",
      "metadata": {
        "id": "b3SFsWSbRZxk",
        "colab_type": "code",
        "outputId": "54f8388e-42e1-4307-bef0-9162632e3df7",
        "colab": {
          "base_uri": "https://localhost:8080/",
          "height": 266
        }
      },
      "source": [
        "plt.plot(history.history['loss'])\n",
        "plt.plot(history.history['val_loss'])\n",
        "plt.show()"
      ],
      "execution_count": 0,
      "outputs": [
        {
          "output_type": "display_data",
          "data": {
            "image/png": "[encoded data removed]",
            "text/plain": [
              "<Figure size 432x288 with 1 Axes>"
            ]
          },
          "metadata": {
            "tags": []
          }
        }
      ]
    },
    {
      "cell_type": "code",
      "metadata": {
        "id": "FcpNN6r6RjEE",
        "colab_type": "code",
        "outputId": "6ede0c70-f623-4a73-a04d-cf4997e19554",
        "colab": {
          "base_uri": "https://localhost:8080/",
          "height": 265
        }
      },
      "source": [
        "plt.plot(history.history['accuracy'])\n",
        "plt.plot(history.history['val_accuracy'])\n",
        "plt.show()"
      ],
      "execution_count": 0,
      "outputs": [
        {
          "output_type": "display_data",
          "data": {
            "image/png": "[encoded data removed]",
            "text/plain": [
              "<Figure size 432x288 with 1 Axes>"
            ]
          },
          "metadata": {
            "tags": []
          }
        }
      ]
    },
    {
      "cell_type": "code",
      "metadata": {
        "id": "9EvGAZQKRn08",
        "colab_type": "code",
        "outputId": "a40d29ff-1657-4784-b607-bbd4074c3da3",
        "colab": {
          "base_uri": "https://localhost:8080/",
          "height": 35
        }
      },
      "source": [
        "loss, accuracy = model_lstm.evaluate(x_val_seq, y_val, verbose=0)\n",
        "print(accuracy)"
      ],
      "execution_count": 0,
      "outputs": [
        {
          "output_type": "stream",
          "text": [
            "0.8344\n"
          ],
          "name": "stdout"
        }
      ]
    },
    {
      "cell_type": "markdown",
      "metadata": {
        "id": "190dt-nyOPSH",
        "colab_type": "text"
      },
      "source": [
        "2층 LSTM을 만들었지만 정확도가 1%정도만 향상됐습니다. 정확도 향상을 위해 LSTM 층을 쌓는 방법은 한계가 있어보입니다."
      ]
    },
    {
      "cell_type": "code",
      "metadata": {
        "id": "7Kk-MiyxRwkT",
        "colab_type": "code",
        "colab": {}
      },
      "source": [
        "from tensorflow.keras.layers import Dropout\n"
      ],
      "execution_count": 0,
      "outputs": []
    },
    {
      "cell_type": "code",
      "metadata": {
        "id": "nZLOuEVwSPvw",
        "colab_type": "code",
        "outputId": "170c08b6-6103-43b5-a707-a4625b3ddbbf",
        "colab": {
          "base_uri": "https://localhost:8080/",
          "height": 341
        }
      },
      "source": [
        "model_lstm2 = Sequential()\n",
        "\n",
        "\n",
        "model_lstm2.add(Embedding(1000, 32))\n",
        "model_lstm2.add(LSTM(8, return_sequences=True))\n",
        "model_lstm2.add(LSTM(8))\n",
        "model_lstm2.add(Dropout(0.4))\n",
        "model_lstm2.add(Dense(1, activation='sigmoid'))\n",
        "\n",
        "model_lstm2.summary()"
      ],
      "execution_count": 0,
      "outputs": [
        {
          "output_type": "stream",
          "text": [
            "Model: \"sequential_15\"\n",
            "_________________________________________________________________\n",
            "Layer (type)                 Output Shape              Param #   \n",
            "=================================================================\n",
            "embedding_16 (Embedding)     (None, None, 32)          32000     \n",
            "_________________________________________________________________\n",
            "lstm_26 (LSTM)               (None, None, 8)           1312      \n",
            "_________________________________________________________________\n",
            "lstm_27 (LSTM)               (None, 8)                 544       \n",
            "_________________________________________________________________\n",
            "dropout_8 (Dropout)          (None, 8)                 0         \n",
            "_________________________________________________________________\n",
            "dense_12 (Dense)             (None, 1)                 9         \n",
            "=================================================================\n",
            "Total params: 33,865\n",
            "Trainable params: 33,865\n",
            "Non-trainable params: 0\n",
            "_________________________________________________________________\n"
          ],
          "name": "stdout"
        }
      ]
    },
    {
      "cell_type": "code",
      "metadata": {
        "id": "8Mz-bqJPTAE2",
        "colab_type": "code",
        "outputId": "1e172052-9a13-4b6d-c8a5-fb811314aa66",
        "colab": {
          "base_uri": "https://localhost:8080/",
          "height": 395
        }
      },
      "source": [
        "model_lstm2.compile(optimizer='adam', loss='binary_crossentropy', metrics=['accuracy'])\n",
        "\n",
        "history = model_lstm2.fit(x_train_seq, y_train, epochs=10, batch_size=32, \n",
        "                         validation_data=(x_val_seq, y_val))"
      ],
      "execution_count": 0,
      "outputs": [
        {
          "output_type": "stream",
          "text": [
            "Train on 20000 samples, validate on 5000 samples\n",
            "Epoch 1/10\n",
            "20000/20000 [==============================] - 51s 3ms/sample - loss: 0.4880 - accuracy: 0.7776 - val_loss: 0.3867 - val_accuracy: 0.8332\n",
            "Epoch 2/10\n",
            "20000/20000 [==============================] - 44s 2ms/sample - loss: 0.3641 - accuracy: 0.8543 - val_loss: 0.3652 - val_accuracy: 0.8442\n",
            "Epoch 3/10\n",
            "20000/20000 [==============================] - 44s 2ms/sample - loss: 0.3371 - accuracy: 0.8654 - val_loss: 0.3554 - val_accuracy: 0.8378\n",
            "Epoch 4/10\n",
            "20000/20000 [==============================] - 44s 2ms/sample - loss: 0.3176 - accuracy: 0.8723 - val_loss: 0.3582 - val_accuracy: 0.8454\n",
            "Epoch 5/10\n",
            "20000/20000 [==============================] - 44s 2ms/sample - loss: 0.3021 - accuracy: 0.8805 - val_loss: 0.3726 - val_accuracy: 0.8466\n",
            "Epoch 6/10\n",
            "20000/20000 [==============================] - 44s 2ms/sample - loss: 0.2931 - accuracy: 0.8850 - val_loss: 0.3638 - val_accuracy: 0.8434\n",
            "Epoch 7/10\n",
            "20000/20000 [==============================] - 43s 2ms/sample - loss: 0.2816 - accuracy: 0.8891 - val_loss: 0.3853 - val_accuracy: 0.8346\n",
            "Epoch 8/10\n",
            "20000/20000 [==============================] - 44s 2ms/sample - loss: 0.2687 - accuracy: 0.8945 - val_loss: 0.3888 - val_accuracy: 0.8384\n",
            "Epoch 9/10\n",
            "20000/20000 [==============================] - 44s 2ms/sample - loss: 0.2574 - accuracy: 0.8970 - val_loss: 0.3876 - val_accuracy: 0.8370\n",
            "Epoch 10/10\n",
            "20000/20000 [==============================] - 44s 2ms/sample - loss: 0.2463 - accuracy: 0.9036 - val_loss: 0.3887 - val_accuracy: 0.8380\n"
          ],
          "name": "stdout"
        }
      ]
    },
    {
      "cell_type": "code",
      "metadata": {
        "id": "CmDmJtWSVx8o",
        "colab_type": "code",
        "outputId": "84e90985-7b79-46b8-ed69-61b8e6c9fe93",
        "colab": {
          "base_uri": "https://localhost:8080/",
          "height": 269
        }
      },
      "source": [
        "plt.plot(history.history['loss'])\n",
        "plt.plot(history.history['val_loss'])\n",
        "plt.show()"
      ],
      "execution_count": 0,
      "outputs": [
        {
          "output_type": "display_data",
          "data": {
            "image/png": "[encoded data removed]",
            "text/plain": [
              "<Figure size 432x288 with 1 Axes>"
            ]
          },
          "metadata": {
            "tags": []
          }
        }
      ]
    },
    {
      "cell_type": "code",
      "metadata": {
        "id": "Ezxshh9TVyaY",
        "colab_type": "code",
        "outputId": "a09bb6f7-3766-4cce-84cf-f1fbfde837be",
        "colab": {
          "base_uri": "https://localhost:8080/",
          "height": 265
        }
      },
      "source": [
        "plt.plot(history.history['accuracy'])\n",
        "plt.plot(history.history['val_accuracy'])\n",
        "plt.show()"
      ],
      "execution_count": 0,
      "outputs": [
        {
          "output_type": "display_data",
          "data": {
            "image/png": "[encoded data removed]",
            "text/plain": [
              "<Figure size 432x288 with 1 Axes>"
            ]
          },
          "metadata": {
            "tags": []
          }
        }
      ]
    },
    {
      "cell_type": "code",
      "metadata": {
        "id": "lqCm17R9V3Up",
        "colab_type": "code",
        "outputId": "a8f6749c-89b7-4c85-f8fe-c7c63e4e5f19",
        "colab": {
          "base_uri": "https://localhost:8080/",
          "height": 35
        }
      },
      "source": [
        "loss, accuracy = model_lstm.evaluate(x_val_seq, y_val, verbose=0)\n",
        "print(accuracy)"
      ],
      "execution_count": 0,
      "outputs": [
        {
          "output_type": "stream",
          "text": [
            "0.82\n"
          ],
          "name": "stdout"
        }
      ]
    },
    {
      "cell_type": "markdown",
      "metadata": {
        "id": "4UBXl47IOt9t",
        "colab_type": "text"
      },
      "source": [
        "과대적합을 해소하기 위해 드랍아웃을 추가한 결과 손실은 약간 감소했지만 정확도는 오히려 떨어졌습니다. \n",
        " \n",
        "2가지 케이스를 통해 LSTM의 정확도를 올리는데 있어서 과대적합과 층을 쌓는 것으로는 한계가 있다는 것을 알아냈습니다."
      ]
    },
    {
      "cell_type": "code",
      "metadata": {
        "id": "b31jWEjyV7_j",
        "colab_type": "code",
        "colab": {}
      },
      "source": [
        ""
      ],
      "execution_count": 0,
      "outputs": []
    }
  ]
}