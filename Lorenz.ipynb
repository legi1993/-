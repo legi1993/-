{
  "nbformat": 4,
  "nbformat_minor": 0,
  "metadata": {
    "colab": {
      "name": "Lorenz.ipynb",
      "provenance": [],
      "collapsed_sections": []
    },
    "kernelspec": {
      "name": "python3",
      "display_name": "Python 3"
    }
  },
  "cells": [
    {
      "cell_type": "code",
      "metadata": {
        "id": "7K-BGUh0ubma",
        "colab_type": "code",
        "colab": {
          "base_uri": "https://localhost:8080/",
          "height": 17
        },
        "outputId": "43d118fb-7c71-4a31-a875-a2312e0767b6"
      },
      "source": [
        "# Rendering sympy equations requires MathJax to be available within each cell output. \n",
        "# The following is a function that will make this happen for Colab.\n",
        "\n",
        "from IPython.display import Math, HTML\n",
        "def enable_sympy_in_cell():\n",
        "  display(HTML(\"<script src='https://cdnjs.cloudflare.com/ajax/libs/mathjax/2.7.3/latest.js?config=default'></script>\"))\n",
        "get_ipython().events.register('pre_run_cell', enable_sympy_in_cell)"
      ],
      "execution_count": 22,
      "outputs": [
        {
          "output_type": "display_data",
          "data": {
            "text/html": [
              "<script src='https://cdnjs.cloudflare.com/ajax/libs/mathjax/2.7.3/latest.js?config=default'></script>"
            ],
            "text/plain": [
              "<IPython.core.display.HTML object>"
            ]
          },
          "metadata": {
            "tags": []
          }
        }
      ]
    },
    {
      "cell_type": "code",
      "metadata": {
        "id": "G71O_3mZudRS",
        "colab_type": "code",
        "colab": {
          "base_uri": "https://localhost:8080/",
          "height": 17
        },
        "outputId": "d57efaa5-e00d-4279-d1a4-5d4248a46cfd"
      },
      "source": [
        "import matplotlib.pyplot as plt\n",
        "import matplotlib as mpl\n",
        "mpl.rcParams['text.usetex'] = True\n",
        "\n",
        "import numpy as np\n",
        "from scipy import integrate\n",
        "import sympy\n",
        "sympy.init_printing()"
      ],
      "execution_count": 24,
      "outputs": [
        {
          "output_type": "display_data",
          "data": {
            "text/html": [
              "<script src='https://cdnjs.cloudflare.com/ajax/libs/mathjax/2.7.3/latest.js?config=default'></script>"
            ],
            "text/plain": [
              "<IPython.core.display.HTML object>"
            ]
          },
          "metadata": {
            "tags": []
          }
        },
        {
          "output_type": "display_data",
          "data": {
            "text/html": [
              "<script src='https://cdnjs.cloudflare.com/ajax/libs/mathjax/2.7.3/latest.js?config=default'></script>"
            ],
            "text/plain": [
              "<IPython.core.display.HTML object>"
            ]
          },
          "metadata": {
            "tags": []
          }
        }
      ]
    },
    {
      "cell_type": "code",
      "metadata": {
        "id": "Q2tzL54TvuTA",
        "colab_type": "code",
        "colab": {
          "base_uri": "https://localhost:8080/",
          "height": 17
        },
        "outputId": "b22e9a21-6170-4178-de90-ba16e80b1df8"
      },
      "source": [
        "from scipy.integrate import solve_ivp"
      ],
      "execution_count": 6,
      "outputs": [
        {
          "output_type": "display_data",
          "data": {
            "text/html": [
              "<script src='https://cdnjs.cloudflare.com/ajax/libs/mathjax/2.7.3/latest.js?config=default'></script>"
            ],
            "text/plain": [
              "<IPython.core.display.HTML object>"
            ]
          },
          "metadata": {
            "tags": []
          }
        }
      ]
    },
    {
      "cell_type": "markdown",
      "metadata": {
        "id": "dQ3Yj6ktx0NM",
        "colab_type": "text"
      },
      "source": [
        "$$\n",
        "\\begin{align*}\n",
        "x'(t) &= \\sigma(y - x)\\\\ \n",
        "y'(t) &= x(\\rho - z) - y \\\\ \n",
        "z'(t) &= x y - \\beta z\n",
        "\\end{align*}\n",
        "$$\n"
      ]
    },
    {
      "cell_type": "code",
      "metadata": {
        "id": "zLab8QxGEfSv",
        "colab_type": "code",
        "colab": {
          "base_uri": "https://localhost:8080/",
          "height": 17
        },
        "outputId": "90aaa425-20e6-4e85-a58c-ba0eaa5921f5"
      },
      "source": [
        "def f(t, xyz):\n",
        "    x, y, z = xyz\n",
        "    return [8 * (y - x),\n",
        "            x * (28 - z) - y,\n",
        "            x * y - 8/3 * z]"
      ],
      "execution_count": 166,
      "outputs": [
        {
          "output_type": "display_data",
          "data": {
            "text/html": [
              "<script src='https://cdnjs.cloudflare.com/ajax/libs/mathjax/2.7.3/latest.js?config=default'></script>"
            ],
            "text/plain": [
              "<IPython.core.display.HTML object>"
            ]
          },
          "metadata": {
            "tags": []
          }
        },
        {
          "output_type": "display_data",
          "data": {
            "text/html": [
              "<script src='https://cdnjs.cloudflare.com/ajax/libs/mathjax/2.7.3/latest.js?config=default'></script>"
            ],
            "text/plain": [
              "<IPython.core.display.HTML object>"
            ]
          },
          "metadata": {
            "tags": []
          }
        }
      ]
    },
    {
      "cell_type": "code",
      "metadata": {
        "id": "-QdWAaqcNPL2",
        "colab_type": "code",
        "colab": {
          "base_uri": "https://localhost:8080/",
          "height": 17
        },
        "outputId": "9d8724a5-aa83-4803-ce97-5450a019b563"
      },
      "source": [
        "x0 = y0 = z0 = 1.0\n",
        "t_span = [0, 10]\n",
        "rho, sigma, beta = 28, 8, 8/3.0"
      ],
      "execution_count": 193,
      "outputs": [
        {
          "output_type": "display_data",
          "data": {
            "text/html": [
              "<script src='https://cdnjs.cloudflare.com/ajax/libs/mathjax/2.7.3/latest.js?config=default'></script>"
            ],
            "text/plain": [
              "<IPython.core.display.HTML object>"
            ]
          },
          "metadata": {
            "tags": []
          }
        },
        {
          "output_type": "display_data",
          "data": {
            "text/html": [
              "<script src='https://cdnjs.cloudflare.com/ajax/libs/mathjax/2.7.3/latest.js?config=default'></script>"
            ],
            "text/plain": [
              "<IPython.core.display.HTML object>"
            ]
          },
          "metadata": {
            "tags": []
          }
        }
      ]
    },
    {
      "cell_type": "code",
      "metadata": {
        "id": "6o1gpYOqu_8U",
        "colab_type": "code",
        "colab": {
          "base_uri": "https://localhost:8080/",
          "height": 1000
        },
        "outputId": "fefbf329-9b77-4f4e-969b-568648131118"
      },
      "source": [
        "sol1 = solve_ivp(f, t_span, [x0, y0, z0]) ; sol1"
      ],
      "execution_count": 215,
      "outputs": [
        {
          "output_type": "display_data",
          "data": {
            "text/html": [
              "<script src='https://cdnjs.cloudflare.com/ajax/libs/mathjax/2.7.3/latest.js?config=default'></script>"
            ],
            "text/plain": [
              "<IPython.core.display.HTML object>"
            ]
          },
          "metadata": {
            "tags": []
          }
        },
        {
          "output_type": "display_data",
          "data": {
            "text/html": [
              "<script src='https://cdnjs.cloudflare.com/ajax/libs/mathjax/2.7.3/latest.js?config=default'></script>"
            ],
            "text/plain": [
              "<IPython.core.display.HTML object>"
            ]
          },
          "metadata": {
            "tags": []
          }
        },
        {
          "output_type": "execute_result",
          "data": {
            "text/plain": [
              "  message: 'The solver successfully reached the end of the integration interval.'\n",
              "     nfev: 812\n",
              "     njev: 0\n",
              "      nlu: 0\n",
              "      sol: None\n",
              "   status: 0\n",
              "  success: True\n",
              "        t: array([ 0.        ,  0.03825495,  0.09896683,  0.17616882,  0.28627631,\n",
              "        0.34591068,  0.40568309,  0.45385348,  0.50202388,  0.56596019,\n",
              "        0.64319778,  0.72709597,  0.82097721,  0.94036637,  1.05975553,\n",
              "        1.17143922,  1.28653313,  1.42746025,  1.54663538,  1.66752998,\n",
              "        1.77525736,  1.88433125,  2.02776498,  2.15742974,  2.27542097,\n",
              "        2.39341219,  2.51140342,  2.63289408,  2.78465659,  2.9009951 ,\n",
              "        3.01733361,  3.1252741 ,  3.23557923,  3.3734175 ,  3.48846187,\n",
              "        3.60822191,  3.71110814,  3.81399436,  3.9375677 ,  4.08392303,\n",
              "        4.19546147,  4.30699992,  4.40541802,  4.50762122,  4.64290866,\n",
              "        4.77983293,  4.88874772,  4.9976625 ,  5.10657729,  5.21549207,\n",
              "        5.35268823,  5.46350533,  5.58031578,  5.6768602 ,  5.77340462,\n",
              "        5.880685  ,  6.02796582,  6.13308987,  6.24761887,  6.34180798,\n",
              "        6.43599709,  6.53802219,  6.66966562,  6.80229445,  6.90355301,\n",
              "        7.00481157,  7.10607014,  7.2073287 ,  7.33456228,  7.46245752,\n",
              "        7.56014886,  7.65784019,  7.74294783,  7.83027341,  7.95488803,\n",
              "        8.07950265,  8.17802591,  8.2709213 ,  8.36381669,  8.44598394,\n",
              "        8.5296328 ,  8.63257447,  8.73854386,  8.85650818,  8.94753926,\n",
              "        9.03857034,  9.1112312 ,  9.18696595,  9.26939441,  9.37293388,\n",
              "        9.47647336,  9.58857602,  9.6745828 ,  9.76058959,  9.82652324,\n",
              "        9.89506337,  9.9636035 , 10.        ])\n",
              " t_events: None\n",
              "        y: array([[  1.        ,   1.139667  ,   1.90567257,   4.19869318,\n",
              "         12.1692011 ,  17.61399356,  17.36101352,  11.91930914,\n",
              "          5.62891274,  -0.3674498 ,  -4.33722037,  -6.91607398,\n",
              "         -9.19840645, -10.40667286,  -8.58909759,  -6.6514306 ,\n",
              "         -6.45820808,  -8.60320538, -10.53619532,  -9.50431402,\n",
              "         -7.21263282,  -6.16764645,  -7.55787064, -10.17895743,\n",
              "        -10.34974987,  -7.80637015,  -6.09758757,  -6.69937446,\n",
              "         -9.80346397, -10.76344144,  -8.43157971,  -6.26526687,\n",
              "         -6.01409459,  -8.30142024, -10.75052946, -10.06079466,\n",
              "         -7.42124134,  -5.81250703,  -6.34779255,  -9.61112405,\n",
              "        -11.1583644 ,  -9.038857  ,  -6.48462291,  -5.49657461,\n",
              "         -7.03731988, -10.54152148, -11.03650972,  -8.11356791,\n",
              "         -5.65470757,  -5.47929097,  -8.11709158, -11.0832508 ,\n",
              "        -10.62226276,  -7.60991838,  -5.43897556,  -5.23565791,\n",
              "         -8.22268205, -11.23647321, -10.83156783,  -7.68467698,\n",
              "         -5.3151536 ,  -4.87033937,  -7.14295468, -11.28225041,\n",
              "        -11.47891074,  -7.97449756,  -5.09273355,  -4.50832529,\n",
              "         -6.55204016, -10.87932642, -12.16824288,  -9.02848386,\n",
              "         -5.79457455,  -4.18434723,  -4.72818522,  -8.1257633 ,\n",
              "        -11.83498023, -12.17247218,  -8.35550151,  -5.13520256,\n",
              "         -3.65238979,  -3.91115653,  -6.21138905, -11.03188768,\n",
              "        -13.1230188 ,  -9.99162911,  -6.28017236,  -3.77340413,\n",
              "         -2.80249649,  -3.40107231,  -5.87991002, -11.00477832,\n",
              "        -13.81861438, -11.01573354,  -6.98891989,  -3.83624678,\n",
              "         -2.20616937,  -1.80917371],\n",
              "       [  1.        ,   2.02522703,   4.24093837,   9.62893617,\n",
              "         24.67909866,  25.41576064,   7.99265924,  -4.9547868 ,\n",
              "         -9.14771924,  -9.18811224,  -9.01075249, -10.26403502,\n",
              "        -11.81060108,  -9.93792523,  -5.92609462,  -5.33521155,\n",
              "         -7.33156986, -11.1666834 , -11.33752774,  -6.9648826 ,\n",
              "         -4.99373048,  -6.06382721,  -9.88299365, -12.151645  ,\n",
              "         -8.6070117 ,  -4.99220827,  -5.49345962,  -8.4504748 ,\n",
              "        -12.37261983,  -9.78604951,  -5.23563045,  -4.77922237,\n",
              "         -6.89047594, -11.2694782 , -12.3048453 ,  -7.3358653 ,\n",
              "         -4.43923899,  -5.0109012 ,  -8.13954568, -12.71355773,\n",
              "        -10.82171928,  -5.42869944,  -4.06842088,  -5.49317304,\n",
              "         -9.74059734, -13.23912109,  -9.16124284,  -4.28611593,\n",
              "         -4.13240727,  -6.52634417, -11.62365717, -13.34538523,\n",
              "         -7.54365325,  -3.74024254,  -3.85997664,  -6.25961356,\n",
              "        -11.9889898 , -13.72117187,  -7.59828528,  -3.46955738,\n",
              "         -3.43112905,  -5.57726613, -10.64611073, -14.26652572,\n",
              "         -8.7576308 ,  -3.23630267,  -2.98307485,  -5.06776216,\n",
              "         -9.9586407 , -14.91173213, -10.69542695,  -3.66103595,\n",
              "         -2.12588214,  -3.1810621 ,  -6.70399588, -12.84267152,\n",
              "        -15.44631448,  -9.12937169,  -2.47164281,  -1.53919736,\n",
              "         -2.70483773,  -5.39032622, -10.22318306, -16.32086752,\n",
              "        -12.41070368,  -3.39805241,  -0.73423865,  -1.0388802 ,\n",
              "         -2.42853923,  -5.17288772, -10.23810644, -17.30060642,\n",
              "        -14.20499623,  -3.6890437 ,   0.14308756,   0.43825421,\n",
              "         -0.37114178,  -0.87659936],\n",
              "       [  1.        ,   0.96113967,   1.07927026,   2.32016848,\n",
              "         15.38996259,  35.26575039,  47.62890863,  42.55674092,\n",
              "         34.52894849,  27.86083453,  24.32340211,  23.60570614,\n",
              "         25.96851707,  30.47898014,  29.7901856 ,  25.96343647,\n",
              "         23.03753759,  24.09915855,  29.23252414,  30.91853986,\n",
              "         27.5747471 ,  23.91136141,  22.69191744,  27.40372588,\n",
              "         31.39503699,  28.83589305,  24.43301229,  22.14715067,\n",
              "         26.0833297 ,  31.29886218,  29.99154628,  25.65186408,\n",
              "         22.37616934,  23.0239055 ,  28.7891938 ,  31.8774414 ,\n",
              "         28.55161136,  24.31076694,  21.52058056,  25.09311221,\n",
              "         31.30370284,  31.16263389,  26.89049238,  22.87960723,\n",
              "         21.22755314,  27.16993272,  32.50881102,  30.10149188,\n",
              "         24.95556731,  21.32371409,  21.88884267,  28.57243646,\n",
              "         32.98243246,  29.56488511,  24.77270224,  20.99307814,\n",
              "         21.66217932,  28.58448129,  33.40607425,  29.94406279,\n",
              "         24.97538873,  20.95696   ,  20.07267414,  28.10258804,\n",
              "         33.87407957,  30.66186197,  24.9645473 ,  20.66172912,\n",
              "         19.09196464,  26.14996729,  33.8716126 ,  32.48594339,\n",
              "         27.31230614,  22.58152694,  18.38622813,  19.88816853,\n",
              "         28.3603939 ,  35.16077612,  31.99555217,  26.53880109,\n",
              "         21.87100056,  17.92763157,  17.11265166,  24.78717278,\n",
              "         34.74004993,  34.64093933,  29.46184214,  24.31940538,\n",
              "         19.91012796,  16.12355807,  15.42335144,  23.29078929,\n",
              "         34.95131404,  36.54278795,  31.42121719,  26.02208972,\n",
              "         21.65914869,  19.69826703]])"
            ]
          },
          "metadata": {
            "tags": []
          },
          "execution_count": 215
        }
      ]
    },
    {
      "cell_type": "code",
      "metadata": {
        "id": "ka7gFsHJKWPK",
        "colab_type": "code",
        "colab": {}
      },
      "source": [
        ""
      ],
      "execution_count": 0,
      "outputs": []
    }
  ]
}