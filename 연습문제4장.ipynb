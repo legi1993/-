{
  "nbformat": 4,
  "nbformat_minor": 0,
  "metadata": {
    "colab": {
      "name": "연습문제4장.ipynb",
      "provenance": [],
      "collapsed_sections": []
    },
    "kernelspec": {
      "name": "python3",
      "display_name": "Python 3"
    }
  },
  "cells": [
    {
      "cell_type": "markdown",
      "metadata": {
        "id": "ES-VIwCp6J_q",
        "colab_type": "text"
      },
      "source": [
        "#Q1\n",
        "--------------------\n",
        "주어진 자연수가 홀수인지 짝수인지 판별해 주는 함수(is_odd)를 작성해 보자."
      ]
    },
    {
      "cell_type": "code",
      "metadata": {
        "id": "fOktER561j43",
        "colab_type": "code",
        "colab": {}
      },
      "source": [
        "def is_odd(number):\n",
        "     if number % 2 == 1:\n",
        "         return True\n",
        "     else:\n",
        "         return False\n"
      ],
      "execution_count": 0,
      "outputs": []
    },
    {
      "cell_type": "code",
      "metadata": {
        "id": "x--GZ3UQ16fx",
        "colab_type": "code",
        "colab": {
          "base_uri": "https://localhost:8080/",
          "height": 35
        },
        "outputId": "a364e2ad-757b-4d7b-b890-508b9851458b"
      },
      "source": [
        "[is_odd(5), is_odd(6)]"
      ],
      "execution_count": 10,
      "outputs": [
        {
          "output_type": "execute_result",
          "data": {
            "text/plain": [
              "[True, False]"
            ]
          },
          "metadata": {
            "tags": []
          },
          "execution_count": 10
        }
      ]
    },
    {
      "cell_type": "code",
      "metadata": {
        "id": "Rc0H6l-82IRk",
        "colab_type": "code",
        "colab": {}
      },
      "source": [
        "is_odd = lambda x: True if x % 2 == 0 else False"
      ],
      "execution_count": 0,
      "outputs": []
    },
    {
      "cell_type": "code",
      "metadata": {
        "id": "z2ySqhbZ2s3X",
        "colab_type": "code",
        "colab": {
          "base_uri": "https://localhost:8080/",
          "height": 35
        },
        "outputId": "3aca334b-385b-4a9a-af12-cdb2beb5d024"
      },
      "source": [
        "is_odd(2)"
      ],
      "execution_count": 25,
      "outputs": [
        {
          "output_type": "execute_result",
          "data": {
            "text/plain": [
              "True"
            ]
          },
          "metadata": {
            "tags": []
          },
          "execution_count": 25
        }
      ]
    },
    {
      "cell_type": "markdown",
      "metadata": {
        "id": "JxysUBr44hO5",
        "colab_type": "text"
      },
      "source": [
        "#Q2\n",
        "---------------------\n",
        "입력으로 들어오는 모든 수의 평균 값을 계산해 주는 함수를 작성해 보자. (단 입력으로 들어오는 수의 개수는 정해져 있지 않다.)"
      ]
    },
    {
      "cell_type": "code",
      "metadata": {
        "id": "u98SN4yP4WCR",
        "colab_type": "code",
        "colab": {}
      },
      "source": [
        "def avg_number(*args):\n",
        "  result = 0\n",
        "  for i in args:\n",
        "    result += i\n",
        "  return result/len(args)"
      ],
      "execution_count": 0,
      "outputs": []
    },
    {
      "cell_type": "code",
      "metadata": {
        "id": "qB324_wZ5fdn",
        "colab_type": "code",
        "colab": {
          "base_uri": "https://localhost:8080/",
          "height": 35
        },
        "outputId": "186fada3-e1d5-4c95-8a3d-4ef4740c6991"
      },
      "source": [
        "avg_number(1,2,3,4,5,6,7,8,9)"
      ],
      "execution_count": 27,
      "outputs": [
        {
          "output_type": "execute_result",
          "data": {
            "text/plain": [
              "5.0"
            ]
          },
          "metadata": {
            "tags": []
          },
          "execution_count": 27
        }
      ]
    },
    {
      "cell_type": "markdown",
      "metadata": {
        "id": "AZxs3R_l_vvo",
        "colab_type": "text"
      },
      "source": [
        "#Q3\n",
        "---------------------------\n",
        "다음은 두 개의 숫자를 입력받아 더하여 돌려주는 프로그램이다.\n",
        "\n",
        "```\n",
        "input1 = input(\"첫번째 숫자를 입력하세요:\")\n",
        "input2 = input(\"두번째 숫자를 입력하세요:\")\n",
        "\n",
        "total = input1 + input2\n",
        "print(\"두 수의 합은 %s 입니다\" % total)\n",
        "```\n",
        "\n",
        "이 프로그램을 수행해 보자.\n",
        "\n",
        "첫번째 숫자를 입력하세요:3 <br>\n",
        "두번째 숫자를 입력하세요:6 <br>\n",
        "두 수의 합은 36 입니다\n",
        "\n",
        "3과 6을 입력했을 때 9가 아닌 36이라는 결괏값을 돌려주었다. 이 프로그램의 오류를 수정해 보자."
      ]
    },
    {
      "cell_type": "code",
      "metadata": {
        "id": "BGQtSYec_uQk",
        "colab_type": "code",
        "colab": {
          "base_uri": "https://localhost:8080/",
          "height": 71
        },
        "outputId": "0b2f7ec0-3790-44e6-d20a-89a1f32470dc"
      },
      "source": [
        "input1= input(\"첫번째 숫자를 입력하세요:\")\n",
        "input2= input(\"두번째 숫자를 입력하세요:\")\n",
        "\n",
        "total= int(input1) + int(input2)\n",
        "print(\"두 수의 합은 %s 입니다\" %total)"
      ],
      "execution_count": 28,
      "outputs": [
        {
          "output_type": "stream",
          "text": [
            "첫번째 숫자를 입력하세요:3\n",
            "두번째 숫자를 입력하세요:6\n",
            "두 수의 합은 9 입니다\n"
          ],
          "name": "stdout"
        }
      ]
    },
    {
      "cell_type": "code",
      "metadata": {
        "id": "2Sj9eiQHDrx8",
        "colab_type": "code",
        "colab": {}
      },
      "source": [
        ""
      ],
      "execution_count": 0,
      "outputs": []
    },
    {
      "cell_type": "markdown",
      "metadata": {
        "id": "t1Fk5T9cD1Fj",
        "colab_type": "text"
      },
      "source": [
        "#Q4\n",
        "-----------------\n",
        "다음 중 출력 결과가 다른 것 한 개를 골라 보자.\n",
        "\n",
        "1. `print(\"you\" \"need\" \"python\")`\n",
        "2. `print(\"you\"+\"need\"+\"python\")`\n",
        "3. `print(\"you\", \"need\", \"python\")`\n",
        "4. `print(\"\".join([\"you\", \"need\", \"python\"]))`\n"
      ]
    },
    {
      "cell_type": "code",
      "metadata": {
        "id": "4AZBvPafEHDO",
        "colab_type": "code",
        "colab": {
          "base_uri": "https://localhost:8080/",
          "height": 35
        },
        "outputId": "31dec5c4-0581-466b-ba9f-bb464af99530"
      },
      "source": [
        "print(\"you\" \"need\" \"python\")"
      ],
      "execution_count": 29,
      "outputs": [
        {
          "output_type": "stream",
          "text": [
            "youneedpython\n"
          ],
          "name": "stdout"
        }
      ]
    },
    {
      "cell_type": "code",
      "metadata": {
        "id": "MR7rxNxNE8as",
        "colab_type": "code",
        "colab": {
          "base_uri": "https://localhost:8080/",
          "height": 35
        },
        "outputId": "938d2f09-7e66-4b53-b2e7-ef8f1ea5e55e"
      },
      "source": [
        "print(\"you\"+\"need\"+\"python\")"
      ],
      "execution_count": 30,
      "outputs": [
        {
          "output_type": "stream",
          "text": [
            "youneedpython\n"
          ],
          "name": "stdout"
        }
      ]
    },
    {
      "cell_type": "code",
      "metadata": {
        "id": "EW5N6UrmFB25",
        "colab_type": "code",
        "colab": {
          "base_uri": "https://localhost:8080/",
          "height": 35
        },
        "outputId": "3cbafb14-2a67-4269-da82-acf9e93b5b8e"
      },
      "source": [
        "print(\"you\",\"need\",\"python\")"
      ],
      "execution_count": 31,
      "outputs": [
        {
          "output_type": "stream",
          "text": [
            "you need python\n"
          ],
          "name": "stdout"
        }
      ]
    },
    {
      "cell_type": "code",
      "metadata": {
        "id": "Ysghji2qFGpZ",
        "colab_type": "code",
        "colab": {
          "base_uri": "https://localhost:8080/",
          "height": 35
        },
        "outputId": "7c745c59-c9e6-444b-dac8-8f6a7a3b1e39"
      },
      "source": [
        "print(\"\".join([\"you\", \"need\", \"python\"]))"
      ],
      "execution_count": 33,
      "outputs": [
        {
          "output_type": "stream",
          "text": [
            "youneedpython\n"
          ],
          "name": "stdout"
        }
      ]
    },
    {
      "cell_type": "markdown",
      "metadata": {
        "id": "cr_g64a3FapR",
        "colab_type": "text"
      },
      "source": [
        "3번의 경우 ,로 인해 공백이 생긴다"
      ]
    },
    {
      "cell_type": "markdown",
      "metadata": {
        "id": "KmxghwG0FkY9",
        "colab_type": "text"
      },
      "source": [
        "#Q5\n",
        "--------------\n",
        "다음은 \"test.txt\"라는 파일에 \"Life is too short\" 문자열을 저장한 후 다시 그 파일을 읽어서 출력하는 프로그램이다.\n",
        "```\n",
        "f1 = open(\"test.txt\", 'w')\n",
        "f1.write(\"Life is too short\")\n",
        "\n",
        "f2 = open(\"test.txt\", 'r')\n",
        "print(f2.read())\n",
        "```\n",
        "\n",
        "이 프로그램은 우리가 예상한 \"Life is too short\"라는 문장을 출력하지 않는다. 우리가 예상한 값을 출력할 수 있도록 프로그램을 수정해 보자."
      ]
    },
    {
      "cell_type": "code",
      "metadata": {
        "id": "5HRce5WBFR-q",
        "colab_type": "code",
        "colab": {}
      },
      "source": [
        "f1 = open(\"test.txt\", 'w')\n",
        "f1.write(\"Life is too short\")\n",
        "f1.close()"
      ],
      "execution_count": 0,
      "outputs": []
    },
    {
      "cell_type": "code",
      "metadata": {
        "id": "x8nXidpwFhWY",
        "colab_type": "code",
        "colab": {
          "base_uri": "https://localhost:8080/",
          "height": 35
        },
        "outputId": "20c5f00b-64d4-495d-81ca-96618baa7498"
      },
      "source": [
        "f2= open(\"test.txt\", \"r\")\n",
        "print(f2.read())\n",
        "f2.close()"
      ],
      "execution_count": 37,
      "outputs": [
        {
          "output_type": "stream",
          "text": [
            "Life is too short\n"
          ],
          "name": "stdout"
        }
      ]
    },
    {
      "cell_type": "code",
      "metadata": {
        "id": "Cwl53C6CG11g",
        "colab_type": "code",
        "colab": {
          "base_uri": "https://localhost:8080/",
          "height": 35
        },
        "outputId": "9a475983-cd26-4ed7-9dce-77986dbf8cfc"
      },
      "source": [
        "with open(\"test.txt\", \"w\") as f1:\n",
        "  f1.write(\"Life is too short!\")\n",
        "\n",
        "with open(\"test.txt\", \"r\") as f2:\n",
        "  print(f2.read())"
      ],
      "execution_count": 38,
      "outputs": [
        {
          "output_type": "stream",
          "text": [
            "Life is too short!\n"
          ],
          "name": "stdout"
        }
      ]
    },
    {
      "cell_type": "markdown",
      "metadata": {
        "id": "NTZ1JShNHyiA",
        "colab_type": "text"
      },
      "source": [
        "#Q6\n",
        "----------\n",
        "사용자의 입력을 파일(test.txt)에 저장하는 프로그램을 작성해 보자. (단 프로그램을 다시 실행하더라도 기존에 작성한 내용을 유지하고 새로 입력한 내용을 추가해야 한다.)"
      ]
    },
    {
      "cell_type": "code",
      "metadata": {
        "id": "IldVDXCCHubF",
        "colab_type": "code",
        "colab": {
          "base_uri": "https://localhost:8080/",
          "height": 35
        },
        "outputId": "e2acf2b1-262f-45c5-d70e-ad68387ae4e7"
      },
      "source": [
        "user_input = input(\"저장할 내용을 입력하세요:\")\n",
        "f = open(\"test.txt\", 'a')\n",
        "f.write(user_input)\n",
        "f.write(\"\\n\")\n",
        "f.close()"
      ],
      "execution_count": 43,
      "outputs": [
        {
          "output_type": "stream",
          "text": [
            "저장할 내용을 입력하세요:danawa\n"
          ],
          "name": "stdout"
        }
      ]
    },
    {
      "cell_type": "code",
      "metadata": {
        "id": "jo7AuakgH1nP",
        "colab_type": "code",
        "colab": {}
      },
      "source": [
        ""
      ],
      "execution_count": 0,
      "outputs": []
    },
    {
      "cell_type": "markdown",
      "metadata": {
        "id": "VGFRhyDaKex2",
        "colab_type": "text"
      },
      "source": [
        "#Q7\n",
        "----------\n",
        "다음과 같은 내용을 지닌 파일 test.txt가 있다. 이 파일의 내용 중 \"java\"라는 문자열을 \"python\"으로 바꾸어서 저장해 보자.\n",
        "\n",
        "Life is too short <br>\n",
        "you need java"
      ]
    },
    {
      "cell_type": "code",
      "metadata": {
        "id": "7MZGqpdiKjDB",
        "colab_type": "code",
        "colab": {}
      },
      "source": [
        "f3 = open(\"test.txt\", 'w')\n",
        "f3.write(\"Life is too short, you need java\")\n",
        "f3.close()"
      ],
      "execution_count": 0,
      "outputs": []
    },
    {
      "cell_type": "code",
      "metadata": {
        "id": "X_UQI9tPLU2C",
        "colab_type": "code",
        "colab": {
          "base_uri": "https://localhost:8080/",
          "height": 35
        },
        "outputId": "3fb1efa3-9561-432e-f1f2-5402e387b0fd"
      },
      "source": [
        "f4 = open(\"test.txt\", 'r')\n",
        "body = f4.read()\n",
        "f4.close()\n",
        "body"
      ],
      "execution_count": 47,
      "outputs": [
        {
          "output_type": "execute_result",
          "data": {
            "text/plain": [
              "'Life is too short, you need java'"
            ]
          },
          "metadata": {
            "tags": []
          },
          "execution_count": 47
        }
      ]
    },
    {
      "cell_type": "code",
      "metadata": {
        "id": "TvVO_dpvLxLa",
        "colab_type": "code",
        "colab": {
          "base_uri": "https://localhost:8080/",
          "height": 35
        },
        "outputId": "3230508a-22e5-4174-ba60-bbcdf5c7f79c"
      },
      "source": [
        "body = body.replace('java', 'python')\n",
        "body"
      ],
      "execution_count": 50,
      "outputs": [
        {
          "output_type": "execute_result",
          "data": {
            "text/plain": [
              "'Life is too short, you need python'"
            ]
          },
          "metadata": {
            "tags": []
          },
          "execution_count": 50
        }
      ]
    },
    {
      "cell_type": "code",
      "metadata": {
        "id": "9WGYyzoVMfNA",
        "colab_type": "code",
        "colab": {
          "base_uri": "https://localhost:8080/",
          "height": 35
        },
        "outputId": "6be686a8-56fd-4122-e160-d5cb18463e5f"
      },
      "source": [
        "f5 = open(\"test.txt\", 'w')\n",
        "f5.write(body)\n",
        "f5.close()\n",
        "!cat test.txt"
      ],
      "execution_count": 53,
      "outputs": [
        {
          "output_type": "stream",
          "text": [
            "Life is too short, you need python"
          ],
          "name": "stdout"
        }
      ]
    },
    {
      "cell_type": "code",
      "metadata": {
        "id": "vWyGuF7xMvhT",
        "colab_type": "code",
        "colab": {}
      },
      "source": [
        ""
      ],
      "execution_count": 0,
      "outputs": []
    }
  ]
}