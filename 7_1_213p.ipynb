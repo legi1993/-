{
  "nbformat": 4,
  "nbformat_minor": 0,
  "metadata": {
    "colab": {
      "name": "7-1_213p.ipynb",
      "provenance": [],
      "collapsed_sections": []
    },
    "kernelspec": {
      "name": "python3",
      "display_name": "Python 3"
    }
  },
  "cells": [
    {
      "cell_type": "code",
      "metadata": {
        "id": "Hos0YEZnxXau",
        "colab_type": "code",
        "colab": {}
      },
      "source": [
        "import numpy as np"
      ],
      "execution_count": 0,
      "outputs": []
    },
    {
      "cell_type": "code",
      "metadata": {
        "id": "dJ0MjiG5COt7",
        "colab_type": "code",
        "colab": {}
      },
      "source": [
        "class MultiClassNetwork:\n",
        "    \n",
        "    def __init__(self, units=10, batch_size=32, learning_rate=0.1, l1=0, l2=0):\n",
        "        self.units = units         # 은닉층의 뉴런 개수\n",
        "        self.batch_size = batch_size     # 배치 크기\n",
        "        self.w1 = None             # 은닉층의 가중치\n",
        "        self.b1 = None             # 은닉층의 절편\n",
        "        self.w2 = None             # 출력층의 가중치\n",
        "        self.b2 = None             # 출력층의 절편\n",
        "        self.a1 = None             # 은닉층의 활성화 출력\n",
        "        self.losses = []           # 훈련 손실\n",
        "        self.val_losses = []       # 검증 손실\n",
        "        self.lr = learning_rate    # 학습률\n",
        "        self.l1 = l1               # L1 손실 하이퍼파라미터\n",
        "        self.l2 = l2               # L2 손실 하이퍼파라미터\n",
        "\n",
        "    def forpass(self, x):\n",
        "        z1 = np.dot(x, self.w1) + self.b1        # 첫 번째 층의 선형 식을 계산합니다\n",
        "        self.a1 = self.sigmoid(z1)               # 활성화 함수를 적용합니다\n",
        "        z2 = np.dot(self.a1, self.w2) + self.b2  # 두 번째 층의 선형 식을 계산합니다.\n",
        "        return z2\n",
        "\n",
        "    def backprop(self, x, err):\n",
        "        m = len(x)       # 샘플 개수\n",
        "        # 출력층의 가중치와 절편에 대한 그래디언트를 계산합니다.\n",
        "        w2_grad = np.dot(self.a1.T, err) / m\n",
        "        b2_grad = np.sum(err) / m\n",
        "        # 시그모이드 함수까지 그래디언트를 계산합니다.\n",
        "        err_to_hidden = np.dot(err, self.w2.T) * self.a1 * (1 - self.a1)\n",
        "        # 은닉층의 가중치와 절편에 대한 그래디언트를 계산합니다.\n",
        "        w1_grad = np.dot(x.T, err_to_hidden) / m\n",
        "        b1_grad = np.sum(err_to_hidden, axis=0) / m\n",
        "        return w1_grad, b1_grad, w2_grad, b2_grad\n",
        "    \n",
        "    def sigmoid(self, z):\n",
        "        a = 1 / (1 + np.exp(-z))              # 시그모이드 계산\n",
        "        return a\n",
        "    \n",
        "    def softmax(self, z):\n",
        "        # 소프트맥스 함수\n",
        "        exp_z = np.exp(z)\n",
        "        return exp_z / np.sum(exp_z, axis=1).reshape(-1, 1)\n",
        " \n",
        "    def init_weights(self, n_features, n_classes):\n",
        "        self.w1 = np.random.normal(0, 1, \n",
        "                                   (n_features, self.units))  # (특성 개수, 은닉층의 크기)\n",
        "        self.b1 = np.zeros(self.units)                        # 은닉층의 크기\n",
        "        self.w2 = np.random.normal(0, 1, \n",
        "                                   (self.units, n_classes))   # (은닉층의 크기, 클래스 개수)\n",
        "        self.b2 = np.zeros(n_classes)\n",
        "        \n",
        "    def fit(self, x, y, epochs=100, x_val=None, y_val=None):\n",
        "        np.random.seed(42)\n",
        "        self.init_weights(x.shape[1], y.shape[1])    # 은닉층과 출력층의 가중치를 초기화합니다.\n",
        "        # epochs만큼 반복합니다.\n",
        "        for i in range(epochs):\n",
        "            loss = 0\n",
        "            print('.', end='')\n",
        "            # 제너레이터 함수에서 반환한 미니배치를 순환합니다.\n",
        "            for x_batch, y_batch in self.gen_batch(x, y):\n",
        "                a = self.training(x_batch, y_batch)\n",
        "                # 안전한 로그 계산을 위해 클리핑합니다.\n",
        "                a = np.clip(a, 1e-10, 1-1e-10)\n",
        "                # 로그 손실과 규제 손실을 더하여 리스트에 추가합니다.\n",
        "                loss += np.sum(-y_batch*np.log(a))\n",
        "            self.losses.append((loss + self.reg_loss()) / len(x))\n",
        "            # 검증 세트에 대한 손실을 계산합니다.\n",
        "            self.update_val_loss(x_val, y_val)\n",
        "\n",
        "    # 미니배치 제너레이터 함수\n",
        "    def gen_batch(self, x, y):\n",
        "        length = len(x)\n",
        "        bins = length // self.batch_size # 미니배치 횟수\n",
        "        if length % self.batch_size:\n",
        "            bins += 1                    # 나누어 떨어지지 않을 때\n",
        "        indexes = np.random.permutation(np.arange(len(x))) # 인덱스를 섞습니다.\n",
        "        x = x[indexes]\n",
        "        y = y[indexes]\n",
        "        for i in range(bins):\n",
        "            start = self.batch_size * i\n",
        "            end = self.batch_size * (i + 1)\n",
        "            yield x[start:end], y[start:end]   # batch_size만큼 슬라이싱하여 반환합니다.\n",
        "            \n",
        "    def training(self, x, y):\n",
        "        m = len(x)                # 샘플 개수를 저장합니다.\n",
        "        z = self.forpass(x)       # 정방향 계산을 수행합니다.\n",
        "        a = self.softmax(z)       # 활성화 함수를 적용합니다.\n",
        "        err = -(y - a)            # 오차를 계산합니다.\n",
        "        # 오차를 역전파하여 그래디언트를 계산합니다.\n",
        "        w1_grad, b1_grad, w2_grad, b2_grad = self.backprop(x, err)\n",
        "        # 그래디언트에서 페널티 항의 미분 값을 뺍니다\n",
        "        w1_grad += (self.l1 * np.sign(self.w1) + self.l2 * self.w1) / m\n",
        "        w2_grad += (self.l1 * np.sign(self.w2) + self.l2 * self.w2) / m\n",
        "        # 은닉층의 가중치와 절편을 업데이트합니다.\n",
        "        self.w1 -= self.lr * w1_grad\n",
        "        self.b1 -= self.lr * b1_grad\n",
        "        # 출력층의 가중치와 절편을 업데이트합니다.\n",
        "        self.w2 -= self.lr * w2_grad\n",
        "        self.b2 -= self.lr * b2_grad\n",
        "        return a\n",
        "   \n",
        "    def predict(self, x):\n",
        "        z = self.forpass(x)          # 정방향 계산을 수행합니다.\n",
        "        return np.argmax(z, axis=1)  # 가장 큰 값의 인덱스를 반환합니다.\n",
        "    \n",
        "    def score(self, x, y):\n",
        "        # 예측과 타깃 열 벡터를 비교하여 True의 비율을 반환합니다.\n",
        "        return np.mean(self.predict(x) == np.argmax(y, axis=1))\n",
        "\n",
        "    def reg_loss(self):\n",
        "        # 은닉층과 출력층의 가중치에 규제를 적용합니다.\n",
        "        return self.l1 * (np.sum(np.abs(self.w1)) + np.sum(np.abs(self.w2))) + \\\n",
        "               self.l2 / 2 * (np.sum(self.w1**2) + np.sum(self.w2**2))\n",
        "\n",
        "    def update_val_loss(self, x_val, y_val):\n",
        "        z = self.forpass(x_val)            # 정방향 계산을 수행합니다.\n",
        "        a = self.softmax(z)                # 활성화 함수를 적용합니다.\n",
        "        a = np.clip(a, 1e-10, 1-1e-10)     # 출력 값을 클리핑합니다.\n",
        "        # 크로스 엔트로피 손실과 규제 손실을 더하여 리스트에 추가합니다.\n",
        "        val_loss = np.sum(-y_val*np.log(a))\n",
        "        self.val_losses.append((val_loss + self.reg_loss()) / len(y_val))\n"
      ],
      "execution_count": 0,
      "outputs": []
    },
    {
      "cell_type": "markdown",
      "metadata": {
        "id": "zgaks1CDh0xu",
        "colab_type": "text"
      },
      "source": [
        "# 의류 이미지를 분류 합니다."
      ]
    },
    {
      "cell_type": "markdown",
      "metadata": {
        "id": "-3Psm6thh3nd",
        "colab_type": "text"
      },
      "source": [
        "앞에서 만든 Multiclassnetwork 클래스를 사용하여 '의류 이미지 분류하기'라는 다중 분류 문제를 해결 해 보겠습니다. 이번 실습 부터는 패션 MNIST 데이터를 텐서플로에서 불러와 사용합니다."
      ]
    },
    {
      "cell_type": "markdown",
      "metadata": {
        "id": "fySbvuFTl08R",
        "colab_type": "text"
      },
      "source": [
        "### 1.텐서플로 설치 및 임포트 하기"
      ]
    },
    {
      "cell_type": "code",
      "metadata": {
        "id": "cYqTwWn7h3Hp",
        "colab_type": "code",
        "outputId": "aaa605d7-7217-4ff8-9b7e-f3538370db28",
        "colab": {
          "base_uri": "https://localhost:8080/",
          "height": 415
        }
      },
      "source": [
        "!pip install tensorflow-gpu==2.0.0-rc1 # 구글 콜렙은 1.15버전이라 2.0 버전으로 업그레이드 해야합니다"
      ],
      "execution_count": 60,
      "outputs": [
        {
          "output_type": "stream",
          "text": [
            "Requirement already satisfied: tensorflow-gpu==2.0.0-rc1 in /usr/local/lib/python3.6/dist-packages (2.0.0rc1)\n",
            "Requirement already satisfied: numpy<2.0,>=1.16.0 in /usr/local/lib/python3.6/dist-packages (from tensorflow-gpu==2.0.0-rc1) (1.17.4)\n",
            "Requirement already satisfied: six>=1.10.0 in /usr/local/lib/python3.6/dist-packages (from tensorflow-gpu==2.0.0-rc1) (1.12.0)\n",
            "Requirement already satisfied: google-pasta>=0.1.6 in /usr/local/lib/python3.6/dist-packages (from tensorflow-gpu==2.0.0-rc1) (0.1.8)\n",
            "Requirement already satisfied: gast>=0.2.0 in /usr/local/lib/python3.6/dist-packages (from tensorflow-gpu==2.0.0-rc1) (0.2.2)\n",
            "Requirement already satisfied: grpcio>=1.8.6 in /usr/local/lib/python3.6/dist-packages (from tensorflow-gpu==2.0.0-rc1) (1.15.0)\n",
            "Requirement already satisfied: wheel>=0.26 in /usr/local/lib/python3.6/dist-packages (from tensorflow-gpu==2.0.0-rc1) (0.33.6)\n",
            "Requirement already satisfied: protobuf>=3.6.1 in /usr/local/lib/python3.6/dist-packages (from tensorflow-gpu==2.0.0-rc1) (3.10.0)\n",
            "Requirement already satisfied: tf-estimator-nightly<1.14.0.dev2019080602,>=1.14.0.dev2019080601 in /usr/local/lib/python3.6/dist-packages (from tensorflow-gpu==2.0.0-rc1) (1.14.0.dev2019080601)\n",
            "Requirement already satisfied: wrapt>=1.11.1 in /usr/local/lib/python3.6/dist-packages (from tensorflow-gpu==2.0.0-rc1) (1.11.2)\n",
            "Requirement already satisfied: termcolor>=1.1.0 in /usr/local/lib/python3.6/dist-packages (from tensorflow-gpu==2.0.0-rc1) (1.1.0)\n",
            "Requirement already satisfied: tb-nightly<1.15.0a20190807,>=1.15.0a20190806 in /usr/local/lib/python3.6/dist-packages (from tensorflow-gpu==2.0.0-rc1) (1.15.0a20190806)\n",
            "Requirement already satisfied: absl-py>=0.7.0 in /usr/local/lib/python3.6/dist-packages (from tensorflow-gpu==2.0.0-rc1) (0.8.1)\n",
            "Requirement already satisfied: keras-applications>=1.0.8 in /usr/local/lib/python3.6/dist-packages (from tensorflow-gpu==2.0.0-rc1) (1.0.8)\n",
            "Requirement already satisfied: opt-einsum>=2.3.2 in /usr/local/lib/python3.6/dist-packages (from tensorflow-gpu==2.0.0-rc1) (3.1.0)\n",
            "Requirement already satisfied: keras-preprocessing>=1.0.5 in /usr/local/lib/python3.6/dist-packages (from tensorflow-gpu==2.0.0-rc1) (1.1.0)\n",
            "Requirement already satisfied: astor>=0.6.0 in /usr/local/lib/python3.6/dist-packages (from tensorflow-gpu==2.0.0-rc1) (0.8.0)\n",
            "Requirement already satisfied: setuptools in /usr/local/lib/python3.6/dist-packages (from protobuf>=3.6.1->tensorflow-gpu==2.0.0-rc1) (41.4.0)\n",
            "Requirement already satisfied: werkzeug>=0.11.15 in /usr/local/lib/python3.6/dist-packages (from tb-nightly<1.15.0a20190807,>=1.15.0a20190806->tensorflow-gpu==2.0.0-rc1) (0.16.0)\n",
            "Requirement already satisfied: markdown>=2.6.8 in /usr/local/lib/python3.6/dist-packages (from tb-nightly<1.15.0a20190807,>=1.15.0a20190806->tensorflow-gpu==2.0.0-rc1) (3.1.1)\n",
            "Requirement already satisfied: h5py in /usr/local/lib/python3.6/dist-packages (from keras-applications>=1.0.8->tensorflow-gpu==2.0.0-rc1) (2.8.0)\n"
          ],
          "name": "stdout"
        }
      ]
    },
    {
      "cell_type": "code",
      "metadata": {
        "id": "HWfwrHZBiL2B",
        "colab_type": "code",
        "colab": {}
      },
      "source": [
        "import tensorflow as tf"
      ],
      "execution_count": 0,
      "outputs": []
    },
    {
      "cell_type": "markdown",
      "metadata": {
        "id": "F8-fN2Yil-Qe",
        "colab_type": "text"
      },
      "source": [
        "### 2.텐서플로 버전 확인하기"
      ]
    },
    {
      "cell_type": "code",
      "metadata": {
        "id": "VwTPyMDBiQjK",
        "colab_type": "code",
        "outputId": "e269f0fe-66ca-484c-b7ee-cc867ac11225",
        "colab": {
          "base_uri": "https://localhost:8080/",
          "height": 35
        }
      },
      "source": [
        "tf.__version__"
      ],
      "execution_count": 62,
      "outputs": [
        {
          "output_type": "execute_result",
          "data": {
            "text/plain": [
              "'2.0.0-rc1'"
            ]
          },
          "metadata": {
            "tags": []
          },
          "execution_count": 62
        }
      ]
    },
    {
      "cell_type": "markdown",
      "metadata": {
        "id": "rozuTUgLmABs",
        "colab_type": "text"
      },
      "source": [
        "### 3.패션 MNIST데이터 세트 불러오기"
      ]
    },
    {
      "cell_type": "code",
      "metadata": {
        "id": "UC4kv0f2kFW6",
        "colab_type": "code",
        "colab": {}
      },
      "source": [
        "(x_train_all, y_train_all), (x_test, y_test) = tf.keras.datasets.fashion_mnist.load_data()"
      ],
      "execution_count": 0,
      "outputs": []
    },
    {
      "cell_type": "markdown",
      "metadata": {
        "id": "WVqsDgf2mEry",
        "colab_type": "text"
      },
      "source": [
        "### 4.훈련 세트의 크기 확인하기"
      ]
    },
    {
      "cell_type": "code",
      "metadata": {
        "id": "ejEJoRxvkGy6",
        "colab_type": "code",
        "outputId": "59abcb79-b24b-437d-c11d-6060f4db6c00",
        "colab": {
          "base_uri": "https://localhost:8080/",
          "height": 35
        }
      },
      "source": [
        "print(x_train_all.shape, y_train_all.shape)"
      ],
      "execution_count": 64,
      "outputs": [
        {
          "output_type": "stream",
          "text": [
            "(60000, 28, 28) (60000,)\n"
          ],
          "name": "stdout"
        }
      ]
    },
    {
      "cell_type": "markdown",
      "metadata": {
        "id": "xRH1k4mbvsbS",
        "colab_type": "text"
      },
      "source": [
        "<img src=\"https://github.com/legi1993/eee/blob/master/1573815886230-16ababb7-de49-445a-b137-7c8f5e72ae83_.jpg?raw=true\" width=\"40%\">"
      ]
    },
    {
      "cell_type": "markdown",
      "metadata": {
        "id": "qJnSvNbwmI1W",
        "colab_type": "text"
      },
      "source": [
        "### 5.imgshow()함수로 샘플 이미지 확인하기"
      ]
    },
    {
      "cell_type": "code",
      "metadata": {
        "id": "yYjXNrMskNyj",
        "colab_type": "code",
        "outputId": "c1603cf2-8764-4e7b-8712-bb7266f3c9d0",
        "colab": {
          "base_uri": "https://localhost:8080/",
          "height": 265
        }
      },
      "source": [
        "import matplotlib.pyplot as plt\n",
        "plt.imshow(x_train_all[0], cmap='gray') # imshow() 함수는 넘파이 배열을 받아 이미지를 그리는데 cmap='gray' 이므로 배열 원소값이 0에 가까울수록 검게 그려집니다\n",
        "plt.show()"
      ],
      "execution_count": 65,
      "outputs": [
        {
          "output_type": "display_data",
          "data": {
            "image/png": "[encoded data removed]",
            "text/plain": [
              "<Figure size 432x288 with 1 Axes>"
            ]
          },
          "metadata": {
            "tags": []
          }
        }
      ]
    },
    {
      "cell_type": "markdown",
      "metadata": {
        "id": "6Xif6r3XmT55",
        "colab_type": "text"
      },
      "source": [
        "### 6.타깃의 내용과 의미 확인하기\n",
        "\n",
        "타깃의 크기는 60,000개의 요소를 가진 1차원 배열인데 이중 가장 앞에 있는 데이터 10개만 출력해보겠습니다"
      ]
    },
    {
      "cell_type": "code",
      "metadata": {
        "id": "oiAsvkh4kS0k",
        "colab_type": "code",
        "outputId": "d4aef499-1d9a-4a3a-9b44-05d3da09ae19",
        "colab": {
          "base_uri": "https://localhost:8080/",
          "height": 35
        }
      },
      "source": [
        "print(y_train_all[:10])"
      ],
      "execution_count": 66,
      "outputs": [
        {
          "output_type": "stream",
          "text": [
            "[9 0 0 3 0 2 7 2 5 5]\n"
          ],
          "name": "stdout"
        }
      ]
    },
    {
      "cell_type": "code",
      "metadata": {
        "id": "YVohd2CzkVHl",
        "colab_type": "code",
        "colab": {}
      },
      "source": [
        "class_names = ['티셔츠/윗도리', '바지', '스웨터', '드레스', '코트', '샌들', '셔츠', '스니커즈', '가방', '앵클부츠']\n",
        "# 순서대로 0부터 9까지의 의미 "
      ],
      "execution_count": 0,
      "outputs": []
    },
    {
      "cell_type": "code",
      "metadata": {
        "id": "J4wmwuZ6kamG",
        "colab_type": "code",
        "outputId": "ad87dfce-074d-4ef9-b637-eee7405e7fe0",
        "colab": {
          "base_uri": "https://localhost:8080/",
          "height": 35
        }
      },
      "source": [
        "print(class_names[y_train_all[0]])"
      ],
      "execution_count": 68,
      "outputs": [
        {
          "output_type": "stream",
          "text": [
            "앵클부츠\n"
          ],
          "name": "stdout"
        }
      ]
    },
    {
      "cell_type": "markdown",
      "metadata": {
        "id": "5-61_v4hmZ88",
        "colab_type": "text"
      },
      "source": [
        "### 7.타깃 분포 확인하기\n",
        "\n",
        "훈련 세트와 검증 세트로 나누기 전 훈련 세트의 타깃값들이 고르게 분포되어있는지 확인해보겠습니다"
      ]
    },
    {
      "cell_type": "code",
      "metadata": {
        "id": "Z76nFpxzkcA2",
        "colab_type": "code",
        "outputId": "bbbfd60b-a9e0-44b4-8305-d88927a68b40",
        "colab": {
          "base_uri": "https://localhost:8080/",
          "height": 35
        }
      },
      "source": [
        "np.bincount(y_train_all)  # 배열에 있는 정수값의 등장 횟수를 세어 정수값에 해당하는 인덱스 위치에 저장합니다"
      ],
      "execution_count": 69,
      "outputs": [
        {
          "output_type": "execute_result",
          "data": {
            "text/plain": [
              "array([6000, 6000, 6000, 6000, 6000, 6000, 6000, 6000, 6000, 6000])"
            ]
          },
          "metadata": {
            "tags": []
          },
          "execution_count": 69
        }
      ]
    },
    {
      "cell_type": "markdown",
      "metadata": {
        "id": "Fcb-Bf-0mflo",
        "colab_type": "text"
      },
      "source": [
        "###8.훈련 세트와 검증 세트 고르게 나누기"
      ]
    },
    {
      "cell_type": "code",
      "metadata": {
        "id": "X2ppHny6kd8X",
        "colab_type": "code",
        "colab": {}
      },
      "source": [
        "from sklearn.model_selection import train_test_split"
      ],
      "execution_count": 0,
      "outputs": []
    },
    {
      "cell_type": "code",
      "metadata": {
        "id": "hf6iW3SRkrN_",
        "colab_type": "code",
        "colab": {}
      },
      "source": [
        "x_train, x_val, y_train, y_val = train_test_split(x_train_all, y_train_all, stratify=y_train_all, \n",
        "                                                  test_size=0.2, random_state=42)"
      ],
      "execution_count": 0,
      "outputs": []
    },
    {
      "cell_type": "markdown",
      "metadata": {
        "id": "xpTAcnOmxqds",
        "colab_type": "text"
      },
      "source": [
        "검증 세트의 레이블이 잘 나눠졌는지 확인"
      ]
    },
    {
      "cell_type": "code",
      "metadata": {
        "id": "QgH3XEMgkgNf",
        "colab_type": "code",
        "outputId": "933d4707-a842-44ed-ac04-9dd8a9b41918",
        "colab": {
          "base_uri": "https://localhost:8080/",
          "height": 35
        }
      },
      "source": [
        "np.bincount(y_train)"
      ],
      "execution_count": 72,
      "outputs": [
        {
          "output_type": "execute_result",
          "data": {
            "text/plain": [
              "array([4800, 4800, 4800, 4800, 4800, 4800, 4800, 4800, 4800, 4800])"
            ]
          },
          "metadata": {
            "tags": []
          },
          "execution_count": 72
        }
      ]
    },
    {
      "cell_type": "code",
      "metadata": {
        "id": "KLJ4P5pLkiPH",
        "colab_type": "code",
        "outputId": "8ac8e435-9f92-4dc6-8ac5-0f4c0553088d",
        "colab": {
          "base_uri": "https://localhost:8080/",
          "height": 35
        }
      },
      "source": [
        "np.bincount(y_val)"
      ],
      "execution_count": 73,
      "outputs": [
        {
          "output_type": "execute_result",
          "data": {
            "text/plain": [
              "array([1200, 1200, 1200, 1200, 1200, 1200, 1200, 1200, 1200, 1200])"
            ]
          },
          "metadata": {
            "tags": []
          },
          "execution_count": 73
        }
      ]
    },
    {
      "cell_type": "markdown",
      "metadata": {
        "id": "vCDWsmgWml16",
        "colab_type": "text"
      },
      "source": [
        "### 9.입력 데이터 정규화 하기\n",
        "\n",
        "이미지 데이터는 픽셀마다 0 ~ 255사이 값을 가지므로 255로 나누어 0~1 사이로 맞춥니다"
      ]
    },
    {
      "cell_type": "code",
      "metadata": {
        "id": "q8MJmCBmkv4K",
        "colab_type": "code",
        "colab": {}
      },
      "source": [
        "x_train = x_train / 255\n",
        "x_val = x_val / 255"
      ],
      "execution_count": 0,
      "outputs": []
    },
    {
      "cell_type": "markdown",
      "metadata": {
        "id": "JCfgmDW4mqYM",
        "colab_type": "text"
      },
      "source": [
        "### 10.훈련세트와 검증세트의 차원 변경하기\n",
        "\n",
        "기존 28 * 28 크기의 2차원 배열을 reshape() 메서드를 사용하여 1차원 배열의 샘플로 바꿉니다"
      ]
    },
    {
      "cell_type": "code",
      "metadata": {
        "id": "-poVwREbky07",
        "colab_type": "code",
        "colab": {}
      },
      "source": [
        "x_train = x_train.reshape(-1, 784) # (-1,784)는 784열로 맞춘다는 뜻이다\n",
        "x_val = x_val.reshape(-1, 784)"
      ],
      "execution_count": 0,
      "outputs": []
    },
    {
      "cell_type": "code",
      "metadata": {
        "id": "zuisXiP2k1Ez",
        "colab_type": "code",
        "outputId": "a14eae2b-e832-4797-910c-3800e3c591c7",
        "colab": {
          "base_uri": "https://localhost:8080/",
          "height": 35
        }
      },
      "source": [
        "print(x_train.shape, x_val.shape)"
      ],
      "execution_count": 76,
      "outputs": [
        {
          "output_type": "stream",
          "text": [
            "(48000, 784) (12000, 784)\n"
          ],
          "name": "stdout"
        }
      ]
    },
    {
      "cell_type": "markdown",
      "metadata": {
        "id": "rNig8T2ilbO7",
        "colab_type": "text"
      },
      "source": [
        "![대체 텍스트](https://github.com/JungMinNoh/jungminnoh/blob/master/7-8.jpg?raw=true)"
      ]
    },
    {
      "cell_type": "markdown",
      "metadata": {
        "id": "GGrlNX0dnRBl",
        "colab_type": "text"
      },
      "source": [
        "###타깃 데이터를 준비하고 다중 분류 신경망을 훈련합니다\n",
        "\n",
        "MNIST 데이터세트는 10개의 클래스로 구성되어 있으므로 출력 뉴런의 개수도 10개가 되어야 합니다. 하지만 y_train, y_val에 저장된 값들은 0 ~ 9 사이의 정수값 하나로 10개의 출력 뉴런에 대응되지 않습니다. 즉, 이 타깃 데이터를 출력 뉴런의 갯수에 맞게 변형해야 합니다."
      ]
    },
    {
      "cell_type": "markdown",
      "metadata": {
        "id": "sZ-GvSNI0Tsf",
        "colab_type": "text"
      },
      "source": [
        "### 1. 타깃을 원-핫 인코딩(one-hot encoding)으로 변환하기 \n",
        "\n",
        "정수값에 해당하는 원소는 1, 나머지 원소는 0으로 하여 10개의 원소를 가진 배열을 만드는 것입니다. \n",
        "\n",
        "![대체 텍스트](https://lh3.googleusercontent.com/uWKy_lt7XFZ4LXwmno2FJG55doPC3TInc8S2HOFB3vkOXMIdYbKKVYlbYqWlVkrdMB3ecSP53jd3FJRC8wmhxdH3j8k3vz8Aib6wN-RTnJWbKG7JGVvrhrD2qaafBR0fj56frHz_SVKjr89rTgCIK3nSNu6PpRDHynLgtOPlHnVfXKShR91hvGO8NfcmBlp_MxsiDTWs7H9hz9SZWYI2U5BKSGiz-e6-Rrereq3Hng2zGMS6x1ot9ez7zjSNrA23WqSHw78ZzHgImhGbH2Lk50E_sgOmhTalx9kJjRM3PAnr_XQlRcciM-Xhsx13jHbEpz2b7Ynjd_X69iqtpCdeWh4zqaQ0HMN0-2K1eEVtKbcH0wkVyNX4kuY4u8hT6dHZox2u77h3MUNYI90p3TH0qaeyBJzpVpma5PfPVmivfxDRykmz4sLd16d_0mMJqFMiYeF1DxjpuRaGEH4IOCdspolkxm5wU59DkVEh0LDc6MsjkeycR37TJH3IQsUJOs9ETyWaJCMuNrmoRIp8ySvLuP0zkgM6B4OBq_rRR1V8uN0hzCTpZlvkS5MVpAsMb57s9wYf7g6OpT-1Dhmk1Zaaer1yjd_9WFob8cxlX803hI200ZR0_Vy7NeOnZ0XdKKrRNO59D8jrU3VvWmiepUKUhOrJ_jvjt1c5vebxASbVMvmO0Cg5=w834-h625-no)"
      ]
    },
    {
      "cell_type": "markdown",
      "metadata": {
        "id": "LccAh8bk1Zo2",
        "colab_type": "text"
      },
      "source": [
        "![대체 텍스트](https://lh3.googleusercontent.com/gW1mxY5yGXqeyWnXv-ydwiJKOlUAfy5WpbVTly12yj3jsqqPYOf7vjjqEtzgt1j2AEpOs4WXSNJfhf1DnlzdJ3vnWfO3X1zsTxcJgSCD0nssCCRbLne3nuXuTO6ifpw8qmSqVZEg8DG3EgTEDIWJueIPF1n8wfEcXUqyRPaw2R5S1SuCMIjwa3OmE6YU9wpPyS1PVu_9Jn_-Q4x86KuCl9c1yIp9dzXgKCUjvF2ISDFRPmldpAAHcipkmfaO4UD7FFDViUMq8107cKd_ZH_xELVuVjxJ9ozd6XK4fRKL9zIWbJLIsIFcn6eauOp8p2qgwFr5fF3gO8s22bgQtNmyjmd7ywkJsjq0kvf0yR3A-7SP8SgkqxMVOUkKSS2qRwCGIpq3JxMRn9IvNpN_Hyxg3oRsnm2Tg0pchvRioZ7lRigWRcv6_HRc_b6zBsnDAaIW4DYiVB-PsxGQeQMGHHWLoNkXL7-vmgHqsiXlubnSNmNH9q5JH3Y8mnZa6TI-f_tw4BXrtyrFek4IpL1Nvtqxmd0dpfTNfpDg8YkqXkK8pHI47wz7gjWfvADjSTdgAbHUgvNtZvVbXIBcDZ1GrH0Qifhq0zl-Z_Hq5TRY7T5rH0RQ5zDlQWF6MFBBqoeYrGxOyBmzYsVLOHPJRSuSMMUppXdLnUpxWulzcEOtOPuSXrhij1gb=w834-h625-no)"
      ]
    },
    {
      "cell_type": "markdown",
      "metadata": {
        "id": "NpPlO04f18gO",
        "colab_type": "text"
      },
      "source": [
        "###3. to_catagorical 함수 사용해 원-핫 인코딩하기\n"
      ]
    },
    {
      "cell_type": "code",
      "metadata": {
        "id": "ozJ-Ion3lAPd",
        "colab_type": "code",
        "outputId": "b429d8f9-03c4-4b40-eb6d-a1f391a1cf43",
        "colab": {
          "base_uri": "https://localhost:8080/",
          "height": 71
        }
      },
      "source": [
        "tf.keras.utils.to_categorical([0,1,3]) # 1행은 0, 2행은 1, 3행은 3에 해당하는 값"
      ],
      "execution_count": 77,
      "outputs": [
        {
          "output_type": "execute_result",
          "data": {
            "text/plain": [
              "array([[1., 0., 0., 0.],\n",
              "       [0., 1., 0., 0.],\n",
              "       [0., 0., 0., 1.]], dtype=float32)"
            ]
          },
          "metadata": {
            "tags": []
          },
          "execution_count": 77
        }
      ]
    },
    {
      "cell_type": "code",
      "metadata": {
        "id": "vJFv___j2T4T",
        "colab_type": "code",
        "colab": {}
      },
      "source": [
        "y_train_encoded = tf.keras.utils.to_categorical(y_train)\n",
        "y_val_encoded = tf.keras.utils.to_categorical(y_val)"
      ],
      "execution_count": 0,
      "outputs": []
    },
    {
      "cell_type": "code",
      "metadata": {
        "id": "qV4QkuJu4aLz",
        "colab_type": "code",
        "outputId": "01d75898-7a77-4f29-d3f1-e7951beea366",
        "colab": {
          "base_uri": "https://localhost:8080/",
          "height": 35
        }
      },
      "source": [
        "print(y_train_encoded.shape, y_val_encoded.shape)"
      ],
      "execution_count": 79,
      "outputs": [
        {
          "output_type": "stream",
          "text": [
            "(48000, 10) (12000, 10)\n"
          ],
          "name": "stdout"
        }
      ]
    },
    {
      "cell_type": "code",
      "metadata": {
        "id": "zEt4oeKb4h5y",
        "colab_type": "code",
        "outputId": "6aa11f1a-340b-477d-c63b-0070fdd2fb3e",
        "colab": {
          "base_uri": "https://localhost:8080/",
          "height": 35
        }
      },
      "source": [
        "print(y_train[0], y_train_encoded[0]) # 0~9까지 나타낸다"
      ],
      "execution_count": 80,
      "outputs": [
        {
          "output_type": "stream",
          "text": [
            "6 [0. 0. 0. 0. 0. 0. 1. 0. 0. 0.]\n"
          ],
          "name": "stdout"
        }
      ]
    },
    {
      "cell_type": "markdown",
      "metadata": {
        "id": "bncYdS_n5aP1",
        "colab_type": "text"
      },
      "source": [
        "###4. MultiClassNetwork 클래스로 다중 분류 신경망 훈련하기\n"
      ]
    },
    {
      "cell_type": "code",
      "metadata": {
        "id": "_lAgLSRd5J7G",
        "colab_type": "code",
        "outputId": "7e8b487c-5080-47e7-ecd3-f01da0f78407",
        "colab": {
          "base_uri": "https://localhost:8080/",
          "height": 35
        }
      },
      "source": [
        "fc = MultiClassNetwork(units=100, batch_size=256)\n",
        "fc.fit(x_train, y_train_encoded, \n",
        "       x_val=x_val, y_val=y_val_encoded, epochs=40)"
      ],
      "execution_count": 81,
      "outputs": [
        {
          "output_type": "stream",
          "text": [
            "........................................"
          ],
          "name": "stdout"
        }
      ]
    },
    {
      "cell_type": "markdown",
      "metadata": {
        "id": "aLfbrfnB5uUd",
        "colab_type": "text"
      },
      "source": [
        "###5. 훈련 손실, 검증 손실 그래프와 훈련 모델 점수 확인하기"
      ]
    },
    {
      "cell_type": "code",
      "metadata": {
        "id": "ihEBCcNz5tNW",
        "colab_type": "code",
        "outputId": "855a981c-f005-4f8f-b50e-3f20d0dcb4f1",
        "colab": {
          "base_uri": "https://localhost:8080/",
          "height": 279
        }
      },
      "source": [
        "plt.plot(fc.losses)\n",
        "plt.plot(fc.val_losses)\n",
        "plt.ylabel('loss')\n",
        "plt.xlabel('iteration')\n",
        "plt.legend(['train_loss', 'val_loss'])\n",
        "plt.show()"
      ],
      "execution_count": 82,
      "outputs": [
        {
          "output_type": "display_data",
          "data": {
            "image/png": "[encoded data removed]",
            "text/plain": [
              "<Figure size 432x288 with 1 Axes>"
            ]
          },
          "metadata": {
            "tags": []
          }
        }
      ]
    },
    {
      "cell_type": "code",
      "metadata": {
        "id": "NxROY1co50Xa",
        "colab_type": "code",
        "outputId": "5db487b1-2b73-4422-ae3d-23d3b3d6e2d4",
        "colab": {
          "base_uri": "https://localhost:8080/",
          "height": 35
        }
      },
      "source": [
        "fc.score(x_val, y_val_encoded)"
      ],
      "execution_count": 83,
      "outputs": [
        {
          "output_type": "execute_result",
          "data": {
            "text/plain": [
              "0.8150833333333334"
            ]
          },
          "metadata": {
            "tags": []
          },
          "execution_count": 83
        }
      ]
    },
    {
      "cell_type": "code",
      "metadata": {
        "id": "PFTdhool55En",
        "colab_type": "code",
        "colab": {}
      },
      "source": [
        ""
      ],
      "execution_count": 0,
      "outputs": []
    }
  ]
}