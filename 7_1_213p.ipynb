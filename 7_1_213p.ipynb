{
  "nbformat": 4,
  "nbformat_minor": 0,
  "metadata": {
    "colab": {
      "name": "7-1_213p.ipynb",
      "provenance": [],
      "collapsed_sections": []
    },
    "kernelspec": {
      "name": "python3",
      "display_name": "Python 3"
    }
  },
  "cells": [
    {
      "cell_type": "code",
      "metadata": {
        "id": "Hos0YEZnxXau",
        "colab_type": "code",
        "colab": {}
      },
      "source": [
        "import numpy as np"
      ],
      "execution_count": 0,
      "outputs": []
    },
    {
      "cell_type": "markdown",
      "metadata": {
        "id": "zgaks1CDh0xu",
        "colab_type": "text"
      },
      "source": [
        "# 의류 이미지를 분류 합니다."
      ]
    },
    {
      "cell_type": "markdown",
      "metadata": {
        "id": "-3Psm6thh3nd",
        "colab_type": "text"
      },
      "source": [
        "앞에서 만든 Multiclassnetwork 클래스를 사용하여 '의류 이미지 분류하기'라는 다중 분류 문제를 해결 해 보겠습니다. 이번 실습 부터는 패션 MNIST 데이터를 텐서플로에서 불러와 사용합니다."
      ]
    },
    {
      "cell_type": "markdown",
      "metadata": {
        "id": "fySbvuFTl08R",
        "colab_type": "text"
      },
      "source": [
        "### 1.텐서플로 설치 및 임포트 하기"
      ]
    },
    {
      "cell_type": "code",
      "metadata": {
        "id": "cYqTwWn7h3Hp",
        "colab_type": "code",
        "outputId": "a4fd3fbd-dbb7-4b75-f8c9-cf0f095bb17e",
        "colab": {
          "base_uri": "https://localhost:8080/",
          "height": 559
        }
      },
      "source": [
        "!pip install tensorflow-gpu==2.0.0-rc1 # 구글 콜렙은 1.15버전이라 2.0 버전으로 업그레이드 해야합니다"
      ],
      "execution_count": 1,
      "outputs": [
        {
          "output_type": "stream",
          "text": [
            "Collecting tensorflow-gpu==2.0.0-rc1\n",
            "\u001b[?25l  Downloading https://files.pythonhosted.org/packages/73/cf/2fc69ba3e59edc8333e2676fa71b40197718dea7dc1282c79955cf6b2acb/tensorflow_gpu-2.0.0rc1-cp36-cp36m-manylinux2010_x86_64.whl (380.5MB)\n",
            "\u001b[K     |████████████████████████████████| 380.5MB 41kB/s \n",
            "\u001b[?25hRequirement already satisfied: keras-applications>=1.0.8 in /usr/local/lib/python3.6/dist-packages (from tensorflow-gpu==2.0.0-rc1) (1.0.8)\n",
            "Requirement already satisfied: keras-preprocessing>=1.0.5 in /usr/local/lib/python3.6/dist-packages (from tensorflow-gpu==2.0.0-rc1) (1.1.0)\n",
            "Collecting tf-estimator-nightly<1.14.0.dev2019080602,>=1.14.0.dev2019080601\n",
            "\u001b[?25l  Downloading https://files.pythonhosted.org/packages/21/28/f2a27a62943d5f041e4a6fd404b2d21cb7c59b2242a4e73b03d9ba166552/tf_estimator_nightly-1.14.0.dev2019080601-py2.py3-none-any.whl (501kB)\n",
            "\u001b[K     |████████████████████████████████| 501kB 55.9MB/s \n",
            "\u001b[?25hRequirement already satisfied: google-pasta>=0.1.6 in /usr/local/lib/python3.6/dist-packages (from tensorflow-gpu==2.0.0-rc1) (0.1.8)\n",
            "Requirement already satisfied: opt-einsum>=2.3.2 in /usr/local/lib/python3.6/dist-packages (from tensorflow-gpu==2.0.0-rc1) (3.1.0)\n",
            "Requirement already satisfied: numpy<2.0,>=1.16.0 in /usr/local/lib/python3.6/dist-packages (from tensorflow-gpu==2.0.0-rc1) (1.17.4)\n",
            "Requirement already satisfied: termcolor>=1.1.0 in /usr/local/lib/python3.6/dist-packages (from tensorflow-gpu==2.0.0-rc1) (1.1.0)\n",
            "Requirement already satisfied: wheel>=0.26 in /usr/local/lib/python3.6/dist-packages (from tensorflow-gpu==2.0.0-rc1) (0.33.6)\n",
            "Collecting tb-nightly<1.15.0a20190807,>=1.15.0a20190806\n",
            "\u001b[?25l  Downloading https://files.pythonhosted.org/packages/bc/88/24b5fb7280e74c7cf65bde47c171547fd02afb3840cff41bcbe9270650f5/tb_nightly-1.15.0a20190806-py3-none-any.whl (4.3MB)\n",
            "\u001b[K     |████████████████████████████████| 4.3MB 48.1MB/s \n",
            "\u001b[?25hRequirement already satisfied: absl-py>=0.7.0 in /usr/local/lib/python3.6/dist-packages (from tensorflow-gpu==2.0.0-rc1) (0.8.1)\n",
            "Requirement already satisfied: grpcio>=1.8.6 in /usr/local/lib/python3.6/dist-packages (from tensorflow-gpu==2.0.0-rc1) (1.15.0)\n",
            "Requirement already satisfied: gast>=0.2.0 in /usr/local/lib/python3.6/dist-packages (from tensorflow-gpu==2.0.0-rc1) (0.2.2)\n",
            "Requirement already satisfied: astor>=0.6.0 in /usr/local/lib/python3.6/dist-packages (from tensorflow-gpu==2.0.0-rc1) (0.8.0)\n",
            "Requirement already satisfied: wrapt>=1.11.1 in /usr/local/lib/python3.6/dist-packages (from tensorflow-gpu==2.0.0-rc1) (1.11.2)\n",
            "Requirement already satisfied: six>=1.10.0 in /usr/local/lib/python3.6/dist-packages (from tensorflow-gpu==2.0.0-rc1) (1.12.0)\n",
            "Requirement already satisfied: protobuf>=3.6.1 in /usr/local/lib/python3.6/dist-packages (from tensorflow-gpu==2.0.0-rc1) (3.10.0)\n",
            "Requirement already satisfied: h5py in /usr/local/lib/python3.6/dist-packages (from keras-applications>=1.0.8->tensorflow-gpu==2.0.0-rc1) (2.8.0)\n",
            "Requirement already satisfied: werkzeug>=0.11.15 in /usr/local/lib/python3.6/dist-packages (from tb-nightly<1.15.0a20190807,>=1.15.0a20190806->tensorflow-gpu==2.0.0-rc1) (0.16.0)\n",
            "Requirement already satisfied: markdown>=2.6.8 in /usr/local/lib/python3.6/dist-packages (from tb-nightly<1.15.0a20190807,>=1.15.0a20190806->tensorflow-gpu==2.0.0-rc1) (3.1.1)\n",
            "Requirement already satisfied: setuptools>=41.0.0 in /usr/local/lib/python3.6/dist-packages (from tb-nightly<1.15.0a20190807,>=1.15.0a20190806->tensorflow-gpu==2.0.0-rc1) (41.4.0)\n",
            "Installing collected packages: tf-estimator-nightly, tb-nightly, tensorflow-gpu\n",
            "Successfully installed tb-nightly-1.15.0a20190806 tensorflow-gpu-2.0.0rc1 tf-estimator-nightly-1.14.0.dev2019080601\n"
          ],
          "name": "stdout"
        }
      ]
    },
    {
      "cell_type": "code",
      "metadata": {
        "id": "HWfwrHZBiL2B",
        "colab_type": "code",
        "colab": {}
      },
      "source": [
        "import tensorflow as tf"
      ],
      "execution_count": 0,
      "outputs": []
    },
    {
      "cell_type": "markdown",
      "metadata": {
        "id": "F8-fN2Yil-Qe",
        "colab_type": "text"
      },
      "source": [
        "### 2.텐서플로 버전 확인하기"
      ]
    },
    {
      "cell_type": "code",
      "metadata": {
        "id": "VwTPyMDBiQjK",
        "colab_type": "code",
        "outputId": "436b08f9-86a5-493b-ac8e-613ad95816c9",
        "colab": {
          "base_uri": "https://localhost:8080/",
          "height": 35
        }
      },
      "source": [
        "tf.__version__"
      ],
      "execution_count": 3,
      "outputs": [
        {
          "output_type": "execute_result",
          "data": {
            "text/plain": [
              "'2.0.0-rc1'"
            ]
          },
          "metadata": {
            "tags": []
          },
          "execution_count": 3
        }
      ]
    },
    {
      "cell_type": "markdown",
      "metadata": {
        "id": "rozuTUgLmABs",
        "colab_type": "text"
      },
      "source": [
        "### 3.패션 MNIST데이터 세트 불러오기"
      ]
    },
    {
      "cell_type": "code",
      "metadata": {
        "id": "UC4kv0f2kFW6",
        "colab_type": "code",
        "colab": {
          "base_uri": "https://localhost:8080/",
          "height": 161
        },
        "outputId": "72ad5815-9366-4cba-ba51-b2b469a92047"
      },
      "source": [
        "(x_train_all, y_train_all), (x_test, y_test) = tf.keras.datasets.fashion_mnist.load_data()"
      ],
      "execution_count": 4,
      "outputs": [
        {
          "output_type": "stream",
          "text": [
            "Downloading data from https://storage.googleapis.com/tensorflow/tf-keras-datasets/train-labels-idx1-ubyte.gz\n",
            "32768/29515 [=================================] - 0s 0us/step\n",
            "Downloading data from https://storage.googleapis.com/tensorflow/tf-keras-datasets/train-images-idx3-ubyte.gz\n",
            "26427392/26421880 [==============================] - 0s 0us/step\n",
            "Downloading data from https://storage.googleapis.com/tensorflow/tf-keras-datasets/t10k-labels-idx1-ubyte.gz\n",
            "8192/5148 [===============================================] - 0s 0us/step\n",
            "Downloading data from https://storage.googleapis.com/tensorflow/tf-keras-datasets/t10k-images-idx3-ubyte.gz\n",
            "4423680/4422102 [==============================] - 0s 0us/step\n"
          ],
          "name": "stdout"
        }
      ]
    },
    {
      "cell_type": "markdown",
      "metadata": {
        "id": "WVqsDgf2mEry",
        "colab_type": "text"
      },
      "source": [
        "### 4.훈련 세트의 크기 확인하기"
      ]
    },
    {
      "cell_type": "code",
      "metadata": {
        "id": "ejEJoRxvkGy6",
        "colab_type": "code",
        "outputId": "2348178b-2121-4d00-841f-e5fa63c5da92",
        "colab": {
          "base_uri": "https://localhost:8080/",
          "height": 35
        }
      },
      "source": [
        "print(x_train_all.shape, y_train_all.shape)"
      ],
      "execution_count": 47,
      "outputs": [
        {
          "output_type": "stream",
          "text": [
            "(60000, 28, 28) (60000,)\n"
          ],
          "name": "stdout"
        }
      ]
    },
    {
      "cell_type": "markdown",
      "metadata": {
        "id": "xRH1k4mbvsbS",
        "colab_type": "text"
      },
      "source": [
        "![샘플](https://lh3.googleusercontent.com/y14JSSOZEjw7Nc89hPi2QWT1vnR8TCtgunFGGzl5i9Q2Fg7zjd8U8D01nnMHsIwye2lBYXc29eR1ZNurz3Gpau-AcltgMmKpNKdFSpo_Kotry2oND3TBBLgBH1tkozobBn06F1FVNJhUWzTJAaTwDoV4d5m0RAKxCO7WQzJkN6JiozO1jPqazcZhIVxPtfUX4_rLcPrCnNK4f5nkXdqirSSA1nu4f8nC-ilFFzlHh0a1Q7Qx37UiGNrDHid6yzpdNe2qM1_K8EQOSZlextsIAPP3NzWg7MyDo5MR2Gs1j38fudGCTiSuM6-d93oJnLIFbMxEPtDhwqjM-n6WwID5BIwm0MDiSJh2XAPV36cAupuG3HAmZZqs7lnJY3obgMjyXpjQoCza-IWdv7pHuOFpDo2fwGRpzoej4woddpWGVbMlOBSHoasCgo2g8_zEkmavBYyY4Q-yCh_mH__xYfoqYC2IpIGQir-DKZU-pm_mTMqqbS2dNVx1uyF-Ad2wwMV30LqhpTLpJc83OW0v1GPi5fqIv2vuD3IhdB2BAdz9KFX3GrMyEqgf2NrTQVqgGyB_81oCYDnLgMy5wXbTejPntfyVPLvLn4G4h4atKINxrE23S06PO_zi3Q2DG6sLDCIgAPEDWFkhUaVizxuKlI-p7dCip7F9uOBAJfzNC0kuaghV80NQ=w514-h625-no)"
      ]
    },
    {
      "cell_type": "markdown",
      "metadata": {
        "id": "qJnSvNbwmI1W",
        "colab_type": "text"
      },
      "source": [
        "### 5.imgshow()함수로 샘플 이미지 확인하기"
      ]
    },
    {
      "cell_type": "code",
      "metadata": {
        "id": "yYjXNrMskNyj",
        "colab_type": "code",
        "outputId": "efb5646a-571b-4550-ec77-d03dee439a97",
        "colab": {
          "base_uri": "https://localhost:8080/",
          "height": 265
        }
      },
      "source": [
        "import matplotlib.pyplot as plt\n",
        "plt.imshow(x_train_all[0], cmap='gray') # imshow() 함수는 넘파이 배열을 받아 이미지를 그리는데 cmap='gray' 이므로 배열 원소값이 0에 가까울수록 검게 그려집니다\n",
        "plt.show()"
      ],
      "execution_count": 46,
      "outputs": [
        {
          "output_type": "display_data",
          "data": {
            "image/png": "[encoded data removed]",
            "text/plain": [
              "<Figure size 432x288 with 1 Axes>"
            ]
          },
          "metadata": {
            "tags": []
          }
        }
      ]
    },
    {
      "cell_type": "markdown",
      "metadata": {
        "id": "6Xif6r3XmT55",
        "colab_type": "text"
      },
      "source": [
        "### 6.타깃의 내용과 의미 확인하기\n",
        "\n",
        "타깃의 크기는 60,000개의 요소를 가진 1차원 배열인데 이중 가장 앞에 있는 데이터 10개만 출력해보겠습니다"
      ]
    },
    {
      "cell_type": "code",
      "metadata": {
        "id": "oiAsvkh4kS0k",
        "colab_type": "code",
        "outputId": "38eb0f15-17a1-4986-9e3e-c51fe752dd0d",
        "colab": {
          "base_uri": "https://localhost:8080/",
          "height": 34
        }
      },
      "source": [
        "print(y_train_all[:10])"
      ],
      "execution_count": 0,
      "outputs": [
        {
          "output_type": "stream",
          "text": [
            "[9 0 0 3 0 2 7 2 5 5]\n"
          ],
          "name": "stdout"
        }
      ]
    },
    {
      "cell_type": "code",
      "metadata": {
        "id": "YVohd2CzkVHl",
        "colab_type": "code",
        "colab": {}
      },
      "source": [
        "class_names = ['티셔츠/윗도리', '바지', '스웨터', '드레스', '코트', '샌들', '셔츠', '스니커즈', '가방', '앵클부츠']\n",
        "# 순서대로 0부터 9까지의 의미 "
      ],
      "execution_count": 0,
      "outputs": []
    },
    {
      "cell_type": "code",
      "metadata": {
        "id": "J4wmwuZ6kamG",
        "colab_type": "code",
        "outputId": "47310803-54a6-43e2-8658-f41b0af0f183",
        "colab": {
          "base_uri": "https://localhost:8080/",
          "height": 35
        }
      },
      "source": [
        "print(class_names[y_train_all[0]])"
      ],
      "execution_count": 8,
      "outputs": [
        {
          "output_type": "stream",
          "text": [
            "앵클부츠\n"
          ],
          "name": "stdout"
        }
      ]
    },
    {
      "cell_type": "markdown",
      "metadata": {
        "id": "5-61_v4hmZ88",
        "colab_type": "text"
      },
      "source": [
        "### 7.타깃 분포 확인하기\n",
        "\n",
        "훈련 세트와 검증 세트로 나누기 전 훈련 세트의 타깃값들이 고르게 분포되어있는지 확인해보겠습니다"
      ]
    },
    {
      "cell_type": "code",
      "metadata": {
        "id": "Z76nFpxzkcA2",
        "colab_type": "code",
        "outputId": "42d0d9d8-7deb-478c-ed7c-f1e669b3368b",
        "colab": {
          "base_uri": "https://localhost:8080/",
          "height": 35
        }
      },
      "source": [
        "np.bincount(y_train_all)  # 배열에 있는 정수값의 등장 횟수를 세어 정수값에 해당하는 인덱스 위치에 저장합니다"
      ],
      "execution_count": 12,
      "outputs": [
        {
          "output_type": "execute_result",
          "data": {
            "text/plain": [
              "array([6000, 6000, 6000, 6000, 6000, 6000, 6000, 6000, 6000, 6000])"
            ]
          },
          "metadata": {
            "tags": []
          },
          "execution_count": 12
        }
      ]
    },
    {
      "cell_type": "markdown",
      "metadata": {
        "id": "Fcb-Bf-0mflo",
        "colab_type": "text"
      },
      "source": [
        "###8.훈련 세트와 검증 세트 고르게 나누기"
      ]
    },
    {
      "cell_type": "code",
      "metadata": {
        "id": "X2ppHny6kd8X",
        "colab_type": "code",
        "colab": {}
      },
      "source": [
        "from sklearn.model_selection import train_test_split"
      ],
      "execution_count": 0,
      "outputs": []
    },
    {
      "cell_type": "code",
      "metadata": {
        "id": "hf6iW3SRkrN_",
        "colab_type": "code",
        "colab": {}
      },
      "source": [
        "x_train, x_val, y_train, y_val = train_test_split(x_train_all, y_train_all, stratify=y_train_all, \n",
        "                                                  test_size=0.2, random_state=42)"
      ],
      "execution_count": 0,
      "outputs": []
    },
    {
      "cell_type": "markdown",
      "metadata": {
        "id": "xpTAcnOmxqds",
        "colab_type": "text"
      },
      "source": [
        "검증 세트의 레이블이 잘 나눠졌는지 확인"
      ]
    },
    {
      "cell_type": "code",
      "metadata": {
        "id": "QgH3XEMgkgNf",
        "colab_type": "code",
        "outputId": "afb63d4c-684b-49df-c0e2-2457f5ba218b",
        "colab": {
          "base_uri": "https://localhost:8080/",
          "height": 35
        }
      },
      "source": [
        "np.bincount(y_train)"
      ],
      "execution_count": 15,
      "outputs": [
        {
          "output_type": "execute_result",
          "data": {
            "text/plain": [
              "array([4800, 4800, 4800, 4800, 4800, 4800, 4800, 4800, 4800, 4800])"
            ]
          },
          "metadata": {
            "tags": []
          },
          "execution_count": 15
        }
      ]
    },
    {
      "cell_type": "code",
      "metadata": {
        "id": "KLJ4P5pLkiPH",
        "colab_type": "code",
        "outputId": "f9f70f7e-4b0e-4797-ec55-922e2dda13ce",
        "colab": {
          "base_uri": "https://localhost:8080/",
          "height": 35
        }
      },
      "source": [
        "np.bincount(y_val)"
      ],
      "execution_count": 16,
      "outputs": [
        {
          "output_type": "execute_result",
          "data": {
            "text/plain": [
              "array([1200, 1200, 1200, 1200, 1200, 1200, 1200, 1200, 1200, 1200])"
            ]
          },
          "metadata": {
            "tags": []
          },
          "execution_count": 16
        }
      ]
    },
    {
      "cell_type": "markdown",
      "metadata": {
        "id": "vCDWsmgWml16",
        "colab_type": "text"
      },
      "source": [
        "### 9.입력 데이터 정규화 하기\n",
        "\n",
        "이미지 데이터는 픽셀마다 0 ~ 255사이 값을 가지므로 255로 나누어 0~1 사이로 맞춥니다"
      ]
    },
    {
      "cell_type": "code",
      "metadata": {
        "id": "q8MJmCBmkv4K",
        "colab_type": "code",
        "colab": {}
      },
      "source": [
        "x_train = x_train / 255\n",
        "x_val = x_val / 255"
      ],
      "execution_count": 0,
      "outputs": []
    },
    {
      "cell_type": "markdown",
      "metadata": {
        "id": "JCfgmDW4mqYM",
        "colab_type": "text"
      },
      "source": [
        "### 10.훈련세트와 검증세트의 차원 변경하기\n",
        "\n",
        "기존 28 * 28 크기의 2차원 배열을 reshape() 메서드를 사용하여 1차원 배열의 샘플로 바꿉니다"
      ]
    },
    {
      "cell_type": "code",
      "metadata": {
        "id": "-poVwREbky07",
        "colab_type": "code",
        "colab": {}
      },
      "source": [
        "x_train = x_train.reshape(-1, 784) # (-1,784)는 784열로 맞춘다는 뜻이다\n",
        "x_val = x_val.reshape(-1, 784)"
      ],
      "execution_count": 0,
      "outputs": []
    },
    {
      "cell_type": "code",
      "metadata": {
        "id": "zuisXiP2k1Ez",
        "colab_type": "code",
        "outputId": "22948355-b6e1-478c-fb8e-0b8901c0882c",
        "colab": {
          "base_uri": "https://localhost:8080/",
          "height": 35
        }
      },
      "source": [
        "print(x_train.shape, x_val.shape)"
      ],
      "execution_count": 24,
      "outputs": [
        {
          "output_type": "stream",
          "text": [
            "(48000, 784) (12000, 784)\n"
          ],
          "name": "stdout"
        }
      ]
    },
    {
      "cell_type": "markdown",
      "metadata": {
        "id": "rNig8T2ilbO7",
        "colab_type": "text"
      },
      "source": [
        "![대체 텍스트](https://github.com/JungMinNoh/jungminnoh/blob/master/7-8.jpg?raw=true)"
      ]
    },
    {
      "cell_type": "markdown",
      "metadata": {
        "id": "GGrlNX0dnRBl",
        "colab_type": "text"
      },
      "source": [
        "###타깃 데이터를 준비하고 다중 분류 신경망을 훈련합니다\n",
        "\n",
        "MNIST 데이터세트는 10개의 클래스로 구성되어 있으므로 출력 뉴런의 개수도 10개가 되어야 합니다. 하지만 y_train, y_val에 저장된 값들은 0 ~ 9 사이의 정수값 하나로 10개의 출력 뉴런에 대응되지 않습니다. 즉, 이 타깃 데이터를 출력 뉴런의 갯수에 맞게 변형해야 합니다."
      ]
    },
    {
      "cell_type": "markdown",
      "metadata": {
        "id": "sZ-GvSNI0Tsf",
        "colab_type": "text"
      },
      "source": [
        "### 1. 타깃을 원-핫 인코딩(one-hot encoding)으로 변환하기 \n",
        "\n",
        "정수값에 해당하는 원소는 1, 나머지 원소는 0으로 하여 10개의 원소를 가진 배열을 만드는 것입니다. \n",
        "\n",
        "![대체 텍스트](https://lh3.googleusercontent.com/uWKy_lt7XFZ4LXwmno2FJG55doPC3TInc8S2HOFB3vkOXMIdYbKKVYlbYqWlVkrdMB3ecSP53jd3FJRC8wmhxdH3j8k3vz8Aib6wN-RTnJWbKG7JGVvrhrD2qaafBR0fj56frHz_SVKjr89rTgCIK3nSNu6PpRDHynLgtOPlHnVfXKShR91hvGO8NfcmBlp_MxsiDTWs7H9hz9SZWYI2U5BKSGiz-e6-Rrereq3Hng2zGMS6x1ot9ez7zjSNrA23WqSHw78ZzHgImhGbH2Lk50E_sgOmhTalx9kJjRM3PAnr_XQlRcciM-Xhsx13jHbEpz2b7Ynjd_X69iqtpCdeWh4zqaQ0HMN0-2K1eEVtKbcH0wkVyNX4kuY4u8hT6dHZox2u77h3MUNYI90p3TH0qaeyBJzpVpma5PfPVmivfxDRykmz4sLd16d_0mMJqFMiYeF1DxjpuRaGEH4IOCdspolkxm5wU59DkVEh0LDc6MsjkeycR37TJH3IQsUJOs9ETyWaJCMuNrmoRIp8ySvLuP0zkgM6B4OBq_rRR1V8uN0hzCTpZlvkS5MVpAsMb57s9wYf7g6OpT-1Dhmk1Zaaer1yjd_9WFob8cxlX803hI200ZR0_Vy7NeOnZ0XdKKrRNO59D8jrU3VvWmiepUKUhOrJ_jvjt1c5vebxASbVMvmO0Cg5=w834-h625-no)"
      ]
    },
    {
      "cell_type": "markdown",
      "metadata": {
        "id": "LccAh8bk1Zo2",
        "colab_type": "text"
      },
      "source": [
        "![대체 텍스트](https://lh3.googleusercontent.com/gW1mxY5yGXqeyWnXv-ydwiJKOlUAfy5WpbVTly12yj3jsqqPYOf7vjjqEtzgt1j2AEpOs4WXSNJfhf1DnlzdJ3vnWfO3X1zsTxcJgSCD0nssCCRbLne3nuXuTO6ifpw8qmSqVZEg8DG3EgTEDIWJueIPF1n8wfEcXUqyRPaw2R5S1SuCMIjwa3OmE6YU9wpPyS1PVu_9Jn_-Q4x86KuCl9c1yIp9dzXgKCUjvF2ISDFRPmldpAAHcipkmfaO4UD7FFDViUMq8107cKd_ZH_xELVuVjxJ9ozd6XK4fRKL9zIWbJLIsIFcn6eauOp8p2qgwFr5fF3gO8s22bgQtNmyjmd7ywkJsjq0kvf0yR3A-7SP8SgkqxMVOUkKSS2qRwCGIpq3JxMRn9IvNpN_Hyxg3oRsnm2Tg0pchvRioZ7lRigWRcv6_HRc_b6zBsnDAaIW4DYiVB-PsxGQeQMGHHWLoNkXL7-vmgHqsiXlubnSNmNH9q5JH3Y8mnZa6TI-f_tw4BXrtyrFek4IpL1Nvtqxmd0dpfTNfpDg8YkqXkK8pHI47wz7gjWfvADjSTdgAbHUgvNtZvVbXIBcDZ1GrH0Qifhq0zl-Z_Hq5TRY7T5rH0RQ5zDlQWF6MFBBqoeYrGxOyBmzYsVLOHPJRSuSMMUppXdLnUpxWulzcEOtOPuSXrhij1gb=w834-h625-no)"
      ]
    },
    {
      "cell_type": "markdown",
      "metadata": {
        "id": "NpPlO04f18gO",
        "colab_type": "text"
      },
      "source": [
        "###3. to_catagorical 함수 사용해 원-핫 인코딩하기\n"
      ]
    },
    {
      "cell_type": "code",
      "metadata": {
        "id": "ozJ-Ion3lAPd",
        "colab_type": "code",
        "colab": {
          "base_uri": "https://localhost:8080/",
          "height": 71
        },
        "outputId": "46750ca8-224e-4ef5-ba4e-3c4d4ddf3dd7"
      },
      "source": [
        "tf.keras.utils.to_categorical([0,1,3]) # 1행은 0, 2행은 1, 3행은 3에 해당하는 값"
      ],
      "execution_count": 39,
      "outputs": [
        {
          "output_type": "execute_result",
          "data": {
            "text/plain": [
              "array([[1., 0., 0., 0.],\n",
              "       [0., 1., 0., 0.],\n",
              "       [0., 0., 0., 1.]], dtype=float32)"
            ]
          },
          "metadata": {
            "tags": []
          },
          "execution_count": 39
        }
      ]
    },
    {
      "cell_type": "code",
      "metadata": {
        "id": "vJFv___j2T4T",
        "colab_type": "code",
        "colab": {}
      },
      "source": [
        "y_train_encoded = tf.keras.utils.to_categorical(y_train)\n",
        "y_val_encoded = tf.keras.utils.to_categorical(y_val)"
      ],
      "execution_count": 0,
      "outputs": []
    },
    {
      "cell_type": "code",
      "metadata": {
        "id": "qV4QkuJu4aLz",
        "colab_type": "code",
        "colab": {
          "base_uri": "https://localhost:8080/",
          "height": 35
        },
        "outputId": "af7bba3b-6f30-4463-e114-91196813ea59"
      },
      "source": [
        "print(y_train_encoded.shape, y_val_encoded.shape)"
      ],
      "execution_count": 49,
      "outputs": [
        {
          "output_type": "stream",
          "text": [
            "(48000, 10) (12000, 10)\n"
          ],
          "name": "stdout"
        }
      ]
    },
    {
      "cell_type": "code",
      "metadata": {
        "id": "zEt4oeKb4h5y",
        "colab_type": "code",
        "colab": {
          "base_uri": "https://localhost:8080/",
          "height": 35
        },
        "outputId": "fe0c690b-455a-418b-8917-b51bb6205086"
      },
      "source": [
        "print(y_train[0], y_train_encoded[0]) # 0~9까지 나타낸다"
      ],
      "execution_count": 51,
      "outputs": [
        {
          "output_type": "stream",
          "text": [
            "6 [0. 0. 0. 0. 0. 0. 1. 0. 0. 0.]\n"
          ],
          "name": "stdout"
        }
      ]
    },
    {
      "cell_type": "markdown",
      "metadata": {
        "id": "bncYdS_n5aP1",
        "colab_type": "text"
      },
      "source": [
        "###4. MultiClassNetwork 클래스로 다중 분류 신경망 훈련하기\n"
      ]
    },
    {
      "cell_type": "code",
      "metadata": {
        "id": "_lAgLSRd5J7G",
        "colab_type": "code",
        "colab": {
          "base_uri": "https://localhost:8080/",
          "height": 208
        },
        "outputId": "820dc741-79b1-4cbf-ebb7-c8d3f8894943"
      },
      "source": [
        "fc = MultiClassNetwork(units=100, batch_size=256)\n",
        "fc.fit(x_train, y_train_encoded, \n",
        "       x_val=x_val, y_val=y_val_encoded, epochs=40)"
      ],
      "execution_count": 52,
      "outputs": [
        {
          "output_type": "error",
          "ename": "NameError",
          "evalue": "ignored",
          "traceback": [
            "\u001b[0;31m---------------------------------------------------------------------------\u001b[0m",
            "\u001b[0;31mNameError\u001b[0m                                 Traceback (most recent call last)",
            "\u001b[0;32m<ipython-input-52-88071218c286>\u001b[0m in \u001b[0;36m<module>\u001b[0;34m()\u001b[0m\n\u001b[0;32m----> 1\u001b[0;31m \u001b[0mfc\u001b[0m \u001b[0;34m=\u001b[0m \u001b[0mMultiClassNetwork\u001b[0m\u001b[0;34m(\u001b[0m\u001b[0munits\u001b[0m\u001b[0;34m=\u001b[0m\u001b[0;36m100\u001b[0m\u001b[0;34m,\u001b[0m \u001b[0mbatch_size\u001b[0m\u001b[0;34m=\u001b[0m\u001b[0;36m256\u001b[0m\u001b[0;34m)\u001b[0m\u001b[0;34m\u001b[0m\u001b[0;34m\u001b[0m\u001b[0m\n\u001b[0m\u001b[1;32m      2\u001b[0m fc.fit(x_train, y_train_encoded, \n\u001b[1;32m      3\u001b[0m        x_val=x_val, y_val=y_val_encoded, epochs=40)\n",
            "\u001b[0;31mNameError\u001b[0m: name 'MultiClassNetwork' is not defined"
          ]
        }
      ]
    },
    {
      "cell_type": "markdown",
      "metadata": {
        "id": "aLfbrfnB5uUd",
        "colab_type": "text"
      },
      "source": [
        "###5. 훈련 손실, 검증 손실 그래프와 훈련 모델 점수 확인하기"
      ]
    },
    {
      "cell_type": "code",
      "metadata": {
        "id": "ihEBCcNz5tNW",
        "colab_type": "code",
        "colab": {
          "base_uri": "https://localhost:8080/",
          "height": 244
        },
        "outputId": "8bddb436-3fba-457a-820d-8c213b132e35"
      },
      "source": [
        "plt.plot(fc.losses)\n",
        "plt.plot(fc.val_losses)\n",
        "plt.ylabel('loss')\n",
        "plt.xlabel('iteration')\n",
        "plt.legend(['train_loss', 'val_loss'])\n",
        "plt.show()"
      ],
      "execution_count": 53,
      "outputs": [
        {
          "output_type": "error",
          "ename": "NameError",
          "evalue": "ignored",
          "traceback": [
            "\u001b[0;31m---------------------------------------------------------------------------\u001b[0m",
            "\u001b[0;31mNameError\u001b[0m                                 Traceback (most recent call last)",
            "\u001b[0;32m<ipython-input-53-c884867bf1d5>\u001b[0m in \u001b[0;36m<module>\u001b[0;34m()\u001b[0m\n\u001b[0;32m----> 1\u001b[0;31m \u001b[0mplt\u001b[0m\u001b[0;34m.\u001b[0m\u001b[0mplot\u001b[0m\u001b[0;34m(\u001b[0m\u001b[0mfc\u001b[0m\u001b[0;34m.\u001b[0m\u001b[0mlosses\u001b[0m\u001b[0;34m)\u001b[0m\u001b[0;34m\u001b[0m\u001b[0;34m\u001b[0m\u001b[0m\n\u001b[0m\u001b[1;32m      2\u001b[0m \u001b[0mplt\u001b[0m\u001b[0;34m.\u001b[0m\u001b[0mplot\u001b[0m\u001b[0;34m(\u001b[0m\u001b[0mfc\u001b[0m\u001b[0;34m.\u001b[0m\u001b[0mval_losses\u001b[0m\u001b[0;34m)\u001b[0m\u001b[0;34m\u001b[0m\u001b[0;34m\u001b[0m\u001b[0m\n\u001b[1;32m      3\u001b[0m \u001b[0mplt\u001b[0m\u001b[0;34m.\u001b[0m\u001b[0mylabel\u001b[0m\u001b[0;34m(\u001b[0m\u001b[0;34m'loss'\u001b[0m\u001b[0;34m)\u001b[0m\u001b[0;34m\u001b[0m\u001b[0;34m\u001b[0m\u001b[0m\n\u001b[1;32m      4\u001b[0m \u001b[0mplt\u001b[0m\u001b[0;34m.\u001b[0m\u001b[0mxlabel\u001b[0m\u001b[0;34m(\u001b[0m\u001b[0;34m'iteration'\u001b[0m\u001b[0;34m)\u001b[0m\u001b[0;34m\u001b[0m\u001b[0;34m\u001b[0m\u001b[0m\n\u001b[1;32m      5\u001b[0m \u001b[0mplt\u001b[0m\u001b[0;34m.\u001b[0m\u001b[0mlegend\u001b[0m\u001b[0;34m(\u001b[0m\u001b[0;34m[\u001b[0m\u001b[0;34m'train_loss'\u001b[0m\u001b[0;34m,\u001b[0m \u001b[0;34m'val_loss'\u001b[0m\u001b[0;34m]\u001b[0m\u001b[0;34m)\u001b[0m\u001b[0;34m\u001b[0m\u001b[0;34m\u001b[0m\u001b[0m\n",
            "\u001b[0;31mNameError\u001b[0m: name 'fc' is not defined"
          ]
        }
      ]
    },
    {
      "cell_type": "code",
      "metadata": {
        "id": "NxROY1co50Xa",
        "colab_type": "code",
        "colab": {
          "base_uri": "https://localhost:8080/",
          "height": 172
        },
        "outputId": "97d38fc3-b699-460d-ea88-6799d9805e07"
      },
      "source": [
        "fc.score(x_val, y_val_encoded)"
      ],
      "execution_count": 54,
      "outputs": [
        {
          "output_type": "error",
          "ename": "NameError",
          "evalue": "ignored",
          "traceback": [
            "\u001b[0;31m---------------------------------------------------------------------------\u001b[0m",
            "\u001b[0;31mNameError\u001b[0m                                 Traceback (most recent call last)",
            "\u001b[0;32m<ipython-input-54-741c68c5a59a>\u001b[0m in \u001b[0;36m<module>\u001b[0;34m()\u001b[0m\n\u001b[0;32m----> 1\u001b[0;31m \u001b[0mfc\u001b[0m\u001b[0;34m.\u001b[0m\u001b[0mscore\u001b[0m\u001b[0;34m(\u001b[0m\u001b[0mx_val\u001b[0m\u001b[0;34m,\u001b[0m \u001b[0my_val_encoded\u001b[0m\u001b[0;34m)\u001b[0m\u001b[0;34m\u001b[0m\u001b[0;34m\u001b[0m\u001b[0m\n\u001b[0m",
            "\u001b[0;31mNameError\u001b[0m: name 'fc' is not defined"
          ]
        }
      ]
    },
    {
      "cell_type": "code",
      "metadata": {
        "id": "PFTdhool55En",
        "colab_type": "code",
        "colab": {}
      },
      "source": [
        ""
      ],
      "execution_count": 0,
      "outputs": []
    }
  ]
}