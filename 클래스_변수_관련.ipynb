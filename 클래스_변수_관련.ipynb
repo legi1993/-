{
  "nbformat": 4,
  "nbformat_minor": 0,
  "metadata": {
    "colab": {
      "name": "클래스 변수 관련.ipynb",
      "provenance": [],
      "collapsed_sections": []
    },
    "kernelspec": {
      "name": "python3",
      "display_name": "Python 3"
    }
  },
  "cells": [
    {
      "cell_type": "markdown",
      "metadata": {
        "id": "61k4V0jyrDV_",
        "colab_type": "text"
      },
      "source": [
        "#클래스와 객체\n",
        "\n",
        "* 과자 틀 - 클래스\n",
        "* 과자 틀에 의해 만들어진 과자 - 객체\n",
        "\n",
        "클래스(class)란 똑같은 무엇인가를 계속해서 만들어 낼 수 있는 설계 도면이고(과자 틀), 객체(object)란 클래스로 만든 피조물(과자 틀을 사용해 만든 과자)을 뜻한다.\n",
        "\n",
        "클래스로 만든 객체에는 중요한 특징이 있다. 바로 객체마다 고유한 성격을 가진다는 것이다. 과자 틀로 만든 과자에 구멍을 뚫거나 조금 베어 먹더라도 다른 과자에는 아무 영향이 없는 것과 마찬가지로 **동일한 클래스로 만든 객체들은 서로 전혀 영향을 주지 않는다.**"
      ]
    },
    {
      "cell_type": "code",
      "metadata": {
        "id": "0IphqoUMrBXs",
        "colab_type": "code",
        "colab": {}
      },
      "source": [
        "class Family:\n",
        "  lastname = \"김\""
      ],
      "execution_count": 0,
      "outputs": []
    },
    {
      "cell_type": "code",
      "metadata": {
        "id": "nTDAF3HjrF7f",
        "colab_type": "code",
        "colab": {}
      },
      "source": [
        "c1 = Family()\n",
        "c2 = Family()"
      ],
      "execution_count": 0,
      "outputs": []
    },
    {
      "cell_type": "code",
      "metadata": {
        "id": "b4jxo2bZrIG2",
        "colab_type": "code",
        "colab": {
          "base_uri": "https://localhost:8080/",
          "height": 107
        },
        "outputId": "1c49a5b1-9013-42b1-e03c-ccd429b619cf"
      },
      "source": [
        "Family.__dict__"
      ],
      "execution_count": 37,
      "outputs": [
        {
          "output_type": "execute_result",
          "data": {
            "text/plain": [
              "mappingproxy({'__dict__': <attribute '__dict__' of 'Family' objects>,\n",
              "              '__doc__': None,\n",
              "              '__module__': '__main__',\n",
              "              '__weakref__': <attribute '__weakref__' of 'Family' objects>,\n",
              "              'lastname': '김'})"
            ]
          },
          "metadata": {
            "tags": []
          },
          "execution_count": 37
        }
      ]
    },
    {
      "cell_type": "markdown",
      "metadata": {
        "id": "oV0H0KXhsAo4",
        "colab_type": "text"
      },
      "source": [
        "**파이썬에서는 클래스가 정의되면 하나의 독립적인 네임스페이스가 생성됩니다.** \n",
        "\n",
        "그리고 클래스 내에 정의된 변수나 메서드는 해당 네임스페이스 안에 파이썬 딕셔너리 타입으로 저장됩니다. Family 클래스는 네임스페이스 안에 lastname = \"김\" 이라는 값을 가진 딕셔너리를 포함합니다.\n",
        "\n",
        "*이름공간이란* <br>\n",
        "이름공간 또는 네임스페이스(Namespace)는 개체를 구분할 수 있는 범위를 나타내는 말로 일반적으로 하나의 이름 공간에서는 하나의 이름이 단 하나의 개체만을 가리키게 된다."
      ]
    },
    {
      "cell_type": "code",
      "metadata": {
        "id": "P6JbWPGFrMT6",
        "colab_type": "code",
        "colab": {
          "base_uri": "https://localhost:8080/",
          "height": 35
        },
        "outputId": "5fa8a817-eb19-41b6-eae1-2079873a4bda"
      },
      "source": [
        "print(c1.__dict__, id(c1))"
      ],
      "execution_count": 38,
      "outputs": [
        {
          "output_type": "stream",
          "text": [
            "{} 140626313663488\n"
          ],
          "name": "stdout"
        }
      ]
    },
    {
      "cell_type": "code",
      "metadata": {
        "id": "0ej4mnO6rpjh",
        "colab_type": "code",
        "colab": {
          "base_uri": "https://localhost:8080/",
          "height": 35
        },
        "outputId": "ecd11507-e7a7-41e1-965c-aef5c15919ab"
      },
      "source": [
        "print(c2.__dict__, id(c2))"
      ],
      "execution_count": 39,
      "outputs": [
        {
          "output_type": "stream",
          "text": [
            "{} 140626634661224\n"
          ],
          "name": "stdout"
        }
      ]
    },
    {
      "cell_type": "markdown",
      "metadata": {
        "id": "kO8mqkLuszOb",
        "colab_type": "text"
      },
      "source": [
        "**파이썬은 인스턴스를 생성하면 인스턴스별로 별도의 네임스페이스와 id를 가집니다**"
      ]
    },
    {
      "cell_type": "code",
      "metadata": {
        "id": "uV-95x1Lrrzl",
        "colab_type": "code",
        "colab": {}
      },
      "source": [
        "c1.lastname = \"kim\""
      ],
      "execution_count": 0,
      "outputs": []
    },
    {
      "cell_type": "code",
      "metadata": {
        "id": "UALKow5pttxI",
        "colab_type": "code",
        "colab": {
          "base_uri": "https://localhost:8080/",
          "height": 35
        },
        "outputId": "fe9baa9b-d806-445b-cd08-b5ef352fea02"
      },
      "source": [
        "c1.__dict__"
      ],
      "execution_count": 41,
      "outputs": [
        {
          "output_type": "execute_result",
          "data": {
            "text/plain": [
              "{'lastname': 'kim'}"
            ]
          },
          "metadata": {
            "tags": []
          },
          "execution_count": 41
        }
      ]
    },
    {
      "cell_type": "code",
      "metadata": {
        "id": "-qHnZIVdtwc3",
        "colab_type": "code",
        "colab": {
          "base_uri": "https://localhost:8080/",
          "height": 35
        },
        "outputId": "2d28ebd8-e9da-47f7-c4f9-1cd0b7ad12db"
      },
      "source": [
        "c2.__dict__"
      ],
      "execution_count": 42,
      "outputs": [
        {
          "output_type": "execute_result",
          "data": {
            "text/plain": [
              "{}"
            ]
          },
          "metadata": {
            "tags": []
          },
          "execution_count": 42
        }
      ]
    },
    {
      "cell_type": "markdown",
      "metadata": {
        "id": "X3FJParut16Y",
        "colab_type": "text"
      },
      "source": [
        "c1 인스턴스에 lastname = \"kim\" 이라는 변수를 추가해 주었다. 그리고 `__dict__`로 확인해보면 c1은 lastname 값이 있는 반면 c2는 여전히 비어있다."
      ]
    },
    {
      "cell_type": "code",
      "metadata": {
        "id": "Uvbij8oft1Ux",
        "colab_type": "code",
        "colab": {
          "base_uri": "https://localhost:8080/",
          "height": 35
        },
        "outputId": "bb2b6b46-2ed0-4084-9ce3-03744d917fd1"
      },
      "source": [
        "print(c1.lastname, c2.lastname, Family.lastname)"
      ],
      "execution_count": 43,
      "outputs": [
        {
          "output_type": "stream",
          "text": [
            "kim 김 김\n"
          ],
          "name": "stdout"
        }
      ]
    },
    {
      "cell_type": "code",
      "metadata": {
        "id": "y1t_nA3-vtJo",
        "colab_type": "code",
        "colab": {
          "base_uri": "https://localhost:8080/",
          "height": 35
        },
        "outputId": "b93a1649-db46-4ae2-cfdf-3d1759def454"
      },
      "source": [
        "print(id(c1.lastname), id(c2.lastname), id(Family.lastname))"
      ],
      "execution_count": 44,
      "outputs": [
        {
          "output_type": "stream",
          "text": [
            "140626322960088 140626314054912 140626314054912\n"
          ],
          "name": "stdout"
        }
      ]
    },
    {
      "cell_type": "markdown",
      "metadata": {
        "id": "l7OSWWaSusy_",
        "colab_type": "text"
      },
      "source": [
        "c1 인스턴스에는 kim이 있기때문에 kim이 출력되지만 c2 인스턴스에는 아무런 값도 없는데 \"김\"이 출력되었다.\n",
        "\n",
        "**파이썬의 경우 인스턴스 네임스페이스가 비어있으면 클래스 네임스페이스로 이동하여 대신 출력되기때문이다.**\n",
        "\n",
        "이로써 id(c2.lastname)과 id(Family.lastname) 이 동일한 것이 설명된다."
      ]
    },
    {
      "cell_type": "code",
      "metadata": {
        "id": "9hm6i0bLuoKg",
        "colab_type": "code",
        "colab": {}
      },
      "source": [
        "c2.lastname = \"kim\""
      ],
      "execution_count": 0,
      "outputs": []
    },
    {
      "cell_type": "code",
      "metadata": {
        "id": "aKp43FTaxcgu",
        "colab_type": "code",
        "colab": {
          "base_uri": "https://localhost:8080/",
          "height": 35
        },
        "outputId": "74ce3775-e3d4-4cc0-ff88-7ab688323c89"
      },
      "source": [
        "c2.__dict__"
      ],
      "execution_count": 46,
      "outputs": [
        {
          "output_type": "execute_result",
          "data": {
            "text/plain": [
              "{'lastname': 'kim'}"
            ]
          },
          "metadata": {
            "tags": []
          },
          "execution_count": 46
        }
      ]
    },
    {
      "cell_type": "code",
      "metadata": {
        "id": "iAu2DuvXxee_",
        "colab_type": "code",
        "colab": {
          "base_uri": "https://localhost:8080/",
          "height": 35
        },
        "outputId": "dcbb9e9d-0c66-43df-b73e-26b457defb97"
      },
      "source": [
        "print(c1.lastname, c2.lastname, Family.lastname)"
      ],
      "execution_count": 47,
      "outputs": [
        {
          "output_type": "stream",
          "text": [
            "kim kim 김\n"
          ],
          "name": "stdout"
        }
      ]
    },
    {
      "cell_type": "code",
      "metadata": {
        "id": "VgAm7b0CzTCW",
        "colab_type": "code",
        "colab": {
          "base_uri": "https://localhost:8080/",
          "height": 35
        },
        "outputId": "3b848057-9b19-43d6-b0f7-43c3fb36385d"
      },
      "source": [
        "print(id(c1.lastname), id(c2.lastname), id(Family.lastname))"
      ],
      "execution_count": 48,
      "outputs": [
        {
          "output_type": "stream",
          "text": [
            "140626322960088 140626322960088 140626314054912\n"
          ],
          "name": "stdout"
        }
      ]
    },
    {
      "cell_type": "markdown",
      "metadata": {
        "id": "EqvAaKS0zW6U",
        "colab_type": "text"
      },
      "source": [
        "c2인스턴스에 lastname = \"kim\" 를 입력해 주니 \"김\"에서 \"kim\"으로, id 또한 c1.lastname과 동일해졌다."
      ]
    },
    {
      "cell_type": "code",
      "metadata": {
        "id": "-N4eoeTbzVz1",
        "colab_type": "code",
        "colab": {}
      },
      "source": [
        "c1.lastname = \"김\"\n",
        "c2.lastname = \"김\""
      ],
      "execution_count": 0,
      "outputs": []
    },
    {
      "cell_type": "code",
      "metadata": {
        "id": "DrSNVknGz5YX",
        "colab_type": "code",
        "colab": {
          "base_uri": "https://localhost:8080/",
          "height": 35
        },
        "outputId": "187bba68-1d4b-4e44-b89c-171cd39f0bce"
      },
      "source": [
        "c1.__dict__"
      ],
      "execution_count": 50,
      "outputs": [
        {
          "output_type": "execute_result",
          "data": {
            "text/plain": [
              "{'lastname': '김'}"
            ]
          },
          "metadata": {
            "tags": []
          },
          "execution_count": 50
        }
      ]
    },
    {
      "cell_type": "code",
      "metadata": {
        "id": "2Aq1DoNUz79K",
        "colab_type": "code",
        "colab": {
          "base_uri": "https://localhost:8080/",
          "height": 35
        },
        "outputId": "5eff67b1-290d-40dd-9dd4-e083edc7294b"
      },
      "source": [
        "c2.__dict__"
      ],
      "execution_count": 51,
      "outputs": [
        {
          "output_type": "execute_result",
          "data": {
            "text/plain": [
              "{'lastname': '김'}"
            ]
          },
          "metadata": {
            "tags": []
          },
          "execution_count": 51
        }
      ]
    },
    {
      "cell_type": "code",
      "metadata": {
        "id": "cxnuLzcXz8yP",
        "colab_type": "code",
        "colab": {
          "base_uri": "https://localhost:8080/",
          "height": 35
        },
        "outputId": "ca0c3217-af5e-4367-c3cc-7ec9f8369151"
      },
      "source": [
        "print(c1.lastname, c2.lastname, Family.lastname)"
      ],
      "execution_count": 52,
      "outputs": [
        {
          "output_type": "stream",
          "text": [
            "김 김 김\n"
          ],
          "name": "stdout"
        }
      ]
    },
    {
      "cell_type": "code",
      "metadata": {
        "id": "BcIu8jBlz_zN",
        "colab_type": "code",
        "colab": {
          "base_uri": "https://localhost:8080/",
          "height": 35
        },
        "outputId": "4b82a29e-ff32-43a9-b733-d48925f9b870"
      },
      "source": [
        "print(id(c1.lastname), id(c2.lastname), id(Family.lastname))"
      ],
      "execution_count": 53,
      "outputs": [
        {
          "output_type": "stream",
          "text": [
            "140626313682096 140626313681936 140626314054912\n"
          ],
          "name": "stdout"
        }
      ]
    },
    {
      "cell_type": "markdown",
      "metadata": {
        "id": "Pw9RlFrP0C9A",
        "colab_type": "text"
      },
      "source": [
        "모두 \"김\"으로 값이 같지만\n",
        "\n",
        "**a ~ z, A ~ Z, 0~9, _ 구성되는 경우에는 기존 id를 공유하나 이 외 문자가 추가되면 다른 id를 가진다**"
      ]
    },
    {
      "cell_type": "code",
      "metadata": {
        "id": "fL3tRIrO0BP7",
        "colab_type": "code",
        "colab": {}
      },
      "source": [
        "Family.lastname = \"kim\""
      ],
      "execution_count": 0,
      "outputs": []
    },
    {
      "cell_type": "code",
      "metadata": {
        "id": "7uQ5q8Ff07Ka",
        "colab_type": "code",
        "colab": {
          "base_uri": "https://localhost:8080/",
          "height": 107
        },
        "outputId": "95aab06d-7460-4424-a6bc-83de7d3b877f"
      },
      "source": [
        "Family.__dict__"
      ],
      "execution_count": 55,
      "outputs": [
        {
          "output_type": "execute_result",
          "data": {
            "text/plain": [
              "mappingproxy({'__dict__': <attribute '__dict__' of 'Family' objects>,\n",
              "              '__doc__': None,\n",
              "              '__module__': '__main__',\n",
              "              '__weakref__': <attribute '__weakref__' of 'Family' objects>,\n",
              "              'lastname': 'kim'})"
            ]
          },
          "metadata": {
            "tags": []
          },
          "execution_count": 55
        }
      ]
    },
    {
      "cell_type": "code",
      "metadata": {
        "id": "FcvQaZVY0-QI",
        "colab_type": "code",
        "colab": {
          "base_uri": "https://localhost:8080/",
          "height": 35
        },
        "outputId": "eb108612-4bf9-46ae-b9d4-b2317016c536"
      },
      "source": [
        "c1.__dict__"
      ],
      "execution_count": 56,
      "outputs": [
        {
          "output_type": "execute_result",
          "data": {
            "text/plain": [
              "{'lastname': '김'}"
            ]
          },
          "metadata": {
            "tags": []
          },
          "execution_count": 56
        }
      ]
    },
    {
      "cell_type": "code",
      "metadata": {
        "id": "SrVyXv2q0_3g",
        "colab_type": "code",
        "colab": {
          "base_uri": "https://localhost:8080/",
          "height": 35
        },
        "outputId": "254d3d6d-5992-43bf-8b19-99c2108cbdde"
      },
      "source": [
        "c2.__dict__"
      ],
      "execution_count": 57,
      "outputs": [
        {
          "output_type": "execute_result",
          "data": {
            "text/plain": [
              "{'lastname': '김'}"
            ]
          },
          "metadata": {
            "tags": []
          },
          "execution_count": 57
        }
      ]
    },
    {
      "cell_type": "markdown",
      "metadata": {
        "id": "1vZnyM4H1CCp",
        "colab_type": "text"
      },
      "source": [
        "다시 한번 클래스와 인스턴트의 네이밍스페이스는 별개로 저장 된다는 것을 확인하였다."
      ]
    },
    {
      "cell_type": "markdown",
      "metadata": {
        "id": "87ObbJMm21RQ",
        "colab_type": "text"
      },
      "source": [
        "참고\n",
        "\n",
        "파이썬으로 배우는 알고리즘 트레이딩 (4쇄) 지은이 : 조대표 외 1명 https://wikidocs.net/book/110"
      ]
    }
  ]
}