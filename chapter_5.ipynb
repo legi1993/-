{
  "nbformat": 4,
  "nbformat_minor": 0,
  "metadata": {
    "colab": {
      "name": "chapter 5.ipynb",
      "provenance": [],
      "collapsed_sections": []
    },
    "kernelspec": {
      "name": "python3",
      "display_name": "Python 3"
    }
  },
  "cells": [
    {
      "cell_type": "markdown",
      "metadata": {
        "id": "ro6o4mvyziPk",
        "colab_type": "text"
      },
      "source": [
        "#Q1\n",
        "---------------\n",
        "다음은 Calculator 클래스이다.\n",
        "\n",
        "```\n",
        "class Calculator:\n",
        "    def __init__(self):\n",
        "        self.value = 0\n",
        "\n",
        "    def add(self, val):\n",
        "        self.value += val\n",
        "```\n",
        "\n",
        "위 클래스를 상속하는 UpgradeCalculator를 만들고 값을 뺄 수 있는 minus 메서드를 추가해 보자. 즉 다음과 같이 동작하는 클래스를 만들어야 한다.\n",
        "\n",
        "```\n",
        "cal = UpgradeCalculator()\n",
        "cal.add(10)\n",
        "cal.minus(7)\n",
        "\n",
        "print(cal.value)\n",
        "```\n"
      ]
    },
    {
      "cell_type": "code",
      "metadata": {
        "id": "tPE3O-mq0RXm",
        "colab_type": "code",
        "colab": {}
      },
      "source": [
        "class Calculator:\n",
        "    def __init__(self):\n",
        "        self.value = 0\n",
        "\n",
        "    def add(self, val):\n",
        "        self.value += val"
      ],
      "execution_count": 0,
      "outputs": []
    },
    {
      "cell_type": "code",
      "metadata": {
        "id": "mDL942cyzepP",
        "colab_type": "code",
        "colab": {}
      },
      "source": [
        "class UpgradeCalculator(Calculator):\n",
        "    def minus(self, val):\n",
        "        self.value -= val"
      ],
      "execution_count": 0,
      "outputs": []
    },
    {
      "cell_type": "code",
      "metadata": {
        "id": "41FfywCU0XfB",
        "colab_type": "code",
        "outputId": "63801fb9-b920-4c9c-9015-9f66d1bd9467",
        "colab": {
          "base_uri": "https://localhost:8080/",
          "height": 35
        }
      },
      "source": [
        "cal = UpgradeCalculator()\n",
        "cal.add(10)\n",
        "cal.minus(7)\n",
        "\n",
        "print(cal.value)"
      ],
      "execution_count": 0,
      "outputs": [
        {
          "output_type": "stream",
          "text": [
            "3\n"
          ],
          "name": "stdout"
        }
      ]
    },
    {
      "cell_type": "markdown",
      "metadata": {
        "id": "9WOsCt0y0wTZ",
        "colab_type": "text"
      },
      "source": [
        "#Q2\n",
        "--------------\n",
        "객체변수 value가 100 이상의 값은 가질 수 없도록 제한하는 MaxLimitCalculator 클래스를 만들어 보자. 즉 다음과 같이 동작해야 한다.\n",
        "```\n",
        "cal = MaxLimitCalculator()\n",
        "cal.add(50) \n",
        "cal.add(60) \n",
        "\n",
        "print(cal.value) \n",
        "```\n",
        "단 반드시 다음과 같은 Calculator 클래스를 상속해서 만들어야 한다.\n",
        "```\n",
        "class Calculator:\n",
        "    def __init__(self):\n",
        "        self.value = 0\n",
        "\n",
        "    def add(self, val):\n",
        "        self.value += val\n",
        "```\n"
      ]
    },
    {
      "cell_type": "code",
      "metadata": {
        "id": "FLSD8h1b0acF",
        "colab_type": "code",
        "colab": {}
      },
      "source": [
        "class Calculator:\n",
        "    def __init__(self):\n",
        "        self.value = 0\n",
        "\n",
        "    def add(self, val):\n",
        "        self.value += val"
      ],
      "execution_count": 0,
      "outputs": []
    },
    {
      "cell_type": "code",
      "metadata": {
        "id": "T92JDJ2i1dFT",
        "colab_type": "code",
        "colab": {}
      },
      "source": [
        "class MaxLimitCalculator(Calculator):\n",
        "    def add(self, val):\n",
        "        self.value += val\n",
        "        if self.value > 100:\n",
        "            self.value = 100"
      ],
      "execution_count": 0,
      "outputs": []
    },
    {
      "cell_type": "code",
      "metadata": {
        "id": "iQwfCHRy1e8F",
        "colab_type": "code",
        "colab": {}
      },
      "source": [
        "cal = MaxLimitCalculator()\n",
        "cal.add(50)\n",
        "cal.add(60)"
      ],
      "execution_count": 0,
      "outputs": []
    },
    {
      "cell_type": "code",
      "metadata": {
        "id": "kseDe2kA1uc1",
        "colab_type": "code",
        "outputId": "75fad358-7180-4a8d-d0c3-4898b7496a00",
        "colab": {
          "base_uri": "https://localhost:8080/",
          "height": 35
        }
      },
      "source": [
        "print(cal.value)"
      ],
      "execution_count": 0,
      "outputs": [
        {
          "output_type": "stream",
          "text": [
            "100\n"
          ],
          "name": "stdout"
        }
      ]
    },
    {
      "cell_type": "markdown",
      "metadata": {
        "id": "1W9NgtFc14Vx",
        "colab_type": "text"
      },
      "source": [
        "#Q3\n",
        "------------\n",
        "다음 결과를 예측해 보자.\n",
        "\n",
        "하나.\n",
        "> all([1, 2, abs(-3)-3])\n",
        "\n",
        "둘\n",
        "> chr(ord('a')) == 'a'"
      ]
    },
    {
      "cell_type": "code",
      "metadata": {
        "id": "LwSxwqoI1zy3",
        "colab_type": "code",
        "outputId": "9a6a7212-a0e4-4eac-cf3a-8d25f7281606",
        "colab": {
          "base_uri": "https://localhost:8080/",
          "height": 35
        }
      },
      "source": [
        "all([1, 2, abs(-3)-3])"
      ],
      "execution_count": 0,
      "outputs": [
        {
          "output_type": "execute_result",
          "data": {
            "text/plain": [
              "False"
            ]
          },
          "metadata": {
            "tags": []
          },
          "execution_count": 11
        }
      ]
    },
    {
      "cell_type": "code",
      "metadata": {
        "id": "tHvg2Aq82EXs",
        "colab_type": "code",
        "outputId": "49412833-6cb6-42cb-f076-b8c6b15b3619",
        "colab": {
          "base_uri": "https://localhost:8080/",
          "height": 35
        }
      },
      "source": [
        "chr(ord('a')) == 'a'"
      ],
      "execution_count": 0,
      "outputs": [
        {
          "output_type": "execute_result",
          "data": {
            "text/plain": [
              "True"
            ]
          },
          "metadata": {
            "tags": []
          },
          "execution_count": 13
        }
      ]
    },
    {
      "cell_type": "markdown",
      "metadata": {
        "id": "AmcRfxcd3DhV",
        "colab_type": "text"
      },
      "source": [
        "#Q4\n",
        "--------\n",
        "filter와 lambda를 사용하여 리스트 [1, -2, 3, -5, 8, -3]에서 음수를 모두 제거해 보자."
      ]
    },
    {
      "cell_type": "code",
      "metadata": {
        "id": "-R0LISyS2c2s",
        "colab_type": "code",
        "outputId": "b91f0b19-e0b0-45cc-fc40-906a32a7d521",
        "colab": {
          "base_uri": "https://localhost:8080/",
          "height": 35
        }
      },
      "source": [
        "list(filter(lambda x:x>0, [1, -2, 3, -5, 8, -3]))"
      ],
      "execution_count": 0,
      "outputs": [
        {
          "output_type": "execute_result",
          "data": {
            "text/plain": [
              "[1, 3, 8]"
            ]
          },
          "metadata": {
            "tags": []
          },
          "execution_count": 14
        }
      ]
    },
    {
      "cell_type": "markdown",
      "metadata": {
        "id": "ffsXXeaI3aIL",
        "colab_type": "text"
      },
      "source": [
        "#Q5\n",
        "--------\n",
        "234라는 10진수의 16진수는 다음과 같이 구할 수 있다.\n",
        "\n",
        "```\n",
        " hex(234)\n",
        "'0xea'\n",
        "```\n",
        "이번에는 반대로 16진수 문자열 0xea를 10진수로 변경해 보자.\n"
      ]
    },
    {
      "cell_type": "code",
      "metadata": {
        "id": "fVOHbHFX3Yui",
        "colab_type": "code",
        "outputId": "581f758c-cf45-4d43-8e8f-b0495f570853",
        "colab": {
          "base_uri": "https://localhost:8080/",
          "height": 35
        }
      },
      "source": [
        "int('0xea', 16)"
      ],
      "execution_count": 0,
      "outputs": [
        {
          "output_type": "execute_result",
          "data": {
            "text/plain": [
              "234"
            ]
          },
          "metadata": {
            "tags": []
          },
          "execution_count": 15
        }
      ]
    },
    {
      "cell_type": "markdown",
      "metadata": {
        "id": "VCa6B-rk3qfP",
        "colab_type": "text"
      },
      "source": [
        "#Q6\n",
        "---------\n",
        "map과 lambda를 사용하여 [1, 2, 3, 4] 리스트의 각 요솟값에 3이 곱해진 리스트 [3, 6, 9, 12]를 만들어 보자."
      ]
    },
    {
      "cell_type": "code",
      "metadata": {
        "id": "5UOUQHC23pA0",
        "colab_type": "code",
        "outputId": "7abf06d1-6d44-4cad-c7ba-724ce9654033",
        "colab": {
          "base_uri": "https://localhost:8080/",
          "height": 35
        }
      },
      "source": [
        "list(map(lambda x:x*3, [1,2,3,4]))"
      ],
      "execution_count": 0,
      "outputs": [
        {
          "output_type": "execute_result",
          "data": {
            "text/plain": [
              "[3, 6, 9, 12]"
            ]
          },
          "metadata": {
            "tags": []
          },
          "execution_count": 16
        }
      ]
    },
    {
      "cell_type": "markdown",
      "metadata": {
        "id": "3oxVRtsN4ZXr",
        "colab_type": "text"
      },
      "source": [
        "#Q7\n",
        "--------\n",
        "다음 리스트의 최댓값과 최솟값의 합을 구해 보자\n",
        "\n",
        "[-8, 2, 7, 5, -3, 5, 0, 1]"
      ]
    },
    {
      "cell_type": "code",
      "metadata": {
        "id": "HD3-qoaw316c",
        "colab_type": "code",
        "outputId": "dd8100a8-8fa8-4549-853e-3fa9424116bb",
        "colab": {
          "base_uri": "https://localhost:8080/",
          "height": 35
        }
      },
      "source": [
        "a = [-8, 2, 7, 5, -3, 5, 0, 1]\n",
        "max(a) + min(a)"
      ],
      "execution_count": 0,
      "outputs": [
        {
          "output_type": "execute_result",
          "data": {
            "text/plain": [
              "-1"
            ]
          },
          "metadata": {
            "tags": []
          },
          "execution_count": 17
        }
      ]
    },
    {
      "cell_type": "markdown",
      "metadata": {
        "id": "on9c4MFi4i-w",
        "colab_type": "text"
      },
      "source": [
        "#Q8\n",
        "-----------\n",
        "17 / 3의 결과는 다음과 같다.\n",
        "```\n",
        " 17 / 3\n",
        "5.666666666666667\n",
        "```\n",
        "위와 같은 결괏값 5.666666666666667을 소숫점 4자리까지만 반올림하여 표시해 보자."
      ]
    },
    {
      "cell_type": "code",
      "metadata": {
        "id": "q8alAUgA4hbE",
        "colab_type": "code",
        "outputId": "322cfb4f-ac62-470f-d05a-273b71b2e460",
        "colab": {
          "base_uri": "https://localhost:8080/",
          "height": 35
        }
      },
      "source": [
        "round(17/3, 4)"
      ],
      "execution_count": 0,
      "outputs": [
        {
          "output_type": "execute_result",
          "data": {
            "text/plain": [
              "5.6667"
            ]
          },
          "metadata": {
            "tags": []
          },
          "execution_count": 18
        }
      ]
    },
    {
      "cell_type": "markdown",
      "metadata": {
        "id": "JkxVGZl84wBm",
        "colab_type": "text"
      },
      "source": [
        "#Q9\n",
        "---------------\n",
        "다음과 같이 실행할 때 입력값을 모두 더하여 출력하는 스크립트(C:\\doit\\myargv.py)를 작성해 보자.\n",
        "```\n",
        "C:\\> cd doit\n",
        "C:\\doit> python myargv.py 1 2 3 4 5 6 7 8 9 10\n",
        "55\n",
        "```"
      ]
    },
    {
      "cell_type": "markdown",
      "metadata": {
        "id": "zADQ9S1o_Iq7",
        "colab_type": "text"
      },
      "source": [
        "풀이\n",
        "\n",
        "txt파일에 해당 코드를 작성하고 myargv.py로 C:\\doit 해당 경로에 저장한다.\n",
        "```\n",
        "import sys\n",
        "\n",
        "numbers = sys.argv[1:]\n",
        "\n",
        "result = 0\n",
        "for number in numbers:\n",
        "    result += int(number)\n",
        "print(result)\n",
        "```\n",
        "\n",
        "그리고 파이썬을 실행한 후 \n",
        "1. cd로 경로를 설정한다.\n",
        "2. 입력값을 입력하여 실행"
      ]
    },
    {
      "cell_type": "markdown",
      "metadata": {
        "id": "HU8eVsZT6Ui_",
        "colab_type": "text"
      },
      "source": [
        "#Q10\n",
        "-------\n",
        "os 모듈을 사용하여 다음과 같이 동작하도록 코드를 작성해 보자.\n",
        "\n",
        "1. C:\\doit 디렉터리로 이동한다.\n",
        "2. dir 명령을 실행하고 그 결과를 변수에 담는다.\n",
        "3. dir 명령의 결과를 출력한다"
      ]
    },
    {
      "cell_type": "markdown",
      "metadata": {
        "id": "W0d67cYVcsUq",
        "colab_type": "text"
      },
      "source": [
        "1. os 모듈의 chdir을 사용하여 C:\\doit 이라는 디렉터리로 이동한다.\n",
        "\n",
        "```\n",
        "import os\n",
        "os.chdir(\"c:/doit\")\n",
        "```\n",
        "\n",
        "2. os 모듈의 popen을 사용하여 시스템 명령어인 dir을 수행한다.\n",
        "\n",
        "```\n",
        "result = os.popen(\"dir\")\n",
        "\n",
        "print(result.read())\n",
        "```\n",
        "...\n",
        "abc.txt\n",
        "bidusource.html\n",
        "...\n",
        "\n"
      ]
    },
    {
      "cell_type": "markdown",
      "metadata": {
        "id": "def6U8dldcZd",
        "colab_type": "text"
      },
      "source": [
        "#Q11\n",
        "-------\n",
        "glob 모듈을 사용하여 C:\\doit 디렉터리의 파일 중 확장자가 .py인 파일만 출력하는 프로그램을 작성해 보자."
      ]
    },
    {
      "cell_type": "markdown",
      "metadata": {
        "id": "fEGi-7NEdtrv",
        "colab_type": "text"
      },
      "source": [
        "풀이\n",
        "\n",
        "```\n",
        "import glob\n",
        "glob.glob(\"c:/doit/*.py\")\n",
        "['c:/doit/doit01.py', 'c:/doit/test.py']\n",
        "```"
      ]
    },
    {
      "cell_type": "markdown",
      "metadata": {
        "id": "Ba1VWO8Dd3mv",
        "colab_type": "text"
      },
      "source": [
        "#Q12\n",
        "-----------\n",
        "time 모듈을 사용하여 현재 날짜와 시간을 다음과 같은 형식으로 출력해 보자.\n",
        "\n",
        ">2018/04/03 17:20:32"
      ]
    },
    {
      "cell_type": "code",
      "metadata": {
        "id": "gscfrqW35XyV",
        "colab_type": "code",
        "colab": {}
      },
      "source": [
        "import time"
      ],
      "execution_count": 0,
      "outputs": []
    },
    {
      "cell_type": "code",
      "metadata": {
        "id": "S8tOdHhjeJp6",
        "colab_type": "code",
        "colab": {
          "base_uri": "https://localhost:8080/",
          "height": 35
        },
        "outputId": "2d3e2cab-c6b9-4bd7-cf4a-de4aaaeff649"
      },
      "source": [
        "time.strftime(\"%Y/%m/%d %H:%M:%S\")"
      ],
      "execution_count": 5,
      "outputs": [
        {
          "output_type": "execute_result",
          "data": {
            "text/plain": [
              "'2019/10/09 07:44:48'"
            ]
          },
          "metadata": {
            "tags": []
          },
          "execution_count": 5
        }
      ]
    },
    {
      "cell_type": "markdown",
      "metadata": {
        "id": "jk3F6ND5epLp",
        "colab_type": "text"
      },
      "source": [
        "#Q13\n",
        "----------\n",
        "random 모듈을 사용하여 로또 번호(1~45 사이의 숫자 6개)를 생성해 보자(단 중복된 숫자가 있으면 안 됨)."
      ]
    },
    {
      "cell_type": "code",
      "metadata": {
        "id": "aK6ygxcmefXY",
        "colab_type": "code",
        "colab": {}
      },
      "source": [
        "import random"
      ],
      "execution_count": 0,
      "outputs": []
    },
    {
      "cell_type": "code",
      "metadata": {
        "id": "GKI54Atqev4n",
        "colab_type": "code",
        "colab": {
          "base_uri": "https://localhost:8080/",
          "height": 35
        },
        "outputId": "100e737a-da3e-4071-a343-36e5df769d4a"
      },
      "source": [
        "result = []\n",
        "while len(result) < 6:\n",
        "  num = random.randint(1,45)\n",
        "  if num not in result:\n",
        "    result.append(num)\n",
        "    \n",
        "print(result)"
      ],
      "execution_count": 9,
      "outputs": [
        {
          "output_type": "stream",
          "text": [
            "[27, 4, 17, 43, 35, 45]\n"
          ],
          "name": "stdout"
        }
      ]
    },
    {
      "cell_type": "code",
      "metadata": {
        "id": "oaKlhSBef1K6",
        "colab_type": "code",
        "colab": {}
      },
      "source": [
        ""
      ],
      "execution_count": 0,
      "outputs": []
    }
  ]
}